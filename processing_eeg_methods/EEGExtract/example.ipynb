{
 "cells": [
  {
   "cell_type": "code",
   "outputs": [],
   "source": [
    "import EEGExtract as eeg\n",
    "import numpy as np\n",
    "from share import datasets_basic_infos, ROOT_VOTING_SYSTEM_PATH\n",
    "from data_loaders import load_data_labels_based_on_dataset\n"
   ],
   "metadata": {
    "ExecuteTime": {
     "end_time": "2024-04-06T20:05:28.473144200Z",
     "start_time": "2024-04-06T20:05:24.824151100Z"
    }
   },
   "execution_count": 1
  },
  {
   "cell_type": "code",
   "execution_count": 2,
   "metadata": {
    "ExecuteTime": {
     "end_time": "2024-04-06T20:05:28.485091600Z",
     "start_time": "2024-04-06T20:05:28.472140700Z"
    }
   },
   "outputs": [],
   "source": [
    "dataset_name = \"aguilera_traditional\""
   ]
  },
  {
   "cell_type": "code",
   "execution_count": 3,
   "metadata": {
    "ExecuteTime": {
     "end_time": "2024-04-06T20:05:28.712952700Z",
     "start_time": "2024-04-06T20:05:28.481873300Z"
    }
   },
   "outputs": [
    {
     "name": "stdout",
     "output_type": "stream",
     "text": [
      "Used Annotations descriptions: ['OVTK_StimulationId_Label_01', 'OVTK_StimulationId_Label_02', 'OVTK_StimulationId_Label_03', 'OVTK_StimulationId_Label_04', 'OVTK_StimulationId_Label_05']\n",
      "Not setting metadata\n",
      "120 matching events found\n",
      "Setting baseline interval to [0.0, 1.4] s\n",
      "Applying baseline correction (mode: mean)\n",
      "0 projection items activated\n",
      "Using data from preloaded Raw for 120 events and 701 original time points ...\n",
      "0 bad epochs dropped\n",
      "Not setting metadata\n",
      "120 matching events found\n",
      "No baseline correction applied\n",
      "0 projection items activated\n"
     ]
    },
    {
     "name": "stderr",
     "output_type": "stream",
     "text": [
      "C:\\Users\\rosit\\Documents\\workprojects\\bci_complete\\voting_system_platform\\processing_eeg_methods\\data_loaders.py:28: RuntimeWarning: Fiducial point nasion not found, assuming identity unknown to head transformation\n",
      "  raw.set_montage(mne.channels.read_custom_montage(channel_location))\n"
     ]
    },
    {
     "data": {
      "text/plain": "(120, 701, 24)"
     },
     "execution_count": 3,
     "metadata": {},
     "output_type": "execute_result"
    }
   ],
   "source": [
    "version_name = \"\" # To keep track what the output processing alteration went through\n",
    "\n",
    "# Folders and paths\n",
    "subject_id = 1\n",
    "dataset_foldername = dataset_name + \"_dataset\"\n",
    "computer_root_path = ROOT_VOTING_SYSTEM_PATH + \"/Datasets/\"\n",
    "data_path = computer_root_path + dataset_foldername\n",
    "dataset_info: dict = datasets_basic_infos[dataset_name]\n",
    "\n",
    "_, eegData, labels = load_data_labels_based_on_dataset(dataset_info, subject_id, data_path)\n",
    "# AFTER: 3D np array [chans x ms x epochs] \n",
    "# BEFORE: eegData: 3D np array [epochs x chans x ms] \n",
    "eegData = np.transpose(eegData, (0, 2, 1))\n",
    "eegData.shape"
   ]
  },
  {
   "cell_type": "code",
   "execution_count": 4,
   "metadata": {
    "ExecuteTime": {
     "end_time": "2024-04-06T20:05:28.734452400Z",
     "start_time": "2024-04-06T20:05:28.715055800Z"
    }
   },
   "outputs": [],
   "source": [
    "fs = dataset_info[\"sample_rate\"]"
   ]
  },
  {
   "cell_type": "code",
   "execution_count": 5,
   "metadata": {
    "ExecuteTime": {
     "end_time": "2024-04-06T20:05:28.771894900Z",
     "start_time": "2024-04-06T20:05:28.729977600Z"
    }
   },
   "outputs": [],
   "source": [
    "feature_list = []"
   ]
  },
  {
   "cell_type": "markdown",
   "metadata": {},
   "source": [
    "## Complexity Features"
   ]
  },
  {
   "cell_type": "code",
   "execution_count": 6,
   "metadata": {
    "ExecuteTime": {
     "end_time": "2024-04-06T20:05:28.850643900Z",
     "start_time": "2024-04-06T20:05:28.745211800Z"
    }
   },
   "outputs": [],
   "source": [
    "#Shannon Entropy\n",
    "ShannonRes = eeg.shannonEntropy(eegData, bin_min=-200, bin_max=200, binWidth=2)"
   ]
  },
  {
   "cell_type": "code",
   "execution_count": 7,
   "metadata": {
    "ExecuteTime": {
     "end_time": "2024-04-06T20:05:28.866972900Z",
     "start_time": "2024-04-06T20:05:28.851645500Z"
    }
   },
   "outputs": [],
   "source": [
    "#Tsalis Entropy (n=10)\n",
    "# tsalisRes = eeg.tsalisEntropy(eegData, bin_min=-200, bin_max=200, binWidth=2, orders=list(range(1,10+1)))"
   ]
  },
  {
   "cell_type": "code",
   "execution_count": 8,
   "metadata": {
    "ExecuteTime": {
     "end_time": "2024-04-06T20:05:29.304233600Z",
     "start_time": "2024-04-06T20:05:28.869068200Z"
    }
   },
   "outputs": [],
   "source": [
    "# Subband Information Quantity\n",
    "# delta (0.5–4 Hz)\n",
    "eegData_delta = eeg.filt_data(eegData, 0.5, 4, fs)\n",
    "ShannonRes_delta = eeg.shannonEntropy(eegData_delta, bin_min=-200, bin_max=200, binWidth=2)\n",
    "# theta (4–8 Hz)\n",
    "eegData_theta = eeg.filt_data(eegData, 4, 8, fs)\n",
    "ShannonRes_theta = eeg.shannonEntropy(eegData_theta, bin_min=-200, bin_max=200, binWidth=2)\n",
    "# alpha (8–12 Hz)\n",
    "eegData_alpha = eeg.filt_data(eegData, 8, 12, fs)\n",
    "ShannonRes_alpha = eeg.shannonEntropy(eegData_alpha, bin_min=-200, bin_max=200, binWidth=2)\n",
    "# beta (12–30 Hz)\n",
    "eegData_beta = eeg.filt_data(eegData, 12, 30, fs)\n",
    "ShannonRes_beta = eeg.shannonEntropy(eegData_beta, bin_min=-200, bin_max=200, binWidth=2)\n",
    "# gamma (30–100 Hz)\n",
    "eegData_gamma = eeg.filt_data(eegData, 30, 100, fs)\n",
    "#ShannonRes_gamma = eeg.shannonEntropy(eegData_gamma, bin_min=-200, bin_max=200, binWidth=2)"
   ]
  },
  {
   "cell_type": "code",
   "execution_count": 9,
   "metadata": {
    "ExecuteTime": {
     "end_time": "2024-04-06T20:05:29.322249900Z",
     "start_time": "2024-04-06T20:05:29.307163100Z"
    }
   },
   "outputs": [],
   "source": [
    "# Cepstrum Coefficients (n=2)\n",
    "# CepstrumRes = eeg.mfcc(eegData=eegData, fs=fs,order=2)"
   ]
  },
  {
   "cell_type": "code",
   "execution_count": 10,
   "metadata": {
    "ExecuteTime": {
     "end_time": "2024-04-06T20:05:29.339328700Z",
     "start_time": "2024-04-06T20:05:29.323378600Z"
    }
   },
   "outputs": [],
   "source": [
    "# Lyapunov Exponent\n",
    "# LyapunovRes = eeg.lyapunov(eegData)"
   ]
  },
  {
   "cell_type": "code",
   "execution_count": 11,
   "metadata": {
    "ExecuteTime": {
     "end_time": "2024-04-06T20:05:29.363816600Z",
     "start_time": "2024-04-06T20:05:29.338133400Z"
    }
   },
   "outputs": [],
   "source": [
    "# Fractal Embedding Dimension\n",
    "# HiguchiFD_Res  = eeg.hFD(eegData[0,:,0],3)"
   ]
  },
  {
   "cell_type": "code",
   "execution_count": 12,
   "metadata": {
    "ExecuteTime": {
     "end_time": "2024-04-06T20:05:29.380046700Z",
     "start_time": "2024-04-06T20:05:29.355297800Z"
    }
   },
   "outputs": [],
   "source": [
    "# Hjorth Mobility\n",
    "# Hjorth Complexity\n",
    "# HjorthMob, HjorthComp = eeg.hjorthParameters(eegData)"
   ]
  },
  {
   "cell_type": "code",
   "execution_count": 13,
   "metadata": {
    "ExecuteTime": {
     "end_time": "2024-04-06T20:05:29.390744Z",
     "start_time": "2024-04-06T20:05:29.370291300Z"
    }
   },
   "outputs": [],
   "source": [
    "# False Nearest Neighbor\n",
    "# FalseNnRes = eeg.falseNearestNeighbor(eegData)"
   ]
  },
  {
   "cell_type": "code",
   "execution_count": 14,
   "metadata": {
    "ExecuteTime": {
     "end_time": "2024-04-06T20:05:29.405469600Z",
     "start_time": "2024-04-06T20:05:29.386160100Z"
    }
   },
   "outputs": [],
   "source": [
    "# ARMA Coefficients (n=2)\n",
    "# armaRes = eeg.arma(eegData,order=2)"
   ]
  },
  {
   "cell_type": "markdown",
   "metadata": {},
   "source": [
    "## Category Features"
   ]
  },
  {
   "cell_type": "code",
   "execution_count": 15,
   "metadata": {
    "ExecuteTime": {
     "end_time": "2024-04-06T20:05:29.491736800Z",
     "start_time": "2024-04-06T20:05:29.401123200Z"
    }
   },
   "outputs": [],
   "source": [
    "# Median Frequency\n",
    "medianFreqRes = eeg.medianFreq(eegData,fs)"
   ]
  },
  {
   "cell_type": "code",
   "execution_count": 16,
   "metadata": {
    "ExecuteTime": {
     "end_time": "2024-04-06T20:05:29.758024100Z",
     "start_time": "2024-04-06T20:05:29.491736800Z"
    }
   },
   "outputs": [],
   "source": [
    "# δ band Power\n",
    "bandPwr_delta = eeg.bandPower(eegData, 0.5, 4, fs)\n",
    "# θ band Power\n",
    "bandPwr_theta = eeg.bandPower(eegData, 4, 8, fs)\n",
    "# α band Power\n",
    "bandPwr_alpha = eeg.bandPower(eegData, 8, 12, fs)\n",
    "# β band Power\n",
    "bandPwr_beta = eeg.bandPower(eegData, 12, 30, fs)\n",
    "# γ band Power\n",
    "#bandPwr_gamma = eeg.bandPower(eegData, 30, 100, fs)"
   ]
  },
  {
   "cell_type": "code",
   "execution_count": 17,
   "metadata": {
    "ExecuteTime": {
     "end_time": "2024-04-06T20:05:29.774586300Z",
     "start_time": "2024-04-06T20:05:29.759049600Z"
    }
   },
   "outputs": [],
   "source": [
    "# Standard Deviation\n",
    "std_res = eeg.eegStd(eegData)"
   ]
  },
  {
   "cell_type": "code",
   "execution_count": 18,
   "metadata": {
    "ExecuteTime": {
     "end_time": "2024-04-06T20:05:29.947160500Z",
     "start_time": "2024-04-06T20:05:29.775669600Z"
    }
   },
   "outputs": [],
   "source": [
    "# α/δ Ratio\n",
    "ratio_res = eeg.eegRatio(eegData,fs)"
   ]
  },
  {
   "cell_type": "code",
   "execution_count": 19,
   "metadata": {
    "ExecuteTime": {
     "end_time": "2024-04-06T20:05:30.073531300Z",
     "start_time": "2024-04-06T20:05:29.948192800Z"
    }
   },
   "outputs": [],
   "source": [
    "# Regularity (burst-suppression)\n",
    "regularity_res = eeg.eegRegularity(eegData,fs)"
   ]
  },
  {
   "cell_type": "code",
   "execution_count": 20,
   "metadata": {
    "ExecuteTime": {
     "end_time": "2024-04-06T20:05:30.132831800Z",
     "start_time": "2024-04-06T20:05:30.072321400Z"
    }
   },
   "outputs": [],
   "source": [
    "# Voltage < 5μ\n",
    "volt05_res = eeg.eegVoltage(eegData,voltage=5)\n",
    "# Voltage < 10μ\n",
    "volt10_res = eeg.eegVoltage(eegData,voltage=10)\n",
    "# Voltage < 20μ\n",
    "volt20_res = eeg.eegVoltage(eegData,voltage=20)"
   ]
  },
  {
   "cell_type": "code",
   "execution_count": 21,
   "metadata": {
    "ExecuteTime": {
     "end_time": "2024-04-06T20:05:30.148634200Z",
     "start_time": "2024-04-06T20:05:30.133954500Z"
    }
   },
   "outputs": [],
   "source": [
    "# Diffuse Slowing\n",
    "df_res = eeg.diffuseSlowing(eegData)"
   ]
  },
  {
   "cell_type": "code",
   "execution_count": 22,
   "metadata": {
    "ExecuteTime": {
     "end_time": "2024-04-06T20:05:30.301229Z",
     "start_time": "2024-04-06T20:05:30.146374800Z"
    }
   },
   "outputs": [],
   "source": [
    "# Spikes\n",
    "minNumSamples = int(70*fs/1000)\n",
    "spikeNum_res = eeg.spikeNum(eegData,minNumSamples)"
   ]
  },
  {
   "cell_type": "code",
   "execution_count": 23,
   "metadata": {
    "ExecuteTime": {
     "end_time": "2024-04-06T20:05:30.468472500Z",
     "start_time": "2024-04-06T20:05:30.302267300Z"
    }
   },
   "outputs": [],
   "source": [
    "# Delta burst after Spike\n",
    "deltaBurst_res = eeg.burstAfterSpike(eegData,eegData_delta,minNumSamples=7,stdAway = 3)"
   ]
  },
  {
   "cell_type": "code",
   "execution_count": 24,
   "metadata": {
    "ExecuteTime": {
     "end_time": "2024-04-06T20:05:30.724538700Z",
     "start_time": "2024-04-06T20:05:30.468914Z"
    }
   },
   "outputs": [],
   "source": [
    "# Sharp spike\n",
    "sharpSpike_res = eeg.shortSpikeNum(eegData,minNumSamples)"
   ]
  },
  {
   "cell_type": "code",
   "execution_count": 25,
   "metadata": {
    "ExecuteTime": {
     "end_time": "2024-04-06T20:05:32.649662300Z",
     "start_time": "2024-04-06T20:05:30.732487600Z"
    }
   },
   "outputs": [],
   "source": [
    "# Number of Bursts\n",
    "numBursts_res = eeg.numBursts(eegData,fs)"
   ]
  },
  {
   "cell_type": "code",
   "execution_count": 26,
   "metadata": {
    "ExecuteTime": {
     "end_time": "2024-04-06T20:05:34.638299600Z",
     "start_time": "2024-04-06T20:05:32.651763700Z"
    }
   },
   "outputs": [
    {
     "name": "stderr",
     "output_type": "stream",
     "text": [
      "C:\\Users\\rosit\\Documents\\workprojects\\bci_complete\\venv_bci\\lib\\site-packages\\numpy\\core\\fromnumeric.py:3504: RuntimeWarning: Mean of empty slice.\n",
      "  return _methods._mean(a, axis=axis, dtype=dtype,\n",
      "C:\\Users\\rosit\\Documents\\workprojects\\bci_complete\\venv_bci\\lib\\site-packages\\numpy\\core\\_methods.py:206: RuntimeWarning: Degrees of freedom <= 0 for slice\n",
      "  ret = _var(a, axis=axis, dtype=dtype, out=out, ddof=ddof,\n"
     ]
    }
   ],
   "source": [
    "# Burst length μ and σ\n",
    "burstLenMean_res,burstLenStd_res = eeg.burstLengthStats(eegData,fs)"
   ]
  },
  {
   "cell_type": "code",
   "execution_count": 27,
   "metadata": {
    "ExecuteTime": {
     "end_time": "2024-04-06T20:05:36.571083Z",
     "start_time": "2024-04-06T20:05:34.641710800Z"
    }
   },
   "outputs": [],
   "source": [
    "# Burst Band Power for δ\n",
    "burstBandPwrAlpha = eeg.burstBandPowers(eegData, 0.5, 4, fs)"
   ]
  },
  {
   "cell_type": "code",
   "execution_count": 28,
   "metadata": {
    "ExecuteTime": {
     "end_time": "2024-04-06T20:05:38.490694500Z",
     "start_time": "2024-04-06T20:05:36.573877300Z"
    }
   },
   "outputs": [],
   "source": [
    "# Number of Suppressions\n",
    "numSupps_res = eeg.numSuppressions(eegData,fs)"
   ]
  },
  {
   "cell_type": "code",
   "execution_count": 29,
   "metadata": {
    "ExecuteTime": {
     "end_time": "2024-04-06T20:05:40.438067400Z",
     "start_time": "2024-04-06T20:05:38.493675800Z"
    }
   },
   "outputs": [],
   "source": [
    "# Suppression length μ and σ\n",
    "suppLenMean_res,suppLenStd_res = eeg.suppressionLengthStats(eegData,fs)"
   ]
  },
  {
   "cell_type": "markdown",
   "metadata": {},
   "source": [
    "##    Connectivity features"
   ]
  },
  {
   "cell_type": "code",
   "execution_count": 30,
   "metadata": {
    "ExecuteTime": {
     "end_time": "2024-04-06T20:06:12.534408200Z",
     "start_time": "2024-04-06T20:05:40.439105300Z"
    }
   },
   "outputs": [],
   "source": [
    "# Coherence - δ\n",
    "coherence_res = eeg.coherence(eegData,fs)"
   ]
  },
  {
   "cell_type": "code",
   "execution_count": 31,
   "metadata": {
    "ExecuteTime": {
     "end_time": "2024-04-06T20:06:12.549232400Z",
     "start_time": "2024-04-06T20:06:12.535449500Z"
    }
   },
   "outputs": [],
   "source": [
    "#import importlib\n",
    "#importlib.reload(eeg)"
   ]
  },
  {
   "cell_type": "code",
   "execution_count": 32,
   "metadata": {
    "ExecuteTime": {
     "end_time": "2024-04-06T20:06:12.572024500Z",
     "start_time": "2024-04-06T20:06:12.550363Z"
    }
   },
   "outputs": [],
   "source": [
    "feature_list = []\n",
    "feature_list.append(ShannonRes)\n",
    "feature_list.append(ShannonRes_delta)\n",
    "feature_list.append(ShannonRes_theta)\n",
    "feature_list.append(ShannonRes_alpha)\n",
    "feature_list.append(ShannonRes_beta)\n",
    "#feature_list.append(ShannonRes_gamma)\n",
    "\n",
    "feature_list.append(bandPwr_delta)\n",
    "feature_list.append(bandPwr_theta)\n",
    "feature_list.append(bandPwr_alpha)\n",
    "feature_list.append(bandPwr_beta)\n",
    "#feature_list.append(bandPwr_gamma)\n",
    "\n",
    "feature_list.append(std_res)\n",
    "feature_list.append(ratio_res)\n",
    "feature_list.append(regularity_res)\n",
    "feature_list.append(volt05_res)\n",
    "feature_list.append(volt10_res)\n",
    "feature_list.append(volt20_res)\n",
    "feature_list.append(df_res) # all 0\n",
    "feature_list.append(spikeNum_res) # all 0\n",
    "feature_list.append(deltaBurst_res)\n",
    "feature_list.append(sharpSpike_res)\n",
    "feature_list.append(numBursts_res)\n",
    "feature_list.append(burstLenMean_res)\n",
    "feature_list.append(burstLenStd_res)\n",
    "feature_list.append(numSupps_res)\n",
    "feature_list.append(coherence_res)"
   ]
  },
  {
   "cell_type": "code",
   "execution_count": 33,
   "metadata": {
    "ExecuteTime": {
     "end_time": "2024-04-06T20:06:13.054699300Z",
     "start_time": "2024-04-06T20:06:12.567404300Z"
    }
   },
   "outputs": [
    {
     "ename": "ValueError",
     "evalue": "setting an array element with a sequence. The requested array has an inhomogeneous shape after 1 dimensions. The detected shape was (24,) + inhomogeneous part.",
     "output_type": "error",
     "traceback": [
      "\u001B[1;31m---------------------------------------------------------------------------\u001B[0m",
      "\u001B[1;31mValueError\u001B[0m                                Traceback (most recent call last)",
      "Cell \u001B[1;32mIn[33], line 1\u001B[0m\n\u001B[1;32m----> 1\u001B[0m feature_arr  \u001B[38;5;241m=\u001B[39m \u001B[43mnp\u001B[49m\u001B[38;5;241;43m.\u001B[39;49m\u001B[43marray\u001B[49m\u001B[43m(\u001B[49m\u001B[43mfeature_list\u001B[49m\u001B[43m)\u001B[49m\n\u001B[0;32m      2\u001B[0m feature_arr \u001B[38;5;241m=\u001B[39m np\u001B[38;5;241m.\u001B[39mtranspose(feature_arr, (\u001B[38;5;241m1\u001B[39m, \u001B[38;5;241m0\u001B[39m, \u001B[38;5;241m2\u001B[39m))\n\u001B[0;32m      3\u001B[0m feature_arr\u001B[38;5;241m.\u001B[39mshape\n",
      "\u001B[1;31mValueError\u001B[0m: setting an array element with a sequence. The requested array has an inhomogeneous shape after 1 dimensions. The detected shape was (24,) + inhomogeneous part."
     ]
    }
   ],
   "source": [
    "feature_arr  = np.array(feature_list)\n",
    "feature_arr = np.transpose(feature_arr, (1, 0, 2))\n",
    "feature_arr.shape"
   ]
  },
  {
   "cell_type": "code",
   "outputs": [],
   "source": [
    "len(feature_list)"
   ],
   "metadata": {
    "collapsed": false,
    "ExecuteTime": {
     "end_time": "2024-04-06T20:06:13.063520700Z",
     "start_time": "2024-04-06T20:06:13.060940900Z"
    }
   },
   "execution_count": null
  },
  {
   "cell_type": "code",
   "execution_count": null,
   "metadata": {
    "ExecuteTime": {
     "start_time": "2024-04-06T20:06:13.061975900Z"
    }
   },
   "outputs": [],
   "source": [
    "# # https://pyod.readthedocs.io/en/latest/pyod.models.html\n",
    "# from pyod import models\n",
    "# from pyod.models import hbos,auto_encoder,lof,so_gaal,lscp,vae,abod,ocsvm,xgbod,pca\n",
    "# clf = hbos.HBOS(n_bins=17, alpha=0.07, tol=0.5,contamination=.15)\n",
    "# clf.fit(feature_arr)"
   ]
  },
  {
   "cell_type": "code",
   "execution_count": null,
   "metadata": {
    "ExecuteTime": {
     "start_time": "2024-04-06T20:06:13.063007800Z"
    }
   },
   "outputs": [],
   "source": [
    "from data_utils import get_best_classificator_and_test_accuracy, ClfSwitcher\n",
    "from sklearn.pipeline import Pipeline\n",
    "from pyriemann.estimation import ERPCovariances, XdawnCovariances, Covariances\n",
    "from pyriemann.tangentspace import TangentSpace\n",
    "\n",
    "classifier_list = []\n",
    "accuracy_list = []\n",
    "for feature_array in feature_list:\n",
    "    individual_classifier, individual_acc = get_best_classificator_and_test_accuracy(feature_array, labels, Pipeline([('clf', ClfSwitcher())]))"
   ]
  },
  {
   "cell_type": "code",
   "outputs": [],
   "source": [
    "# cohen_kappa_score(artifacts, clf.labels_) # Interesting"
   ],
   "metadata": {
    "collapsed": false,
    "ExecuteTime": {
     "end_time": "2024-04-06T20:06:13.064703400Z",
     "start_time": "2024-04-06T20:06:13.063520700Z"
    }
   },
   "execution_count": null
  }
 ],
 "metadata": {
  "kernelspec": {
   "display_name": "Python 3",
   "language": "python",
   "name": "python3"
  },
  "language_info": {
   "codemirror_mode": {
    "name": "ipython",
    "version": 3
   },
   "file_extension": ".py",
   "mimetype": "text/x-python",
   "name": "python",
   "nbconvert_exporter": "python",
   "pygments_lexer": "ipython3",
   "version": "3.7.4"
  }
 },
 "nbformat": 4,
 "nbformat_minor": 2
}
