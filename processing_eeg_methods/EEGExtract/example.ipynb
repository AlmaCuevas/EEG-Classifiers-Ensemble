{
 "cells": [
  {
   "cell_type": "code",
   "execution_count": 20,
   "metadata": {},
   "outputs": [],
   "source": [
    "import EEGExtract as eeg\n",
    "import glob\n",
    "import numpy as np"
   ]
  },
  {
   "cell_type": "code",
   "execution_count": 131,
   "metadata": {},
   "outputs": [],
   "source": [
    "# Export data from the BCI Competition Dataset IV 2a dataset\n",
    "# Code used from https://github.com/bregydoc/bcidatasetIV2a\n",
    "class MotorImageryDataset:\n",
    "    def __init__(self, dataset='A01T.npz'):\n",
    "        if not dataset.endswith('.npz'):\n",
    "            dataset += '.npz'\n",
    "\n",
    "        self.data = np.load(dataset)\n",
    "\n",
    "        self.Fs = 250 # 250Hz from original paper\n",
    "\n",
    "        # keys of data ['s', 'etyp', 'epos', 'edur', 'artifacts']\n",
    "        self.raw = self.data['s'].T\n",
    "        self.events_type = self.data['etyp'].T\n",
    "        self.events_position = self.data['epos'].T\n",
    "        self.events_duration = self.data['edur'].T\n",
    "        self.artifacts = self.data['artifacts'].T\n",
    "\n",
    "        # Types of motor imagery\n",
    "        self.mi_types = {769: 'left', 770: 'right', 771: 'foot',\n",
    "                         772: 'tongue', 783: 'unknown', 1023:'rejected'}\n",
    "\n",
    "    def get_trials_from_channel(self):\n",
    "\n",
    "        # Channel default is C3\n",
    "        startrial_code = 768\n",
    "        starttrial_events = self.events_type == startrial_code\n",
    "        idxs = [i for i, x in enumerate(starttrial_events[0]) if x]\n",
    "\n",
    "        trials = []\n",
    "        classes = []\n",
    "        artifacts = []\n",
    "        for ii, index in enumerate(idxs):\n",
    "            type_e = self.events_type[0, index+1]\n",
    "            if type_e not in self.mi_types.keys():\n",
    "                continue\n",
    "            class_e = self.mi_types[type_e]\n",
    "            if class_e == 'unknown':\n",
    "                continue\n",
    "            classes.append(type_e-769)\n",
    "\n",
    "            start = self.events_position[0, index] + 0.5 * self.Fs\n",
    "            stop = start + self.events_duration[0, index]\n",
    "            if stop < start + 2* self.Fs:\n",
    "                print(stop,start + 2* self.Fs)\n",
    "                raise '(MotorImageryDataset error): EEG is shorter than 2 sec'\n",
    "            trial = self.raw[0:22, int(start):int(start + 2* self.Fs)]\n",
    "            trials.append(trial)\n",
    "            artifacts.append(self.artifacts[0,ii])\n",
    "        return trials, classes, artifacts"
   ]
  },
  {
   "cell_type": "code",
   "execution_count": 132,
   "metadata": {},
   "outputs": [],
   "source": [
    "trials = []\n",
    "classes = []\n",
    "artifacts = []\n",
    "for file in glob.glob('../bcidatasetIV2a/*.npz'):\n",
    "    datasetA1 = MotorImageryDataset(file)\n",
    "    # trials contains the N valid trials, and clases its related class.\n",
    "    tmp_trials, tmp_classes, tmp_artifacts = datasetA1.get_trials_from_channel()\n",
    "    trials.extend(tmp_trials)\n",
    "    classes.extend(tmp_classes)\n",
    "    artifacts.extend(tmp_artifacts)"
   ]
  },
  {
   "cell_type": "code",
   "execution_count": 133,
   "metadata": {},
   "outputs": [],
   "source": [
    "eegData = np.dstack(trials)"
   ]
  },
  {
   "cell_type": "code",
   "execution_count": 134,
   "metadata": {},
   "outputs": [],
   "source": [
    "fs = 250"
   ]
  },
  {
   "cell_type": "code",
   "execution_count": 135,
   "metadata": {},
   "outputs": [
    {
     "data": {
      "text/plain": [
       "(22, 500, 2816)"
      ]
     },
     "execution_count": 135,
     "metadata": {},
     "output_type": "execute_result"
    }
   ],
   "source": [
    "# eegData: 3D np array [chans x ms x epochs] \n",
    "eegData.shape"
   ]
  },
  {
   "cell_type": "code",
   "execution_count": 136,
   "metadata": {},
   "outputs": [],
   "source": [
    "feature_list = []"
   ]
  },
  {
   "cell_type": "markdown",
   "metadata": {},
   "source": [
    "## Complexity Features"
   ]
  },
  {
   "cell_type": "code",
   "execution_count": 139,
   "metadata": {},
   "outputs": [],
   "source": [
    "#Shannon Entropy\n",
    "ShannonRes = eeg.shannonEntropy(eegData, bin_min=-200, bin_max=200, binWidth=2)"
   ]
  },
  {
   "cell_type": "code",
   "execution_count": null,
   "metadata": {},
   "outputs": [],
   "source": [
    "#Tsalis Entropy (n=10)\n",
    "tsalisRes = eeg.tsalisEntropy(eegData, bin_min=-200, bin_max=200, binWidth=2,list(range(1,10+1)))"
   ]
  },
  {
   "cell_type": "code",
   "execution_count": 9,
   "metadata": {},
   "outputs": [],
   "source": [
    "# Subband Information Quantity\n",
    "# delta (0.5–4 Hz)\n",
    "eegData_delta = eeg.filt_data(eegData, 0.5, 4, fs)\n",
    "ShannonRes_delta = eeg.shannonEntropy(eegData_delta, bin_min=-200, bin_max=200, binWidth=2)\n",
    "# theta (4–8 Hz)\n",
    "eegData_theta = eeg.filt_data(eegData, 4, 8, fs)\n",
    "ShannonRes_theta = eeg.shannonEntropy(eegData_theta, bin_min=-200, bin_max=200, binWidth=2)\n",
    "# alpha (8–12 Hz)\n",
    "eegData_alpha = eeg.filt_data(eegData, 8, 12, fs)\n",
    "ShannonRes_alpha = eeg.shannonEntropy(eegData_alpha, bin_min=-200, bin_max=200, binWidth=2)\n",
    "# beta (12–30 Hz)\n",
    "eegData_beta = eeg.filt_data(eegData, 12, 30, fs)\n",
    "ShannonRes_beta = eeg.shannonEntropy(eegData_beta, bin_min=-200, bin_max=200, binWidth=2)\n",
    "# gamma (30–100 Hz)\n",
    "eegData_gamma = eeg.filt_data(eegData, 30, 100, fs)\n",
    "ShannonRes_gamma = eeg.shannonEntropy(eegData_gamma, bin_min=-200, bin_max=200, binWidth=2)"
   ]
  },
  {
   "cell_type": "code",
   "execution_count": null,
   "metadata": {},
   "outputs": [],
   "source": [
    "# Cepstrum Coefficients (n=2)\n",
    "CepstrumRes = eeg.mfcc(eegData, fs,order=2)"
   ]
  },
  {
   "cell_type": "code",
   "execution_count": 10,
   "metadata": {},
   "outputs": [],
   "source": [
    "# Lyapunov Exponent\n",
    "LyapunovRes = eeg.lyapunov(eegData)"
   ]
  },
  {
   "cell_type": "code",
   "execution_count": 11,
   "metadata": {},
   "outputs": [
    {
     "name": "stderr",
     "output_type": "stream",
     "text": [
      "/home/sarisadiya/Projects/ECC/EEGExtract/EEGExtract.py:256: FutureWarning: `rcond` parameter will change to the default of machine precision times ``max(M, N)`` where M and N are the input matrix dimensions.\n",
      "To use the future default and silence this warning we advise to pass `rcond=None`, to keep using the old, explicitly pass `rcond=-1`.\n",
      "  (p, r1, r2, s)=np.linalg.lstsq(x, L)\n"
     ]
    }
   ],
   "source": [
    "# Fractal Embedding Dimension\n",
    "HiguchiFD_Res  = eeg.hFD(eegData[0,:,0],3)"
   ]
  },
  {
   "cell_type": "code",
   "execution_count": 31,
   "metadata": {},
   "outputs": [],
   "source": [
    "# Hjorth Mobility\n",
    "# Hjorth Complexity\n",
    "HjorthMob, HjorthComp = eeg.hjorthParameters(eegData)"
   ]
  },
  {
   "cell_type": "code",
   "execution_count": 32,
   "metadata": {},
   "outputs": [],
   "source": [
    "# False Nearest Neighbor\n",
    "FalseNnRes = eeg.falseNearestNeighbor(eegData)"
   ]
  },
  {
   "cell_type": "code",
   "execution_count": null,
   "metadata": {},
   "outputs": [],
   "source": [
    "# ARMA Coefficients (n=2)\n",
    "armaRes = eeg.arma(eegData,order=2)"
   ]
  },
  {
   "cell_type": "markdown",
   "metadata": {},
   "source": [
    "## Category Features"
   ]
  },
  {
   "cell_type": "code",
   "execution_count": 7,
   "metadata": {},
   "outputs": [],
   "source": [
    "# Median Frequency\n",
    "medianFreqRes = eeg.medianFreq(eegData,fs)"
   ]
  },
  {
   "cell_type": "code",
   "execution_count": 15,
   "metadata": {},
   "outputs": [],
   "source": [
    "# δ band Power\n",
    "bandPwr_delta = eeg.bandPower(eegData, 0.5, 4, fs)\n",
    "# θ band Power\n",
    "bandPwr_theta = eeg.bandPower(eegData, 4, 8, fs)\n",
    "# α band Power\n",
    "bandPwr_alpha = eeg.bandPower(eegData, 8, 12, fs)\n",
    "# β band Power\n",
    "bandPwr_beta = eeg.bandPower(eegData, 12, 30, fs)\n",
    "# γ band Power\n",
    "bandPwr_gamma = eeg.bandPower(eegData, 30, 100, fs)"
   ]
  },
  {
   "cell_type": "code",
   "execution_count": 17,
   "metadata": {},
   "outputs": [],
   "source": [
    "# Standard Deviation\n",
    "std_res = eeg.eegStd(eegData)"
   ]
  },
  {
   "cell_type": "code",
   "execution_count": 42,
   "metadata": {},
   "outputs": [],
   "source": [
    "# α/δ Ratio\n",
    "ratio_res = eeg.eegRatio(eegData,fs)"
   ]
  },
  {
   "cell_type": "code",
   "execution_count": 124,
   "metadata": {},
   "outputs": [],
   "source": [
    "# Regularity (burst-suppression)\n",
    "regularity_res = eeg.eegRegularity(eegData,fs)"
   ]
  },
  {
   "cell_type": "code",
   "execution_count": 125,
   "metadata": {},
   "outputs": [],
   "source": [
    "# Voltage < 5μ\n",
    "volt05_res = eeg.eegVoltage(eegData,voltage=5)\n",
    "# Voltage < 10μ\n",
    "volt10_res = eeg.eegVoltage(eegData,voltage=10)\n",
    "# Voltage < 20μ\n",
    "volt20_res = eeg.eegVoltage(eegData,voltage=20)"
   ]
  },
  {
   "cell_type": "code",
   "execution_count": 126,
   "metadata": {},
   "outputs": [],
   "source": [
    "# Diffuse Slowing\n",
    "df_res = eeg.diffuseSlowing(eegData)"
   ]
  },
  {
   "cell_type": "code",
   "execution_count": 166,
   "metadata": {},
   "outputs": [],
   "source": [
    "# Spikes\n",
    "minNumSamples = int(70*fs/1000)\n",
    "spikeNum_res = eeg.spikeNum(eegData,minNumSamples)"
   ]
  },
  {
   "cell_type": "code",
   "execution_count": 147,
   "metadata": {},
   "outputs": [],
   "source": [
    "# Delta burst after Spike\n",
    "deltaBurst_res = eeg.burstAfterSpike(eegData,eegData_delta,minNumSamples=7,stdAway = 3)"
   ]
  },
  {
   "cell_type": "code",
   "execution_count": 170,
   "metadata": {},
   "outputs": [],
   "source": [
    "# Sharp spike\n",
    "sharpSpike_res = eeg.shortSpikeNum(eegData,minNumSamples)"
   ]
  },
  {
   "cell_type": "code",
   "execution_count": 184,
   "metadata": {},
   "outputs": [],
   "source": [
    "# Number of Bursts\n",
    "numBursts_res = eeg.numBursts(eegData,fs)"
   ]
  },
  {
   "cell_type": "code",
   "execution_count": 204,
   "metadata": {},
   "outputs": [],
   "source": [
    "# Burst length μ and σ\n",
    "burstLenMean_res,burstLenStd_res = eeg.burstLengthStats(eegData,fs)"
   ]
  },
  {
   "cell_type": "code",
   "execution_count": 256,
   "metadata": {},
   "outputs": [],
   "source": [
    "# Burst Band Power for δ\n",
    "burstBandPwrAlpha = eeg.burstBandPowers(eegData, 0.5, 4, fs)"
   ]
  },
  {
   "cell_type": "code",
   "execution_count": 300,
   "metadata": {},
   "outputs": [],
   "source": [
    "# Number of Suppressions\n",
    "numSupps_res = eeg.numSuppressions(eegData,fs)"
   ]
  },
  {
   "cell_type": "code",
   "execution_count": 319,
   "metadata": {},
   "outputs": [],
   "source": [
    "# Suppression length μ and σ\n",
    "suppLenMean_res,suppLenStd_res = eeg.suppressionLengthStats(eegData,fs)"
   ]
  },
  {
   "cell_type": "markdown",
   "metadata": {},
   "source": [
    "##    Connectivity features"
   ]
  },
  {
   "cell_type": "code",
   "execution_count": 361,
   "metadata": {},
   "outputs": [],
   "source": [
    "# Coherence - δ\n",
    "coherence_res = eeg.coherence(eegData,fs)"
   ]
  },
  {
   "cell_type": "code",
   "execution_count": 362,
   "metadata": {},
   "outputs": [],
   "source": [
    "#import importlib\n",
    "#importlib.reload(eeg)"
   ]
  },
  {
   "cell_type": "code",
   "execution_count": 507,
   "metadata": {},
   "outputs": [],
   "source": [
    "feature_list = []\n",
    "feature_list.append(ShannonRes)\n",
    "feature_list.append(ShannonRes_delta)\n",
    "feature_list.append(ShannonRes_theta)\n",
    "#feature_list.append(ShannonRes_alpha)\n",
    "#feature_list.append(ShannonRes_beta)\n",
    "feature_list.append(ShannonRes_gamma)\n",
    "feature_list.append(bandPwr_delta)\n",
    "feature_list.append(bandPwr_theta)\n",
    "#feature_list.append(bandPwr_alpha)\n",
    "#feature_list.append(bandPwr_beta)\n",
    "feature_list.append(bandPwr_gamma)\n",
    "feature_list.append(std_res)\n",
    "#feature_list.append(ratio_res)\n",
    "feature_list.append(regularity_res)\n",
    "feature_list.append(volt05_res)\n",
    "feature_list.append(volt10_res)\n",
    "feature_list.append(volt20_res)\n",
    "feature_list.append(df_res)\n",
    "feature_list.append(spikeNum_res)\n",
    "feature_list.append(deltaBurst_res)\n",
    "feature_list.append(sharpSpike_res)\n",
    "feature_list.append(numBursts_res)\n",
    "#feature_list.append(burstLenMean_res)\n",
    "#feature_list.append(burstLenStd_res)\n",
    "feature_list.append(numSupps_res)\n",
    "#feature_list.append(coherence_res)"
   ]
  },
  {
   "cell_type": "code",
   "execution_count": 508,
   "metadata": {},
   "outputs": [],
   "source": [
    "feature_arr  = np.vstack(feature_list).transpose()"
   ]
  },
  {
   "cell_type": "code",
   "execution_count": 509,
   "metadata": {},
   "outputs": [
    {
     "data": {
      "text/plain": [
       "(2816, 396)"
      ]
     },
     "execution_count": 509,
     "metadata": {},
     "output_type": "execute_result"
    }
   ],
   "source": [
    "feature_arr.shape"
   ]
  },
  {
   "cell_type": "code",
   "execution_count": 510,
   "metadata": {},
   "outputs": [
    {
     "data": {
      "text/plain": [
       "18"
      ]
     },
     "execution_count": 510,
     "metadata": {},
     "output_type": "execute_result"
    }
   ],
   "source": [
    "len(feature_list)"
   ]
  },
  {
   "cell_type": "code",
   "execution_count": 511,
   "metadata": {},
   "outputs": [
    {
     "data": {
      "text/plain": [
       "0.17329545454545456"
      ]
     },
     "execution_count": 511,
     "metadata": {},
     "output_type": "execute_result"
    }
   ],
   "source": [
    "sum(artifacts) / len(artifacts)"
   ]
  },
  {
   "cell_type": "code",
   "execution_count": 512,
   "metadata": {},
   "outputs": [],
   "source": [
    "# https://pyod.readthedocs.io/en/latest/pyod.models.html\n",
    "from pyod import models\n",
    "from pyod.models import hbos,auto_encoder,lof,so_gaal,lscp,vae,abod,ocsvm,xgbod,pca"
   ]
  },
  {
   "cell_type": "code",
   "execution_count": 513,
   "metadata": {},
   "outputs": [
    {
     "data": {
      "text/plain": [
       "HBOS(alpha=0.07, contamination=0.15, n_bins=17, tol=0.5)"
      ]
     },
     "execution_count": 513,
     "metadata": {},
     "output_type": "execute_result"
    }
   ],
   "source": [
    "clf = hbos.HBOS(n_bins=17, alpha=0.07, tol=0.5,contamination=.15)\n",
    "clf.fit(feature_arr)"
   ]
  },
  {
   "cell_type": "code",
   "execution_count": 523,
   "metadata": {},
   "outputs": [],
   "source": [
    "from sklearn.metrics import confusion_matrix,cohen_kappa_score,f1_score"
   ]
  },
  {
   "cell_type": "code",
   "execution_count": 524,
   "metadata": {},
   "outputs": [
    {
     "data": {
      "text/plain": [
       "array([[2018,  310],\n",
       "       [ 375,  113]])"
      ]
     },
     "execution_count": 524,
     "metadata": {},
     "output_type": "execute_result"
    }
   ],
   "source": [
    "confusion_matrix(artifacts, clf.labels_)"
   ]
  },
  {
   "cell_type": "code",
   "execution_count": 525,
   "metadata": {},
   "outputs": [
    {
     "data": {
      "text/plain": [
       "0.10386299272297506"
      ]
     },
     "execution_count": 525,
     "metadata": {},
     "output_type": "execute_result"
    }
   ],
   "source": [
    "cohen_kappa_score(artifacts, clf.labels_)"
   ]
  },
  {
   "cell_type": "code",
   "execution_count": 526,
   "metadata": {},
   "outputs": [
    {
     "data": {
      "text/plain": [
       "0.24807903402854006"
      ]
     },
     "execution_count": 526,
     "metadata": {},
     "output_type": "execute_result"
    }
   ],
   "source": [
    "f1_score(artifacts, clf.labels_)"
   ]
  },
  {
   "cell_type": "code",
   "execution_count": null,
   "metadata": {},
   "outputs": [],
   "source": []
  }
 ],
 "metadata": {
  "kernelspec": {
   "display_name": "Python 3",
   "language": "python",
   "name": "python3"
  },
  "language_info": {
   "codemirror_mode": {
    "name": "ipython",
    "version": 3
   },
   "file_extension": ".py",
   "mimetype": "text/x-python",
   "name": "python",
   "nbconvert_exporter": "python",
   "pygments_lexer": "ipython3",
   "version": "3.7.4"
  }
 },
 "nbformat": 4,
 "nbformat_minor": 2
}
