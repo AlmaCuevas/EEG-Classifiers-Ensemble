{
 "cells": [
  {
   "cell_type": "code",
   "execution_count": 2,
   "metadata": {
    "ExecuteTime": {
     "end_time": "2024-04-20T18:34:43.921626500Z",
     "start_time": "2024-04-20T18:34:30.456853100Z"
    }
   },
   "outputs": [
    {
     "name": "stdout",
     "output_type": "stream",
     "text": [
      "Not setting metadata\n",
      "300 matching events found\n",
      "Setting baseline interval to [0.0, 3.1015625] s\n",
      "Applying baseline correction (mode: mean)\n",
      "0 projection items activated\n",
      "Not setting metadata\n",
      "300 matching events found\n",
      "Setting baseline interval to [0.0, 3.1015625] s\n",
      "Applying baseline correction (mode: mean)\n",
      "0 projection items activated\n",
      "Not setting metadata\n",
      "300 matching events found\n",
      "Setting baseline interval to [0.0, 3.1015625] s\n",
      "Applying baseline correction (mode: mean)\n",
      "0 projection items activated\n",
      "Not setting metadata\n",
      "300 matching events found\n",
      "Setting baseline interval to [0.0, 3.1015625] s\n",
      "Applying baseline correction (mode: mean)\n",
      "0 projection items activated\n",
      "Not setting metadata\n",
      "300 matching events found\n",
      "Setting baseline interval to [0.0, 3.1015625] s\n",
      "Applying baseline correction (mode: mean)\n",
      "0 projection items activated\n",
      "Not setting metadata\n",
      "300 matching events found\n",
      "Setting baseline interval to [0.0, 3.1015625] s\n",
      "Applying baseline correction (mode: mean)\n",
      "0 projection items activated\n",
      "Not setting metadata\n",
      "300 matching events found\n",
      "Setting baseline interval to [0.0, 3.1015625] s\n",
      "Applying baseline correction (mode: mean)\n",
      "0 projection items activated\n",
      "Not setting metadata\n",
      "300 matching events found\n",
      "Setting baseline interval to [0.0, 3.1015625] s\n",
      "Applying baseline correction (mode: mean)\n",
      "0 projection items activated\n",
      "Not setting metadata\n",
      "300 matching events found\n",
      "Setting baseline interval to [0.0, 3.1015625] s\n",
      "Applying baseline correction (mode: mean)\n",
      "0 projection items activated\n",
      "Not setting metadata\n",
      "300 matching events found\n",
      "Setting baseline interval to [0.0, 3.1015625] s\n",
      "Applying baseline correction (mode: mean)\n",
      "0 projection items activated\n",
      "Not setting metadata\n",
      "300 matching events found\n",
      "Setting baseline interval to [0.0, 3.1015625] s\n",
      "Applying baseline correction (mode: mean)\n",
      "0 projection items activated\n",
      "Not setting metadata\n",
      "300 matching events found\n",
      "Setting baseline interval to [0.0, 3.1015625] s\n",
      "Applying baseline correction (mode: mean)\n",
      "0 projection items activated\n",
      "Not setting metadata\n",
      "300 matching events found\n",
      "Setting baseline interval to [0.0, 3.1015625] s\n",
      "Applying baseline correction (mode: mean)\n",
      "0 projection items activated\n",
      "Not setting metadata\n",
      "300 matching events found\n",
      "Setting baseline interval to [0.0, 3.1015625] s\n",
      "Applying baseline correction (mode: mean)\n",
      "0 projection items activated\n",
      "Not setting metadata\n",
      "300 matching events found\n",
      "Setting baseline interval to [0.0, 3.1015625] s\n",
      "Applying baseline correction (mode: mean)\n",
      "0 projection items activated\n",
      "Not setting metadata\n",
      "4500 matching events found\n",
      "Applying baseline correction (mode: mean)\n"
     ]
    }
   ],
   "source": [
    "from data_loaders import load_data_labels_based_on_dataset\n",
    "from share import datasets_basic_infos, ROOT_VOTING_SYSTEM_PATH\n",
    "import numpy as np\n",
    "import matplotlib.pyplot as plt\n",
    "from data_utils import train_test_val_split\n",
    "import mne\n",
    "\n",
    "dataset_name = 'ic_bci_2020'  # Only two things I should be able to change\n",
    "\n",
    "# Folders and paths\n",
    "dataset_foldername = dataset_name + '_dataset'\n",
    "computer_root_path = ROOT_VOTING_SYSTEM_PATH + \"/Datasets/\"\n",
    "data_path = computer_root_path + dataset_foldername\n",
    "dataset_info = datasets_basic_infos[dataset_name]\n",
    "\n",
    "epochs_list = []\n",
    "for subject_id in range(1, dataset_info['subjects']+1):\n",
    "    individual_epochs, data, labels = load_data_labels_based_on_dataset(dataset_info, subject_id, data_path)\n",
    "    epochs_list.append(individual_epochs)\n",
    "    \n",
    "\n",
    "epochs = mne.concatenate_epochs(epochs_list)\n",
    "\n",
    "data_train, data_test, _, labels_train, labels_test, _ = train_test_val_split(\n",
    "        dataX=data, dataY=labels, valid_flag=False)"
   ]
  },
  {
   "cell_type": "code",
   "execution_count": 3,
   "outputs": [],
   "source": [
    "from collections import defaultdict\n",
    "\n",
    "def indexes(l, chosen_key):\n",
    "    _indices = defaultdict(list)\n",
    "    for index, item in enumerate(l):\n",
    "        _indices[item].append(index)\n",
    "\n",
    "    for key, value in _indices.items():\n",
    "        if key == chosen_key:\n",
    "            return value\n",
    "#indexes(labels, 0)"
   ],
   "metadata": {
    "collapsed": false,
    "ExecuteTime": {
     "end_time": "2024-04-20T18:34:43.951625Z",
     "start_time": "2024-04-20T18:34:43.934625600Z"
    }
   }
  },
  {
   "cell_type": "markdown",
   "source": [
    "I think there is something there: 1, 3, 8, 10, 11, 13, 15, 18, 21, 23"
   ],
   "metadata": {
    "collapsed": false
   }
  },
  {
   "cell_type": "code",
   "execution_count": null,
   "outputs": [],
   "source": [
    "for channel in range(len(dataset_info[\"channels_names\"])):\n",
    "    for word_index in range(len(dataset_info[\"target_names\"])):\n",
    "        plt.clf()\n",
    "        samples_to_time = np.linspace(0, dataset_info[\"samples\"]/dataset_info[\"sample_rate\"], num=dataset_info[\"samples\"])\n",
    "        indexes_from_word = indexes(labels, word_index)\n",
    "        for i_index in indexes_from_word:\n",
    "            plt.plot(samples_to_time, data[i_index,channel,:])\n",
    "        plt.plot(samples_to_time, np.mean(data[indexes_from_word,channel,:], axis=0), linewidth=5, color='k')\n",
    "        plt.title(f'{dataset_name} - {dataset_info[\"target_names\"][word_index]} - {dataset_info[\"channels_names\"][channel]}')\n",
    "        plt.xlabel('Time [ms]')\n",
    "        plt.ylabel('Normalized Voltage')\n",
    "        plt.ylim(0.2, 0.4)\n",
    "        plt.savefig(f'{ROOT_VOTING_SYSTEM_PATH}/Results/{dataset_name}/ERP/ERP_{dataset_name}_{dataset_info[\"target_names\"][word_index]}_{dataset_info[\"channels_names\"][channel]}.png')"
   ],
   "metadata": {
    "collapsed": false,
    "ExecuteTime": {
     "end_time": "2024-04-20T18:33:58.460197600Z",
     "start_time": "2024-04-20T18:33:58.460197600Z"
    }
   }
  },
  {
   "cell_type": "markdown",
   "source": [
    "# Do the XDAWN DENOISING HERE AND SEE THE SIGNALS\n",
    "https://mne.tools/stable/auto_examples/preprocessing/xdawn_denoising.html#sphx-glr-auto-examples-preprocessing-xdawn-denoising-py"
   ],
   "metadata": {
    "collapsed": false
   }
  },
  {
   "cell_type": "code",
   "outputs": [],
   "source": [
    "# from mne.preprocessing import Xdawn\n",
    "# from mne.viz import plot_epochs_image\n",
    "# \n",
    "# plot_epochs_image(epochs)\n",
    "# # Estimates signal covariance\n",
    "# signal_cov = mne.compute_covariance(epochs)\n",
    "# \n",
    "# # Xdawn instance\n",
    "# xd = Xdawn(n_components=2, signal_cov=signal_cov)\n",
    "# \n",
    "# # Fit xdawn\n",
    "# xd.fit(epochs)\n",
    "# \n",
    "# epochs_denoised = xd.apply(epochs)\n",
    "# \n",
    "# # Plot image epoch after Xdawn\n",
    "# plot_epochs_image(epochs_denoised['Arriba']) # todo: previously you should had made 'picks' and the event dict only dedicated to one event, otherwise it joins eveything"
   ],
   "metadata": {
    "collapsed": false
   }
  }
 ],
 "metadata": {
  "kernelspec": {
   "display_name": "Python 3",
   "language": "python",
   "name": "python3"
  },
  "language_info": {
   "codemirror_mode": {
    "name": "ipython",
    "version": 3
   },
   "file_extension": ".py",
   "mimetype": "text/x-python",
   "name": "python",
   "nbconvert_exporter": "python",
   "pygments_lexer": "ipython3",
   "version": "3.7.4"
  }
 },
 "nbformat": 4,
 "nbformat_minor": 2
}
