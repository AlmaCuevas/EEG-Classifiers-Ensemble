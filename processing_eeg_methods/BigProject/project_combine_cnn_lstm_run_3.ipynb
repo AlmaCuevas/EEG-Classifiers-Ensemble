{
 "cells": [
  {
   "cell_type": "markdown",
   "source": [
    "# Try changing the labels to [0 0.25 0.5 1]\n",
    "## I don't think is actually necessary to make a prob of this one. The results are not that promising and don't work for everyone."
   ],
   "metadata": {
    "collapsed": false
   }
  },
  {
   "cell_type": "markdown",
   "metadata": {},
   "source": [
    "This run has higher dropout, larger size lstm.\n",
    "\n",
    "This run has validation accuracy around 70%+\n",
    "\n",
    "From results shown, high dropout does contribute to regularization. Compared to the first run, validation accuracy doesn't improve, however the training history is less oscillatory."
   ]
  },
  {
   "cell_type": "code",
   "execution_count": 19,
   "metadata": {},
   "outputs": [],
   "source": [
    "from keras.models import Sequential\n",
    "from keras.layers import LSTM, Dense, Dropout, BatchNormalization\n",
    "from keras.layers import Conv1D, MaxPooling1D, Activation, Flatten\n",
    "from keras.utils import to_categorical\n",
    "import numpy as np\n",
    "import h5py\n",
    "import matplotlib.pyplot as plt\n",
    "from data_utils import get_data\n",
    "from sklearn import preprocessing\n",
    "\n",
    "from Code.data_loaders import load_data_labels_based_on_dataset\n",
    "from share import datasets_basic_infos\n",
    "from Code.data_utils import train_test_val_split"
   ]
  },
  {
   "cell_type": "code",
   "execution_count": 20,
   "metadata": {
    "scrolled": true
   },
   "outputs": [
    {
     "name": "stdout",
     "output_type": "stream",
     "text": [
      "EEG channel type selected for re-referencing\n",
      "Applying average reference.\n",
      "Applying a custom ('EEG',) reference.\n",
      "Filtering raw data in 1 contiguous segment\n",
      "Setting up band-pass filter from 1 - 55 Hz\n",
      "\n",
      "FIR filter parameters\n",
      "---------------------\n",
      "Designing a one-pass, zero-phase, non-causal bandpass filter:\n",
      "- Windowed time-domain design (firwin) method\n",
      "- Hamming window with 0.0194 passband ripple and 53 dB stopband attenuation\n",
      "- Lower passband edge: 1.00\n",
      "- Lower transition bandwidth: 1.00 Hz (-6 dB cutoff frequency: 0.50 Hz)\n",
      "- Upper passband edge: 55.00 Hz\n",
      "- Upper transition bandwidth: 13.75 Hz (-6 dB cutoff frequency: 61.88 Hz)\n",
      "- Filter length: 1651 samples (3.302 s)\n",
      "\n",
      "Used Annotations descriptions: ['OVTK_StimulationId_EndOfFile', 'OVTK_StimulationId_Number_01', 'OVTK_StimulationId_Number_02', 'OVTK_StimulationId_Number_03', 'OVTK_StimulationId_Number_04', 'OVTK_StimulationId_Number_05', 'OVTK_StimulationId_Number_06', 'OVTK_StimulationId_Number_07', 'OVTK_StimulationId_Number_08']\n",
      "Not setting metadata\n",
      "120 matching events found\n",
      "Applying baseline correction (mode: mean)\n",
      "0 projection items activated\n",
      "Using data from preloaded Raw for 120 events and 701 original time points ...\n",
      "0 bad epochs dropped\n"
     ]
    },
    {
     "name": "stderr",
     "output_type": "stream",
     "text": [
      "[Parallel(n_jobs=1)]: Done  17 tasks      | elapsed:    0.1s\n"
     ]
    }
   ],
   "source": [
    "\n",
    "subject_id = 3  # Only two things I should be able to change\n",
    "dataset_name = 'aguilera_gamified'  # Only two things I should be able to change\n",
    "\n",
    "# Folders and paths\n",
    "dataset_foldername = dataset_name + '_dataset'\n",
    "data_path = \"/Users/almacuevas/work_projects/voting_system_platform/Datasets/\" + dataset_foldername\n",
    "dataset_info = datasets_basic_infos[dataset_name]\n",
    "\n",
    "data, label = load_data_labels_based_on_dataset(dataset_name, subject_id, data_path, array_format=True)"
   ]
  },
  {
   "cell_type": "code",
   "execution_count": 21,
   "metadata": {},
   "outputs": [
    {
     "data": {
      "text/plain": "array([3, 3, 3, 3, 1, 1, 2, 0, 1, 2, 0, 1])"
     },
     "execution_count": 21,
     "metadata": {},
     "output_type": "execute_result"
    }
   ],
   "source": [
    "num_classes = 4\n",
    "\n",
    "# substract data from list\n",
    "X_train, X_test, X_val, y_train, y_test, y_val = train_test_val_split(dataX = data, dataY= label, valid_flag=True)\n",
    "\n",
    "# get data dimension\n",
    "N_train, T_train, C_train = X_train.shape\n",
    "N_val, T_val, C_val = X_val.shape\n",
    "N_test, T_test, C_test = X_test.shape\n",
    "\n",
    "y_test"
   ]
  },
  {
   "cell_type": "code",
   "execution_count": 22,
   "outputs": [],
   "source": [
    "# add dummy zeros for y classification, convert class vectors to binary class matrices.\n",
    "y_train = to_categorical(y_train, num_classes)\n",
    "y_val = to_categorical(y_val, num_classes)\n",
    "y_test = to_categorical(y_test, num_classes)"
   ],
   "metadata": {
    "collapsed": false
   }
  },
  {
   "cell_type": "code",
   "execution_count": 23,
   "metadata": {},
   "outputs": [
    {
     "name": "stdout",
     "output_type": "stream",
     "text": [
      "X_train:  (90, 24, 701)\n",
      "y_train:  (90, 4)\n",
      "X_val:  (18, 24, 701)\n",
      "y_val:  (18, 4)\n",
      "X_test:  (12, 24, 701)\n",
      "y_test:  (12, 4)\n"
     ]
    }
   ],
   "source": [
    "# construct X_total and y_total based on sub-sampling of X_train and y_train\n",
    "\n",
    "# take sub-sampling on the time sequence to reduce dimension for RNN\n",
    "sampling = 1\n",
    "\n",
    "X_train = X_train.reshape(N_train,int(T_train/sampling), sampling, C_train)[:,:,0,:]\n",
    "X_val = X_val.reshape(N_val,int(T_val/sampling), sampling, C_val)[:,:,0,:]\n",
    "X_test = X_test.reshape(N_test,int(T_test/sampling), sampling, C_test)[:,:,0,:]\n",
    "\n",
    "# get new data dimension\n",
    "N_train, T_train, C_train = X_train.shape\n",
    "N_val, T_val, C_val = X_val.shape\n",
    "N_test, T_test, C_test = X_test.shape\n",
    "\n",
    "print('X_train: ', X_train.shape)\n",
    "print('y_train: ', y_train.shape)\n",
    "print('X_val: ', X_val.shape)\n",
    "print('y_val: ', y_val.shape)\n",
    "print('X_test: ', X_test.shape)\n",
    "print('y_test: ', y_test.shape)"
   ]
  },
  {
   "cell_type": "code",
   "execution_count": 24,
   "metadata": {},
   "outputs": [],
   "source": [
    "# Expected input batch shape: (batch_size, timesteps, data_dim)\n",
    "# Note that we have to provide the full batch_input_shape since the network is stateful.\n",
    "# the sample of index i in batch k is the follow-up for the sample i in batch k-1.\n",
    "\n",
    "# perhaps should try masking layer\n",
    "\n",
    "data_dim = C_train\n",
    "timesteps = T_train\n",
    "batch_size = y_train.shape[0]\n",
    "num_epoch = y_train.shape[0]\n",
    "\n",
    "# make a sequential model\n",
    "model = Sequential()\n",
    "\n",
    "# add 1-layer cnn\n",
    "model.add(Conv1D(40, kernel_size=20, strides=4,\n",
    "          input_shape=(timesteps, data_dim)))\n",
    "model.add(Activation('relu'))\n",
    "model.add(Dropout(0.5))\n",
    "model.add(BatchNormalization())\n",
    "#model.add(MaxPooling1D(pool_size=4, strides=4))\n",
    "\n",
    "\n",
    "# add 2-layer lstm\n",
    "model.add(LSTM(30, return_sequences=True, stateful=False))\n",
    "model.add(Dropout(0.5))\n",
    "model.add(BatchNormalization())\n",
    "model.add(LSTM(20, return_sequences=True, stateful=False))\n",
    "model.add(Dropout(0.5))\n",
    "model.add(BatchNormalization())\n",
    "model.add(Flatten())\n",
    "model.add(Dense(num_classes, activation='softmax'))\n",
    "\n",
    "# set loss function and optimizer\n",
    "model.compile(loss='categorical_crossentropy',\n",
    "              optimizer='adam',\n",
    "              metrics=['accuracy'])"
   ]
  },
  {
   "cell_type": "code",
   "execution_count": 25,
   "metadata": {},
   "outputs": [
    {
     "name": "stdout",
     "output_type": "stream",
     "text": [
      "Epoch 1/90\n",
      "1/1 [==============================] - 2s 2s/step - loss: 1.9907 - accuracy: 0.2444 - val_loss: 1.4408 - val_accuracy: 0.1667\n",
      "Epoch 2/90\n",
      "1/1 [==============================] - 0s 23ms/step - loss: 1.8056 - accuracy: 0.3222 - val_loss: 1.4441 - val_accuracy: 0.0556\n",
      "Epoch 3/90\n",
      "1/1 [==============================] - 0s 24ms/step - loss: 1.8253 - accuracy: 0.3111 - val_loss: 1.4416 - val_accuracy: 0.0556\n",
      "Epoch 4/90\n",
      "1/1 [==============================] - 0s 24ms/step - loss: 1.5464 - accuracy: 0.3333 - val_loss: 1.4377 - val_accuracy: 0.0000e+00\n",
      "Epoch 5/90\n",
      "1/1 [==============================] - 0s 23ms/step - loss: 1.4124 - accuracy: 0.4889 - val_loss: 1.4297 - val_accuracy: 0.0556\n",
      "Epoch 6/90\n",
      "1/1 [==============================] - 0s 24ms/step - loss: 1.4208 - accuracy: 0.4111 - val_loss: 1.4331 - val_accuracy: 0.0000e+00\n",
      "Epoch 7/90\n",
      "1/1 [==============================] - 0s 24ms/step - loss: 1.3008 - accuracy: 0.4889 - val_loss: 1.4302 - val_accuracy: 0.0000e+00\n",
      "Epoch 8/90\n",
      "1/1 [==============================] - 0s 22ms/step - loss: 1.5425 - accuracy: 0.3778 - val_loss: 1.4287 - val_accuracy: 0.0000e+00\n",
      "Epoch 9/90\n",
      "1/1 [==============================] - 0s 22ms/step - loss: 1.3332 - accuracy: 0.4444 - val_loss: 1.4272 - val_accuracy: 0.0000e+00\n",
      "Epoch 10/90\n",
      "1/1 [==============================] - 0s 26ms/step - loss: 1.5066 - accuracy: 0.3889 - val_loss: 1.4278 - val_accuracy: 0.0000e+00\n",
      "Epoch 11/90\n",
      "1/1 [==============================] - 0s 23ms/step - loss: 1.2194 - accuracy: 0.4778 - val_loss: 1.4292 - val_accuracy: 0.0000e+00\n",
      "Epoch 12/90\n",
      "1/1 [==============================] - 0s 22ms/step - loss: 1.4085 - accuracy: 0.4667 - val_loss: 1.4300 - val_accuracy: 0.0000e+00\n",
      "Epoch 13/90\n",
      "1/1 [==============================] - 0s 23ms/step - loss: 1.3305 - accuracy: 0.4889 - val_loss: 1.4310 - val_accuracy: 0.0000e+00\n",
      "Epoch 14/90\n",
      "1/1 [==============================] - 0s 22ms/step - loss: 1.2884 - accuracy: 0.4222 - val_loss: 1.4327 - val_accuracy: 0.0000e+00\n",
      "Epoch 15/90\n",
      "1/1 [==============================] - 0s 22ms/step - loss: 1.0771 - accuracy: 0.5556 - val_loss: 1.4345 - val_accuracy: 0.0000e+00\n",
      "Epoch 16/90\n",
      "1/1 [==============================] - 0s 22ms/step - loss: 1.1566 - accuracy: 0.5111 - val_loss: 1.4364 - val_accuracy: 0.0000e+00\n",
      "Epoch 17/90\n",
      "1/1 [==============================] - 0s 25ms/step - loss: 1.3244 - accuracy: 0.4667 - val_loss: 1.4384 - val_accuracy: 0.0556\n",
      "Epoch 18/90\n",
      "1/1 [==============================] - 0s 24ms/step - loss: 1.1940 - accuracy: 0.5667 - val_loss: 1.4395 - val_accuracy: 0.0556\n",
      "Epoch 19/90\n",
      "1/1 [==============================] - 0s 23ms/step - loss: 1.0406 - accuracy: 0.5556 - val_loss: 1.4408 - val_accuracy: 0.0556\n",
      "Epoch 20/90\n",
      "1/1 [==============================] - 0s 23ms/step - loss: 0.8772 - accuracy: 0.6889 - val_loss: 1.4423 - val_accuracy: 0.0556\n",
      "Epoch 21/90\n",
      "1/1 [==============================] - 0s 23ms/step - loss: 1.1895 - accuracy: 0.5444 - val_loss: 1.4437 - val_accuracy: 0.0556\n",
      "Epoch 22/90\n",
      "1/1 [==============================] - 0s 21ms/step - loss: 1.0861 - accuracy: 0.5222 - val_loss: 1.4451 - val_accuracy: 0.0556\n",
      "Epoch 23/90\n",
      "1/1 [==============================] - 0s 21ms/step - loss: 1.0945 - accuracy: 0.5778 - val_loss: 1.4461 - val_accuracy: 0.0556\n",
      "Epoch 24/90\n",
      "1/1 [==============================] - 0s 23ms/step - loss: 0.9967 - accuracy: 0.5889 - val_loss: 1.4472 - val_accuracy: 0.0556\n",
      "Epoch 25/90\n",
      "1/1 [==============================] - 0s 22ms/step - loss: 1.0660 - accuracy: 0.6222 - val_loss: 1.4478 - val_accuracy: 0.0556\n",
      "Epoch 26/90\n",
      "1/1 [==============================] - 0s 23ms/step - loss: 0.9034 - accuracy: 0.6333 - val_loss: 1.4480 - val_accuracy: 0.0556\n",
      "Epoch 27/90\n",
      "1/1 [==============================] - 0s 23ms/step - loss: 1.0000 - accuracy: 0.6222 - val_loss: 1.4483 - val_accuracy: 0.0556\n",
      "Epoch 28/90\n",
      "1/1 [==============================] - 0s 22ms/step - loss: 0.8384 - accuracy: 0.6333 - val_loss: 1.4490 - val_accuracy: 0.0556\n",
      "Epoch 29/90\n",
      "1/1 [==============================] - 0s 23ms/step - loss: 1.0548 - accuracy: 0.6222 - val_loss: 1.4500 - val_accuracy: 0.1111\n",
      "Epoch 30/90\n",
      "1/1 [==============================] - 0s 23ms/step - loss: 0.8688 - accuracy: 0.6778 - val_loss: 1.4507 - val_accuracy: 0.1111\n",
      "Epoch 31/90\n",
      "1/1 [==============================] - 0s 25ms/step - loss: 0.8985 - accuracy: 0.6556 - val_loss: 1.4510 - val_accuracy: 0.1111\n",
      "Epoch 32/90\n",
      "1/1 [==============================] - 0s 26ms/step - loss: 0.8973 - accuracy: 0.6222 - val_loss: 1.4515 - val_accuracy: 0.1111\n",
      "Epoch 33/90\n",
      "1/1 [==============================] - 0s 22ms/step - loss: 0.7969 - accuracy: 0.7444 - val_loss: 1.4521 - val_accuracy: 0.1111\n",
      "Epoch 34/90\n",
      "1/1 [==============================] - 0s 23ms/step - loss: 0.9338 - accuracy: 0.6667 - val_loss: 1.4531 - val_accuracy: 0.1111\n",
      "Epoch 35/90\n",
      "1/1 [==============================] - 0s 22ms/step - loss: 0.9590 - accuracy: 0.6333 - val_loss: 1.4538 - val_accuracy: 0.1111\n",
      "Epoch 36/90\n",
      "1/1 [==============================] - 0s 22ms/step - loss: 0.8633 - accuracy: 0.6556 - val_loss: 1.4543 - val_accuracy: 0.1111\n",
      "Epoch 37/90\n",
      "1/1 [==============================] - 0s 23ms/step - loss: 0.8343 - accuracy: 0.6000 - val_loss: 1.4554 - val_accuracy: 0.1111\n",
      "Epoch 38/90\n",
      "1/1 [==============================] - 0s 22ms/step - loss: 0.7324 - accuracy: 0.7556 - val_loss: 1.4563 - val_accuracy: 0.1111\n",
      "Epoch 39/90\n",
      "1/1 [==============================] - 0s 22ms/step - loss: 0.8533 - accuracy: 0.6333 - val_loss: 1.4575 - val_accuracy: 0.1111\n",
      "Epoch 40/90\n",
      "1/1 [==============================] - 0s 24ms/step - loss: 0.7788 - accuracy: 0.7222 - val_loss: 1.4584 - val_accuracy: 0.1111\n",
      "Epoch 41/90\n",
      "1/1 [==============================] - 0s 22ms/step - loss: 0.6460 - accuracy: 0.7444 - val_loss: 1.4594 - val_accuracy: 0.1111\n",
      "Epoch 42/90\n",
      "1/1 [==============================] - 0s 22ms/step - loss: 0.7322 - accuracy: 0.7556 - val_loss: 1.4600 - val_accuracy: 0.1111\n",
      "Epoch 43/90\n",
      "1/1 [==============================] - 0s 24ms/step - loss: 0.6545 - accuracy: 0.7556 - val_loss: 1.4603 - val_accuracy: 0.1111\n",
      "Epoch 44/90\n",
      "1/1 [==============================] - 0s 22ms/step - loss: 0.7879 - accuracy: 0.7222 - val_loss: 1.4610 - val_accuracy: 0.1111\n",
      "Epoch 45/90\n",
      "1/1 [==============================] - 0s 23ms/step - loss: 0.7173 - accuracy: 0.7444 - val_loss: 1.4617 - val_accuracy: 0.1111\n",
      "Epoch 46/90\n",
      "1/1 [==============================] - 0s 22ms/step - loss: 0.8565 - accuracy: 0.6889 - val_loss: 1.4622 - val_accuracy: 0.1111\n",
      "Epoch 47/90\n",
      "1/1 [==============================] - 0s 24ms/step - loss: 0.6651 - accuracy: 0.7778 - val_loss: 1.4629 - val_accuracy: 0.1111\n",
      "Epoch 48/90\n",
      "1/1 [==============================] - 0s 23ms/step - loss: 0.6764 - accuracy: 0.7333 - val_loss: 1.4629 - val_accuracy: 0.0556\n",
      "Epoch 49/90\n",
      "1/1 [==============================] - 0s 24ms/step - loss: 0.7324 - accuracy: 0.7444 - val_loss: 1.4636 - val_accuracy: 0.0556\n",
      "Epoch 50/90\n",
      "1/1 [==============================] - 0s 24ms/step - loss: 0.6442 - accuracy: 0.8000 - val_loss: 1.4639 - val_accuracy: 0.0556\n",
      "Epoch 51/90\n",
      "1/1 [==============================] - 0s 22ms/step - loss: 0.6762 - accuracy: 0.7556 - val_loss: 1.4643 - val_accuracy: 0.0556\n",
      "Epoch 52/90\n",
      "1/1 [==============================] - 0s 24ms/step - loss: 0.5698 - accuracy: 0.8222 - val_loss: 1.4645 - val_accuracy: 0.0556\n",
      "Epoch 53/90\n",
      "1/1 [==============================] - 0s 23ms/step - loss: 0.7045 - accuracy: 0.7222 - val_loss: 1.4647 - val_accuracy: 0.0556\n",
      "Epoch 54/90\n",
      "1/1 [==============================] - 0s 22ms/step - loss: 0.5739 - accuracy: 0.8333 - val_loss: 1.4651 - val_accuracy: 0.0556\n",
      "Epoch 55/90\n",
      "1/1 [==============================] - 0s 22ms/step - loss: 0.6794 - accuracy: 0.8111 - val_loss: 1.4659 - val_accuracy: 0.0556\n",
      "Epoch 56/90\n",
      "1/1 [==============================] - 0s 25ms/step - loss: 0.6364 - accuracy: 0.7778 - val_loss: 1.4665 - val_accuracy: 0.0556\n",
      "Epoch 57/90\n",
      "1/1 [==============================] - 0s 22ms/step - loss: 0.5319 - accuracy: 0.8000 - val_loss: 1.4671 - val_accuracy: 0.0556\n",
      "Epoch 58/90\n",
      "1/1 [==============================] - 0s 22ms/step - loss: 0.5936 - accuracy: 0.7778 - val_loss: 1.4681 - val_accuracy: 0.0556\n",
      "Epoch 59/90\n",
      "1/1 [==============================] - 0s 22ms/step - loss: 0.6233 - accuracy: 0.7333 - val_loss: 1.4689 - val_accuracy: 0.0556\n",
      "Epoch 60/90\n",
      "1/1 [==============================] - 0s 22ms/step - loss: 0.4564 - accuracy: 0.9111 - val_loss: 1.4699 - val_accuracy: 0.0556\n",
      "Epoch 61/90\n",
      "1/1 [==============================] - 0s 25ms/step - loss: 0.6101 - accuracy: 0.7889 - val_loss: 1.4711 - val_accuracy: 0.0556\n",
      "Epoch 62/90\n",
      "1/1 [==============================] - 0s 22ms/step - loss: 0.4413 - accuracy: 0.8778 - val_loss: 1.4723 - val_accuracy: 0.0556\n",
      "Epoch 63/90\n",
      "1/1 [==============================] - 0s 23ms/step - loss: 0.5465 - accuracy: 0.8444 - val_loss: 1.4732 - val_accuracy: 0.1111\n",
      "Epoch 64/90\n",
      "1/1 [==============================] - 0s 24ms/step - loss: 0.5200 - accuracy: 0.8333 - val_loss: 1.4740 - val_accuracy: 0.1111\n",
      "Epoch 65/90\n",
      "1/1 [==============================] - 0s 23ms/step - loss: 0.4672 - accuracy: 0.8667 - val_loss: 1.4754 - val_accuracy: 0.1111\n",
      "Epoch 66/90\n",
      "1/1 [==============================] - 0s 22ms/step - loss: 0.4374 - accuracy: 0.8889 - val_loss: 1.4767 - val_accuracy: 0.1111\n",
      "Epoch 67/90\n",
      "1/1 [==============================] - 0s 23ms/step - loss: 0.5781 - accuracy: 0.7889 - val_loss: 1.4782 - val_accuracy: 0.1111\n",
      "Epoch 68/90\n",
      "1/1 [==============================] - 0s 22ms/step - loss: 0.4639 - accuracy: 0.8778 - val_loss: 1.4788 - val_accuracy: 0.1111\n",
      "Epoch 69/90\n",
      "1/1 [==============================] - 0s 22ms/step - loss: 0.6300 - accuracy: 0.7111 - val_loss: 1.4804 - val_accuracy: 0.1111\n",
      "Epoch 70/90\n",
      "1/1 [==============================] - 0s 22ms/step - loss: 0.5329 - accuracy: 0.8222 - val_loss: 1.4815 - val_accuracy: 0.1111\n",
      "Epoch 71/90\n",
      "1/1 [==============================] - 0s 23ms/step - loss: 0.4476 - accuracy: 0.8667 - val_loss: 1.4829 - val_accuracy: 0.1111\n",
      "Epoch 72/90\n",
      "1/1 [==============================] - 0s 21ms/step - loss: 0.5232 - accuracy: 0.8111 - val_loss: 1.4840 - val_accuracy: 0.1111\n",
      "Epoch 73/90\n",
      "1/1 [==============================] - 0s 23ms/step - loss: 0.5130 - accuracy: 0.8333 - val_loss: 1.4848 - val_accuracy: 0.1111\n",
      "Epoch 74/90\n",
      "1/1 [==============================] - 0s 21ms/step - loss: 0.3844 - accuracy: 0.9000 - val_loss: 1.4859 - val_accuracy: 0.1111\n",
      "Epoch 75/90\n",
      "1/1 [==============================] - 0s 22ms/step - loss: 0.4687 - accuracy: 0.8333 - val_loss: 1.4869 - val_accuracy: 0.1111\n",
      "Epoch 76/90\n",
      "1/1 [==============================] - 0s 22ms/step - loss: 0.5228 - accuracy: 0.8333 - val_loss: 1.4880 - val_accuracy: 0.1111\n",
      "Epoch 77/90\n",
      "1/1 [==============================] - 0s 23ms/step - loss: 0.4611 - accuracy: 0.8556 - val_loss: 1.4890 - val_accuracy: 0.1111\n",
      "Epoch 78/90\n",
      "1/1 [==============================] - 0s 22ms/step - loss: 0.4450 - accuracy: 0.8556 - val_loss: 1.4906 - val_accuracy: 0.1111\n",
      "Epoch 79/90\n",
      "1/1 [==============================] - 0s 23ms/step - loss: 0.3976 - accuracy: 0.8889 - val_loss: 1.4921 - val_accuracy: 0.1111\n",
      "Epoch 80/90\n",
      "1/1 [==============================] - 0s 22ms/step - loss: 0.5125 - accuracy: 0.8222 - val_loss: 1.4935 - val_accuracy: 0.1111\n",
      "Epoch 81/90\n",
      "1/1 [==============================] - 0s 23ms/step - loss: 0.4226 - accuracy: 0.8778 - val_loss: 1.4949 - val_accuracy: 0.1111\n",
      "Epoch 82/90\n",
      "1/1 [==============================] - 0s 22ms/step - loss: 0.3402 - accuracy: 0.9000 - val_loss: 1.4963 - val_accuracy: 0.1111\n",
      "Epoch 83/90\n",
      "1/1 [==============================] - 0s 23ms/step - loss: 0.3834 - accuracy: 0.9000 - val_loss: 1.4974 - val_accuracy: 0.1111\n",
      "Epoch 84/90\n",
      "1/1 [==============================] - 0s 23ms/step - loss: 0.3585 - accuracy: 0.9111 - val_loss: 1.4985 - val_accuracy: 0.1111\n",
      "Epoch 85/90\n",
      "1/1 [==============================] - 0s 22ms/step - loss: 0.4076 - accuracy: 0.8667 - val_loss: 1.4994 - val_accuracy: 0.1111\n",
      "Epoch 86/90\n",
      "1/1 [==============================] - 0s 23ms/step - loss: 0.3232 - accuracy: 0.9000 - val_loss: 1.5002 - val_accuracy: 0.1111\n",
      "Epoch 87/90\n",
      "1/1 [==============================] - 0s 22ms/step - loss: 0.4873 - accuracy: 0.8333 - val_loss: 1.5011 - val_accuracy: 0.1111\n",
      "Epoch 88/90\n",
      "1/1 [==============================] - 0s 23ms/step - loss: 0.3294 - accuracy: 0.8889 - val_loss: 1.5020 - val_accuracy: 0.1111\n",
      "Epoch 89/90\n",
      "1/1 [==============================] - 0s 22ms/step - loss: 0.3468 - accuracy: 0.8667 - val_loss: 1.5029 - val_accuracy: 0.1111\n",
      "Epoch 90/90\n",
      "1/1 [==============================] - 0s 23ms/step - loss: 0.3651 - accuracy: 0.8889 - val_loss: 1.5034 - val_accuracy: 0.1111\n"
     ]
    }
   ],
   "source": [
    "# train the data with validation\n",
    "history = model.fit(X_train, y_train,\n",
    "                    batch_size=batch_size, \n",
    "                    epochs=num_epoch, \n",
    "                    shuffle=False,\n",
    "                    validation_data=(X_val, y_val))"
   ]
  },
  {
   "cell_type": "code",
   "execution_count": 26,
   "metadata": {},
   "outputs": [
    {
     "name": "stdout",
     "output_type": "stream",
     "text": [
      "dict_keys(['loss', 'accuracy', 'val_loss', 'val_accuracy'])\n"
     ]
    },
    {
     "data": {
      "text/plain": "<Figure size 640x480 with 1 Axes>",
      "image/png": "[encoded data removed]"
     },
     "metadata": {},
     "output_type": "display_data"
    },
    {
     "data": {
      "text/plain": "<Figure size 640x480 with 1 Axes>",
      "image/png": "[encoded data removed]"
     },
     "metadata": {},
     "output_type": "display_data"
    }
   ],
   "source": [
    "# list all data in history\n",
    "print(history.history.keys())\n",
    "\n",
    "# summarize history for accuracy\n",
    "plt.plot(history.history['accuracy'])\n",
    "plt.plot(history.history['val_accuracy'])\n",
    "plt.title('model accuracy')\n",
    "plt.ylabel('accuracy')\n",
    "plt.xlabel('epoch')\n",
    "plt.legend(['train', 'val'], loc='upper left')\n",
    "plt.show()\n",
    "\n",
    "# summarize history for loss\n",
    "plt.plot(history.history['loss'],'o')\n",
    "plt.plot(history.history['val_loss'],'o')\n",
    "plt.title('model loss')\n",
    "plt.ylabel('loss')\n",
    "plt.xlabel('epoch')\n",
    "plt.legend(['train', 'val'], loc='upper left')\n",
    "plt.show()"
   ]
  },
  {
   "cell_type": "code",
   "execution_count": 27,
   "metadata": {},
   "outputs": [
    {
     "name": "stdout",
     "output_type": "stream",
     "text": [
      "1/1 [==============================] - 0s 10ms/step - loss: 1.3268 - accuracy: 0.4167\n",
      "test loss, test acc: [1.3268346786499023, 0.4166666567325592]\n"
     ]
    }
   ],
   "source": [
    "# test set\n",
    "results = model.evaluate(X_test,y_test,batch_size=N_test)\n",
    "print(\"test loss, test acc:\", results)"
   ]
  },
  {
   "cell_type": "code",
   "execution_count": null,
   "outputs": [],
   "source": [],
   "metadata": {
    "collapsed": false
   }
  }
 ],
 "metadata": {
  "kernelspec": {
   "display_name": "Python 3",
   "language": "python",
   "name": "python3"
  },
  "language_info": {
   "codemirror_mode": {
    "name": "ipython",
    "version": 3
   },
   "file_extension": ".py",
   "mimetype": "text/x-python",
   "name": "python",
   "nbconvert_exporter": "python",
   "pygments_lexer": "ipython3",
   "version": "3.6.3"
  }
 },
 "nbformat": 4,
 "nbformat_minor": 2
}
