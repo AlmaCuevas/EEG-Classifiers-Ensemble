{
 "cells": [
  {
   "cell_type": "code",
   "execution_count": 51,
   "id": "initial_id",
   "metadata": {
    "collapsed": true,
    "ExecuteTime": {
     "end_time": "2024-03-24T16:21:10.230642400Z",
     "start_time": "2024-03-24T16:20:44.229827400Z"
    }
   },
   "outputs": [
    {
     "name": "stdout",
     "output_type": "stream",
     "text": [
      "/Users/rosit/Documents/workprojects/bci_complete/voting_system_platform/Datasets/aguilera_gamified_dataset\n",
      "EEG channel type selected for re-referencing\n",
      "Applying a custom ('EEG',) reference.\n",
      "Filtering raw data in 1 contiguous segment\n",
      "Setting up band-pass filter from 0.5 - 1.4e+02 Hz\n",
      "\n",
      "FIR filter parameters\n",
      "---------------------\n",
      "Designing a one-pass, zero-phase, non-causal bandpass filter:\n",
      "- Windowed time-domain design (firwin) method\n",
      "- Hamming window with 0.0194 passband ripple and 53 dB stopband attenuation\n",
      "- Lower passband edge: 0.50\n",
      "- Lower transition bandwidth: 0.50 Hz (-6 dB cutoff frequency: 0.25 Hz)\n",
      "- Upper passband edge: 140.00 Hz\n",
      "- Upper transition bandwidth: 35.00 Hz (-6 dB cutoff frequency: 157.50 Hz)\n",
      "- Filter length: 3301 samples (6.602 s)\n"
     ]
    },
    {
     "name": "stderr",
     "output_type": "stream",
     "text": [
      "C:\\Users\\rosit\\Documents\\workprojects\\bci_complete\\voting_system_platform\\processing_eeg_methods\\data_loaders.py:29: RuntimeWarning: Fiducial point nasion not found, assuming identity unknown to head transformation\n",
      "  raw.set_montage(mne.channels.read_custom_montage(channel_location))\n",
      "[Parallel(n_jobs=1)]: Done  17 tasks      | elapsed:    0.0s\n"
     ]
    },
    {
     "name": "stdout",
     "output_type": "stream",
     "text": [
      "Filtering raw data in 1 contiguous segment\n",
      "Setting up band-stop filter from 59 - 61 Hz\n",
      "\n",
      "FIR filter parameters\n",
      "---------------------\n",
      "Designing a one-pass, zero-phase, non-causal bandstop filter:\n",
      "- Windowed time-domain design (firwin) method\n",
      "- Hamming window with 0.0194 passband ripple and 53 dB stopband attenuation\n",
      "- Lower passband edge: 59.35\n",
      "- Lower transition bandwidth: 0.50 Hz (-6 dB cutoff frequency: 59.10 Hz)\n",
      "- Upper passband edge: 60.65 Hz\n",
      "- Upper transition bandwidth: 0.50 Hz (-6 dB cutoff frequency: 60.90 Hz)\n",
      "- Filter length: 3301 samples (6.602 s)\n",
      "Filtering raw data in 1 contiguous segment\n",
      "Setting up high-pass filter at 1 Hz\n",
      "\n",
      "FIR filter parameters\n",
      "---------------------\n",
      "Designing a one-pass, zero-phase, non-causal highpass filter:\n",
      "- Windowed time-domain design (firwin) method\n",
      "- Hamming window with 0.0194 passband ripple and 53 dB stopband attenuation\n",
      "- Lower passband edge: 1.00\n",
      "- Lower transition bandwidth: 1.00 Hz (-6 dB cutoff frequency: 0.50 Hz)\n",
      "- Filter length: 1651 samples (3.302 s)\n"
     ]
    },
    {
     "name": "stderr",
     "output_type": "stream",
     "text": [
      "[Parallel(n_jobs=1)]: Done  17 tasks      | elapsed:    0.0s\n",
      "[Parallel(n_jobs=1)]: Done  17 tasks      | elapsed:    0.0s\n"
     ]
    },
    {
     "name": "stdout",
     "output_type": "stream",
     "text": [
      "Fitting ICA to data using 24 channels (please be patient, this may take a while)\n",
      "Selecting by number: 15 components\n",
      "Fitting ICA took 3.0s.\n",
      "Effective window size : 4.096 (s)\n",
      "Using EOG channels: FP1, FP2\n",
      "EOG channel index for this subject is: [0 1]\n",
      "Filtering the data to remove DC offset to help distinguish blinks from saccades\n",
      "Selecting channel FP1 for blink detection\n",
      "Setting up band-pass filter from 1 - 10 Hz\n",
      "\n",
      "FIR filter parameters\n",
      "---------------------\n",
      "Designing a two-pass forward and reverse, zero-phase, non-causal bandpass filter:\n",
      "- Windowed frequency-domain design (firwin2) method\n",
      "- Hann window\n",
      "- Lower passband edge: 1.00\n",
      "- Lower transition bandwidth: 0.50 Hz (-12 dB cutoff frequency: 0.75 Hz)\n",
      "- Upper passband edge: 10.00 Hz\n",
      "- Upper transition bandwidth: 0.50 Hz (-12 dB cutoff frequency: 10.25 Hz)\n",
      "- Filter length: 5000 samples (10.000 s)\n",
      "Now detecting blinks and generating corresponding events\n",
      "Found 268 significant peaks\n",
      "Number of EOG events detected: 268\n",
      "Not setting metadata\n",
      "268 matching events found\n",
      "No baseline correction applied\n",
      "Using data from preloaded Raw for 268 events and 501 original time points ...\n",
      "1 bad epochs dropped\n",
      "NOTE: pick_channels() is a legacy function. New code should use inst.pick(...).\n",
      "Applying baseline correction (mode: mean)\n",
      "Using EOG channel: FP1\n",
      "... filtering ICA sources\n",
      "Setting up band-pass filter from 1 - 10 Hz\n",
      "\n",
      "FIR filter parameters\n",
      "---------------------\n",
      "Designing a two-pass forward and reverse, zero-phase, non-causal bandpass filter:\n",
      "- Windowed frequency-domain design (firwin2) method\n",
      "- Hann window\n",
      "- Lower passband edge: 1.00\n",
      "- Lower transition bandwidth: 0.50 Hz (-12 dB cutoff frequency: 0.75 Hz)\n",
      "- Upper passband edge: 10.00 Hz\n",
      "- Upper transition bandwidth: 0.50 Hz (-12 dB cutoff frequency: 10.25 Hz)\n",
      "- Filter length: 5000 samples (10.000 s)\n",
      "... filtering target\n",
      "Setting up band-pass filter from 1 - 10 Hz\n",
      "\n",
      "FIR filter parameters\n",
      "---------------------\n",
      "Designing a two-pass forward and reverse, zero-phase, non-causal bandpass filter:\n",
      "- Windowed frequency-domain design (firwin2) method\n",
      "- Hann window\n",
      "- Lower passband edge: 1.00\n",
      "- Lower transition bandwidth: 0.50 Hz (-12 dB cutoff frequency: 0.75 Hz)\n",
      "- Upper passband edge: 10.00 Hz\n",
      "- Upper transition bandwidth: 0.50 Hz (-12 dB cutoff frequency: 10.25 Hz)\n",
      "- Filter length: 5000 samples (10.000 s)\n",
      "Applying ICA to Raw instance\n",
      "    Transforming to ICA space (15 components)\n",
      "    Zeroing out 15 ICA components\n",
      "    Projecting back using 24 PCA components\n",
      "Used Annotations descriptions: ['OVTK_StimulationId_Number_01', 'OVTK_StimulationId_Number_02', 'OVTK_StimulationId_Number_03', 'OVTK_StimulationId_Number_04', 'OVTK_StimulationId_Number_05', 'OVTK_StimulationId_Number_06', 'OVTK_StimulationId_Number_07', 'OVTK_StimulationId_Number_08']\n",
      "Not setting metadata\n",
      "121 matching events found\n",
      "Setting baseline interval to [0.0, 1.4] s\n",
      "Applying baseline correction (mode: mean)\n",
      "0 projection items activated\n",
      "Using data from preloaded Raw for 121 events and 701 original time points ...\n",
      "0 bad epochs dropped\n",
      "Running autoreject on ch_type=eeg\n"
     ]
    },
    {
     "data": {
      "text/plain": "  0%|          | Creating augmented epochs : 0/24 [00:00<?,       ?it/s]",
      "application/vnd.jupyter.widget-view+json": {
       "version_major": 2,
       "version_minor": 0,
       "model_id": "0a7eaf7509a0402dbea04d82b6f85ee0"
      }
     },
     "metadata": {},
     "output_type": "display_data"
    },
    {
     "data": {
      "text/plain": "  0%|          | Computing thresholds ... : 0/24 [00:00<?,       ?it/s]",
      "application/vnd.jupyter.widget-view+json": {
       "version_major": 2,
       "version_minor": 0,
       "model_id": "1beaed3b0dfe43839a8c8ce30ee3db53"
      }
     },
     "metadata": {},
     "output_type": "display_data"
    },
    {
     "data": {
      "text/plain": "  0%|          | Repairing epochs : 0/121 [00:00<?,       ?it/s]",
      "application/vnd.jupyter.widget-view+json": {
       "version_major": 2,
       "version_minor": 0,
       "model_id": "b647df8faac949e08ebdbb8939429fc8"
      }
     },
     "metadata": {},
     "output_type": "display_data"
    },
    {
     "data": {
      "text/plain": "  0%|          | n_interp : 0/3 [00:00<?,       ?it/s]",
      "application/vnd.jupyter.widget-view+json": {
       "version_major": 2,
       "version_minor": 0,
       "model_id": "f07ac5034a524c7385e920c8d762603e"
      }
     },
     "metadata": {},
     "output_type": "display_data"
    },
    {
     "data": {
      "text/plain": "  0%|          | Repairing epochs : 0/121 [00:00<?,       ?it/s]",
      "application/vnd.jupyter.widget-view+json": {
       "version_major": 2,
       "version_minor": 0,
       "model_id": "b33e7d3ebdfb4480829c44de343acbf9"
      }
     },
     "metadata": {},
     "output_type": "display_data"
    },
    {
     "data": {
      "text/plain": "  0%|          | Fold : 0/10 [00:00<?,       ?it/s]",
      "application/vnd.jupyter.widget-view+json": {
       "version_major": 2,
       "version_minor": 0,
       "model_id": "af35783245c647c988c198b20e309397"
      }
     },
     "metadata": {},
     "output_type": "display_data"
    },
    {
     "data": {
      "text/plain": "  0%|          | Repairing epochs : 0/121 [00:00<?,       ?it/s]",
      "application/vnd.jupyter.widget-view+json": {
       "version_major": 2,
       "version_minor": 0,
       "model_id": "30f2fb8adfdf463097da2248e5c5d525"
      }
     },
     "metadata": {},
     "output_type": "display_data"
    },
    {
     "data": {
      "text/plain": "  0%|          | Fold : 0/10 [00:00<?,       ?it/s]",
      "application/vnd.jupyter.widget-view+json": {
       "version_major": 2,
       "version_minor": 0,
       "model_id": "2a506e517685498da632dffade13e488"
      }
     },
     "metadata": {},
     "output_type": "display_data"
    },
    {
     "data": {
      "text/plain": "  0%|          | Repairing epochs : 0/121 [00:00<?,       ?it/s]",
      "application/vnd.jupyter.widget-view+json": {
       "version_major": 2,
       "version_minor": 0,
       "model_id": "d1d866d4eca14e87959b7de10f825c43"
      }
     },
     "metadata": {},
     "output_type": "display_data"
    },
    {
     "data": {
      "text/plain": "  0%|          | Fold : 0/10 [00:00<?,       ?it/s]",
      "application/vnd.jupyter.widget-view+json": {
       "version_major": 2,
       "version_minor": 0,
       "model_id": "e4c360d12cc34d8e9c503d8beb9f5faf"
      }
     },
     "metadata": {},
     "output_type": "display_data"
    },
    {
     "name": "stdout",
     "output_type": "stream",
     "text": [
      "\n",
      "\n",
      "\n",
      "\n",
      "Estimated consensus=0.50 and n_interpolate=1\n"
     ]
    },
    {
     "data": {
      "text/plain": "  0%|          | Repairing epochs : 0/121 [00:00<?,       ?it/s]",
      "application/vnd.jupyter.widget-view+json": {
       "version_major": 2,
       "version_minor": 0,
       "model_id": "3feb947901fe418ab20c5977fcf67b9b"
      }
     },
     "metadata": {},
     "output_type": "display_data"
    },
    {
     "name": "stdout",
     "output_type": "stream",
     "text": [
      "Dropped 21 epochs: 16, 33, 40, 43, 49, 53, 64, 66, 73, 78, 84, 85, 92, 95, 96, 97, 104, 105, 114, 119, 120\n"
     ]
    }
   ],
   "source": [
    "from sklearn.pipeline import FeatureUnion\n",
    "from mne.decoding import Vectorizer\n",
    "from pyriemann.estimation import ERPCovariances, XdawnCovariances, Covariances\n",
    "from sklearn.feature_selection import SelectKBest\n",
    "from mne.decoding import CSP\n",
    "from data_loaders import load_data_labels_based_on_dataset\n",
    "import pandas as pd\n",
    "from scipy import signal\n",
    "from share import datasets_basic_infos\n",
    "import mne\n",
    "from pyriemann.tangentspace import TangentSpace\n",
    "from sklearn.pipeline import Pipeline\n",
    "from sklearn.model_selection import train_test_split\n",
    "import numpy as np\n",
    "\n",
    "threshold_for_bug = 0.00000001  # could be any value, ex numpy.min\n",
    "\n",
    "ROOT_VOTING_SYSTEM_PATH: str = \"/Users/rosit/Documents/workprojects/bci_complete/voting_system_platform\"\n",
    "\n",
    "dataset_name = 'aguilera_gamified'\n",
    "subject_id = 1\n",
    "\n",
    "# Folders and paths\n",
    "dataset_foldername = dataset_name + \"_dataset\"\n",
    "computer_root_path = ROOT_VOTING_SYSTEM_PATH + \"/Datasets/\"\n",
    "data_path = computer_root_path + dataset_foldername\n",
    "print(data_path)\n",
    "dataset_info: dict = datasets_basic_infos[dataset_name]\n",
    "epochs, data, labels = load_data_labels_based_on_dataset(dataset_info, subject_id, data_path)\n",
    "data[data < threshold_for_bug] = threshold_for_bug # To avoid the error \"SVD did not convergence\""
   ]
  },
  {
   "cell_type": "code",
   "outputs": [
    {
     "name": "stdout",
     "output_type": "stream",
     "text": [
      "[0, 140]\n",
      "Setting up low-pass filter at 1.4e+02 Hz\n",
      "\n",
      "IIR filter parameters\n",
      "---------------------\n",
      "Butterworth lowpass zero-phase (two-pass forward and reverse) non-causal filter:\n",
      "- Filter order 16 (effective, after forward-backward)\n",
      "- Cutoff at 140.00 Hz: -6.02 dB\n"
     ]
    },
    {
     "ename": "ValueError",
     "evalue": "Found array with dim 3. MinMaxScaler expected <= 2.",
     "output_type": "error",
     "traceback": [
      "\u001B[1;31m---------------------------------------------------------------------------\u001B[0m",
      "\u001B[1;31mValueError\u001B[0m                                Traceback (most recent call last)",
      "Cell \u001B[1;32mIn[54], line 33\u001B[0m\n\u001B[0;32m     28\u001B[0m filt \u001B[38;5;241m=\u001B[39m mne\u001B[38;5;241m.\u001B[39mfilter\u001B[38;5;241m.\u001B[39mcreate_filter(\n\u001B[0;32m     29\u001B[0m     x_train, dataset_info[\u001B[38;5;124m'\u001B[39m\u001B[38;5;124msample_rate\u001B[39m\u001B[38;5;124m'\u001B[39m], l_freq\u001B[38;5;241m=\u001B[39mfrequency_bandwidth[\u001B[38;5;241m0\u001B[39m], h_freq\u001B[38;5;241m=\u001B[39mfrequency_bandwidth[\u001B[38;5;241m1\u001B[39m], method\u001B[38;5;241m=\u001B[39m\u001B[38;5;124m\"\u001B[39m\u001B[38;5;124miir\u001B[39m\u001B[38;5;124m\"\u001B[39m, iir_params\u001B[38;5;241m=\u001B[39miir_params, verbose\u001B[38;5;241m=\u001B[39m\u001B[38;5;28;01mTrue\u001B[39;00m\n\u001B[0;32m     30\u001B[0m )\n\u001B[0;32m     31\u001B[0m filtered \u001B[38;5;241m=\u001B[39m signal\u001B[38;5;241m.\u001B[39msosfiltfilt(filt[\u001B[38;5;124m\"\u001B[39m\u001B[38;5;124msos\u001B[39m\u001B[38;5;124m\"\u001B[39m], x_train)\n\u001B[1;32m---> 33\u001B[0m X_features \u001B[38;5;241m=\u001B[39m \u001B[43mfeature_method\u001B[49m\u001B[38;5;241;43m.\u001B[39;49m\u001B[43mfit_transform\u001B[49m\u001B[43m(\u001B[49m\u001B[43mfiltered\u001B[49m\u001B[43m,\u001B[49m\u001B[43m \u001B[49m\u001B[43my_train\u001B[49m\u001B[43m)\u001B[49m\n\u001B[0;32m     34\u001B[0m \u001B[38;5;28mprint\u001B[39m(\u001B[38;5;124m\"\u001B[39m\u001B[38;5;124mCombined space has\u001B[39m\u001B[38;5;124m\"\u001B[39m, X_features\u001B[38;5;241m.\u001B[39mshape[\u001B[38;5;241m1\u001B[39m], \u001B[38;5;124m\"\u001B[39m\u001B[38;5;124mfeatures\u001B[39m\u001B[38;5;124m\"\u001B[39m)\n\u001B[0;32m     35\u001B[0m column_name \u001B[38;5;241m=\u001B[39m [\u001B[38;5;124mf\u001B[39m\u001B[38;5;124m'\u001B[39m\u001B[38;5;132;01m{\u001B[39;00mfrequency_bandwidth_name\u001B[38;5;132;01m}\u001B[39;00m\u001B[38;5;124m_\u001B[39m\u001B[38;5;132;01m{\u001B[39;00mfeature_name\u001B[38;5;132;01m}\u001B[39;00m\u001B[38;5;124m_\u001B[39m\u001B[38;5;132;01m{\u001B[39;00mnum\u001B[38;5;132;01m}\u001B[39;00m\u001B[38;5;124m'\u001B[39m \u001B[38;5;28;01mfor\u001B[39;00m num \u001B[38;5;129;01min\u001B[39;00m \u001B[38;5;28mrange\u001B[39m(\u001B[38;5;241m0\u001B[39m, X_features\u001B[38;5;241m.\u001B[39mshape[\u001B[38;5;241m1\u001B[39m])]\n",
      "File \u001B[1;32m~\\Documents\\workprojects\\bci_complete\\venv_bci\\lib\\site-packages\\sklearn\\base.py:1152\u001B[0m, in \u001B[0;36m_fit_context.<locals>.decorator.<locals>.wrapper\u001B[1;34m(estimator, *args, **kwargs)\u001B[0m\n\u001B[0;32m   1145\u001B[0m     estimator\u001B[38;5;241m.\u001B[39m_validate_params()\n\u001B[0;32m   1147\u001B[0m \u001B[38;5;28;01mwith\u001B[39;00m config_context(\n\u001B[0;32m   1148\u001B[0m     skip_parameter_validation\u001B[38;5;241m=\u001B[39m(\n\u001B[0;32m   1149\u001B[0m         prefer_skip_nested_validation \u001B[38;5;129;01mor\u001B[39;00m global_skip_validation\n\u001B[0;32m   1150\u001B[0m     )\n\u001B[0;32m   1151\u001B[0m ):\n\u001B[1;32m-> 1152\u001B[0m     \u001B[38;5;28;01mreturn\u001B[39;00m fit_method(estimator, \u001B[38;5;241m*\u001B[39margs, \u001B[38;5;241m*\u001B[39m\u001B[38;5;241m*\u001B[39mkwargs)\n",
      "File \u001B[1;32m~\\Documents\\workprojects\\bci_complete\\venv_bci\\lib\\site-packages\\sklearn\\pipeline.py:471\u001B[0m, in \u001B[0;36mPipeline.fit_transform\u001B[1;34m(self, X, y, **fit_params)\u001B[0m\n\u001B[0;32m    444\u001B[0m \u001B[38;5;250m\u001B[39m\u001B[38;5;124;03m\"\"\"Fit the model and transform with the final estimator.\u001B[39;00m\n\u001B[0;32m    445\u001B[0m \n\u001B[0;32m    446\u001B[0m \u001B[38;5;124;03mFits all the transformers one after the other and transform the\u001B[39;00m\n\u001B[1;32m   (...)\u001B[0m\n\u001B[0;32m    468\u001B[0m \u001B[38;5;124;03m    Transformed samples.\u001B[39;00m\n\u001B[0;32m    469\u001B[0m \u001B[38;5;124;03m\"\"\"\u001B[39;00m\n\u001B[0;32m    470\u001B[0m fit_params_steps \u001B[38;5;241m=\u001B[39m \u001B[38;5;28mself\u001B[39m\u001B[38;5;241m.\u001B[39m_check_fit_params(\u001B[38;5;241m*\u001B[39m\u001B[38;5;241m*\u001B[39mfit_params)\n\u001B[1;32m--> 471\u001B[0m Xt \u001B[38;5;241m=\u001B[39m \u001B[38;5;28mself\u001B[39m\u001B[38;5;241m.\u001B[39m_fit(X, y, \u001B[38;5;241m*\u001B[39m\u001B[38;5;241m*\u001B[39mfit_params_steps)\n\u001B[0;32m    473\u001B[0m last_step \u001B[38;5;241m=\u001B[39m \u001B[38;5;28mself\u001B[39m\u001B[38;5;241m.\u001B[39m_final_estimator\n\u001B[0;32m    474\u001B[0m \u001B[38;5;28;01mwith\u001B[39;00m _print_elapsed_time(\u001B[38;5;124m\"\u001B[39m\u001B[38;5;124mPipeline\u001B[39m\u001B[38;5;124m\"\u001B[39m, \u001B[38;5;28mself\u001B[39m\u001B[38;5;241m.\u001B[39m_log_message(\u001B[38;5;28mlen\u001B[39m(\u001B[38;5;28mself\u001B[39m\u001B[38;5;241m.\u001B[39msteps) \u001B[38;5;241m-\u001B[39m \u001B[38;5;241m1\u001B[39m)):\n",
      "File \u001B[1;32m~\\Documents\\workprojects\\bci_complete\\venv_bci\\lib\\site-packages\\sklearn\\pipeline.py:377\u001B[0m, in \u001B[0;36mPipeline._fit\u001B[1;34m(self, X, y, **fit_params_steps)\u001B[0m\n\u001B[0;32m    375\u001B[0m     cloned_transformer \u001B[38;5;241m=\u001B[39m clone(transformer)\n\u001B[0;32m    376\u001B[0m \u001B[38;5;66;03m# Fit or load from cache the current transformer\u001B[39;00m\n\u001B[1;32m--> 377\u001B[0m X, fitted_transformer \u001B[38;5;241m=\u001B[39m fit_transform_one_cached(\n\u001B[0;32m    378\u001B[0m     cloned_transformer,\n\u001B[0;32m    379\u001B[0m     X,\n\u001B[0;32m    380\u001B[0m     y,\n\u001B[0;32m    381\u001B[0m     \u001B[38;5;28;01mNone\u001B[39;00m,\n\u001B[0;32m    382\u001B[0m     message_clsname\u001B[38;5;241m=\u001B[39m\u001B[38;5;124m\"\u001B[39m\u001B[38;5;124mPipeline\u001B[39m\u001B[38;5;124m\"\u001B[39m,\n\u001B[0;32m    383\u001B[0m     message\u001B[38;5;241m=\u001B[39m\u001B[38;5;28mself\u001B[39m\u001B[38;5;241m.\u001B[39m_log_message(step_idx),\n\u001B[0;32m    384\u001B[0m     \u001B[38;5;241m*\u001B[39m\u001B[38;5;241m*\u001B[39mfit_params_steps[name],\n\u001B[0;32m    385\u001B[0m )\n\u001B[0;32m    386\u001B[0m \u001B[38;5;66;03m# Replace the transformer of the step with the fitted\u001B[39;00m\n\u001B[0;32m    387\u001B[0m \u001B[38;5;66;03m# transformer. This is necessary when loading the transformer\u001B[39;00m\n\u001B[0;32m    388\u001B[0m \u001B[38;5;66;03m# from the cache.\u001B[39;00m\n\u001B[0;32m    389\u001B[0m \u001B[38;5;28mself\u001B[39m\u001B[38;5;241m.\u001B[39msteps[step_idx] \u001B[38;5;241m=\u001B[39m (name, fitted_transformer)\n",
      "File \u001B[1;32m~\\Documents\\workprojects\\bci_complete\\venv_bci\\lib\\site-packages\\joblib\\memory.py:353\u001B[0m, in \u001B[0;36mNotMemorizedFunc.__call__\u001B[1;34m(self, *args, **kwargs)\u001B[0m\n\u001B[0;32m    352\u001B[0m \u001B[38;5;28;01mdef\u001B[39;00m \u001B[38;5;21m__call__\u001B[39m(\u001B[38;5;28mself\u001B[39m, \u001B[38;5;241m*\u001B[39margs, \u001B[38;5;241m*\u001B[39m\u001B[38;5;241m*\u001B[39mkwargs):\n\u001B[1;32m--> 353\u001B[0m     \u001B[38;5;28;01mreturn\u001B[39;00m \u001B[38;5;28mself\u001B[39m\u001B[38;5;241m.\u001B[39mfunc(\u001B[38;5;241m*\u001B[39margs, \u001B[38;5;241m*\u001B[39m\u001B[38;5;241m*\u001B[39mkwargs)\n",
      "File \u001B[1;32m~\\Documents\\workprojects\\bci_complete\\venv_bci\\lib\\site-packages\\sklearn\\pipeline.py:957\u001B[0m, in \u001B[0;36m_fit_transform_one\u001B[1;34m(transformer, X, y, weight, message_clsname, message, **fit_params)\u001B[0m\n\u001B[0;32m    955\u001B[0m \u001B[38;5;28;01mwith\u001B[39;00m _print_elapsed_time(message_clsname, message):\n\u001B[0;32m    956\u001B[0m     \u001B[38;5;28;01mif\u001B[39;00m \u001B[38;5;28mhasattr\u001B[39m(transformer, \u001B[38;5;124m\"\u001B[39m\u001B[38;5;124mfit_transform\u001B[39m\u001B[38;5;124m\"\u001B[39m):\n\u001B[1;32m--> 957\u001B[0m         res \u001B[38;5;241m=\u001B[39m transformer\u001B[38;5;241m.\u001B[39mfit_transform(X, y, \u001B[38;5;241m*\u001B[39m\u001B[38;5;241m*\u001B[39mfit_params)\n\u001B[0;32m    958\u001B[0m     \u001B[38;5;28;01melse\u001B[39;00m:\n\u001B[0;32m    959\u001B[0m         res \u001B[38;5;241m=\u001B[39m transformer\u001B[38;5;241m.\u001B[39mfit(X, y, \u001B[38;5;241m*\u001B[39m\u001B[38;5;241m*\u001B[39mfit_params)\u001B[38;5;241m.\u001B[39mtransform(X)\n",
      "File \u001B[1;32m~\\Documents\\workprojects\\bci_complete\\venv_bci\\lib\\site-packages\\sklearn\\utils\\_set_output.py:157\u001B[0m, in \u001B[0;36m_wrap_method_output.<locals>.wrapped\u001B[1;34m(self, X, *args, **kwargs)\u001B[0m\n\u001B[0;32m    155\u001B[0m \u001B[38;5;129m@wraps\u001B[39m(f)\n\u001B[0;32m    156\u001B[0m \u001B[38;5;28;01mdef\u001B[39;00m \u001B[38;5;21mwrapped\u001B[39m(\u001B[38;5;28mself\u001B[39m, X, \u001B[38;5;241m*\u001B[39margs, \u001B[38;5;241m*\u001B[39m\u001B[38;5;241m*\u001B[39mkwargs):\n\u001B[1;32m--> 157\u001B[0m     data_to_wrap \u001B[38;5;241m=\u001B[39m f(\u001B[38;5;28mself\u001B[39m, X, \u001B[38;5;241m*\u001B[39margs, \u001B[38;5;241m*\u001B[39m\u001B[38;5;241m*\u001B[39mkwargs)\n\u001B[0;32m    158\u001B[0m     \u001B[38;5;28;01mif\u001B[39;00m \u001B[38;5;28misinstance\u001B[39m(data_to_wrap, \u001B[38;5;28mtuple\u001B[39m):\n\u001B[0;32m    159\u001B[0m         \u001B[38;5;66;03m# only wrap the first output for cross decomposition\u001B[39;00m\n\u001B[0;32m    160\u001B[0m         return_tuple \u001B[38;5;241m=\u001B[39m (\n\u001B[0;32m    161\u001B[0m             _wrap_data_with_container(method, data_to_wrap[\u001B[38;5;241m0\u001B[39m], X, \u001B[38;5;28mself\u001B[39m),\n\u001B[0;32m    162\u001B[0m             \u001B[38;5;241m*\u001B[39mdata_to_wrap[\u001B[38;5;241m1\u001B[39m:],\n\u001B[0;32m    163\u001B[0m         )\n",
      "File \u001B[1;32m~\\Documents\\workprojects\\bci_complete\\venv_bci\\lib\\site-packages\\sklearn\\base.py:919\u001B[0m, in \u001B[0;36mTransformerMixin.fit_transform\u001B[1;34m(self, X, y, **fit_params)\u001B[0m\n\u001B[0;32m    916\u001B[0m     \u001B[38;5;28;01mreturn\u001B[39;00m \u001B[38;5;28mself\u001B[39m\u001B[38;5;241m.\u001B[39mfit(X, \u001B[38;5;241m*\u001B[39m\u001B[38;5;241m*\u001B[39mfit_params)\u001B[38;5;241m.\u001B[39mtransform(X)\n\u001B[0;32m    917\u001B[0m \u001B[38;5;28;01melse\u001B[39;00m:\n\u001B[0;32m    918\u001B[0m     \u001B[38;5;66;03m# fit method of arity 2 (supervised transformation)\u001B[39;00m\n\u001B[1;32m--> 919\u001B[0m     \u001B[38;5;28;01mreturn\u001B[39;00m \u001B[38;5;28mself\u001B[39m\u001B[38;5;241m.\u001B[39mfit(X, y, \u001B[38;5;241m*\u001B[39m\u001B[38;5;241m*\u001B[39mfit_params)\u001B[38;5;241m.\u001B[39mtransform(X)\n",
      "File \u001B[1;32m~\\Documents\\workprojects\\bci_complete\\venv_bci\\lib\\site-packages\\sklearn\\preprocessing\\_data.py:435\u001B[0m, in \u001B[0;36mMinMaxScaler.fit\u001B[1;34m(self, X, y)\u001B[0m\n\u001B[0;32m    433\u001B[0m \u001B[38;5;66;03m# Reset internal state before fitting\u001B[39;00m\n\u001B[0;32m    434\u001B[0m \u001B[38;5;28mself\u001B[39m\u001B[38;5;241m.\u001B[39m_reset()\n\u001B[1;32m--> 435\u001B[0m \u001B[38;5;28;01mreturn\u001B[39;00m \u001B[38;5;28;43mself\u001B[39;49m\u001B[38;5;241;43m.\u001B[39;49m\u001B[43mpartial_fit\u001B[49m\u001B[43m(\u001B[49m\u001B[43mX\u001B[49m\u001B[43m,\u001B[49m\u001B[43m \u001B[49m\u001B[43my\u001B[49m\u001B[43m)\u001B[49m\n",
      "File \u001B[1;32m~\\Documents\\workprojects\\bci_complete\\venv_bci\\lib\\site-packages\\sklearn\\base.py:1152\u001B[0m, in \u001B[0;36m_fit_context.<locals>.decorator.<locals>.wrapper\u001B[1;34m(estimator, *args, **kwargs)\u001B[0m\n\u001B[0;32m   1145\u001B[0m     estimator\u001B[38;5;241m.\u001B[39m_validate_params()\n\u001B[0;32m   1147\u001B[0m \u001B[38;5;28;01mwith\u001B[39;00m config_context(\n\u001B[0;32m   1148\u001B[0m     skip_parameter_validation\u001B[38;5;241m=\u001B[39m(\n\u001B[0;32m   1149\u001B[0m         prefer_skip_nested_validation \u001B[38;5;129;01mor\u001B[39;00m global_skip_validation\n\u001B[0;32m   1150\u001B[0m     )\n\u001B[0;32m   1151\u001B[0m ):\n\u001B[1;32m-> 1152\u001B[0m     \u001B[38;5;28;01mreturn\u001B[39;00m fit_method(estimator, \u001B[38;5;241m*\u001B[39margs, \u001B[38;5;241m*\u001B[39m\u001B[38;5;241m*\u001B[39mkwargs)\n",
      "File \u001B[1;32m~\\Documents\\workprojects\\bci_complete\\venv_bci\\lib\\site-packages\\sklearn\\preprocessing\\_data.py:473\u001B[0m, in \u001B[0;36mMinMaxScaler.partial_fit\u001B[1;34m(self, X, y)\u001B[0m\n\u001B[0;32m    467\u001B[0m     \u001B[38;5;28;01mraise\u001B[39;00m \u001B[38;5;167;01mTypeError\u001B[39;00m(\n\u001B[0;32m    468\u001B[0m         \u001B[38;5;124m\"\u001B[39m\u001B[38;5;124mMinMaxScaler does not support sparse input. \u001B[39m\u001B[38;5;124m\"\u001B[39m\n\u001B[0;32m    469\u001B[0m         \u001B[38;5;124m\"\u001B[39m\u001B[38;5;124mConsider using MaxAbsScaler instead.\u001B[39m\u001B[38;5;124m\"\u001B[39m\n\u001B[0;32m    470\u001B[0m     )\n\u001B[0;32m    472\u001B[0m first_pass \u001B[38;5;241m=\u001B[39m \u001B[38;5;129;01mnot\u001B[39;00m \u001B[38;5;28mhasattr\u001B[39m(\u001B[38;5;28mself\u001B[39m, \u001B[38;5;124m\"\u001B[39m\u001B[38;5;124mn_samples_seen_\u001B[39m\u001B[38;5;124m\"\u001B[39m)\n\u001B[1;32m--> 473\u001B[0m X \u001B[38;5;241m=\u001B[39m \u001B[38;5;28;43mself\u001B[39;49m\u001B[38;5;241;43m.\u001B[39;49m\u001B[43m_validate_data\u001B[49m\u001B[43m(\u001B[49m\n\u001B[0;32m    474\u001B[0m \u001B[43m    \u001B[49m\u001B[43mX\u001B[49m\u001B[43m,\u001B[49m\n\u001B[0;32m    475\u001B[0m \u001B[43m    \u001B[49m\u001B[43mreset\u001B[49m\u001B[38;5;241;43m=\u001B[39;49m\u001B[43mfirst_pass\u001B[49m\u001B[43m,\u001B[49m\n\u001B[0;32m    476\u001B[0m \u001B[43m    \u001B[49m\u001B[43mdtype\u001B[49m\u001B[38;5;241;43m=\u001B[39;49m\u001B[43mFLOAT_DTYPES\u001B[49m\u001B[43m,\u001B[49m\n\u001B[0;32m    477\u001B[0m \u001B[43m    \u001B[49m\u001B[43mforce_all_finite\u001B[49m\u001B[38;5;241;43m=\u001B[39;49m\u001B[38;5;124;43m\"\u001B[39;49m\u001B[38;5;124;43mallow-nan\u001B[39;49m\u001B[38;5;124;43m\"\u001B[39;49m\u001B[43m,\u001B[49m\n\u001B[0;32m    478\u001B[0m \u001B[43m\u001B[49m\u001B[43m)\u001B[49m\n\u001B[0;32m    480\u001B[0m data_min \u001B[38;5;241m=\u001B[39m np\u001B[38;5;241m.\u001B[39mnanmin(X, axis\u001B[38;5;241m=\u001B[39m\u001B[38;5;241m0\u001B[39m)\n\u001B[0;32m    481\u001B[0m data_max \u001B[38;5;241m=\u001B[39m np\u001B[38;5;241m.\u001B[39mnanmax(X, axis\u001B[38;5;241m=\u001B[39m\u001B[38;5;241m0\u001B[39m)\n",
      "File \u001B[1;32m~\\Documents\\workprojects\\bci_complete\\venv_bci\\lib\\site-packages\\sklearn\\base.py:605\u001B[0m, in \u001B[0;36mBaseEstimator._validate_data\u001B[1;34m(self, X, y, reset, validate_separately, cast_to_ndarray, **check_params)\u001B[0m\n\u001B[0;32m    603\u001B[0m         out \u001B[38;5;241m=\u001B[39m X, y\n\u001B[0;32m    604\u001B[0m \u001B[38;5;28;01melif\u001B[39;00m \u001B[38;5;129;01mnot\u001B[39;00m no_val_X \u001B[38;5;129;01mand\u001B[39;00m no_val_y:\n\u001B[1;32m--> 605\u001B[0m     out \u001B[38;5;241m=\u001B[39m check_array(X, input_name\u001B[38;5;241m=\u001B[39m\u001B[38;5;124m\"\u001B[39m\u001B[38;5;124mX\u001B[39m\u001B[38;5;124m\"\u001B[39m, \u001B[38;5;241m*\u001B[39m\u001B[38;5;241m*\u001B[39mcheck_params)\n\u001B[0;32m    606\u001B[0m \u001B[38;5;28;01melif\u001B[39;00m no_val_X \u001B[38;5;129;01mand\u001B[39;00m \u001B[38;5;129;01mnot\u001B[39;00m no_val_y:\n\u001B[0;32m    607\u001B[0m     out \u001B[38;5;241m=\u001B[39m _check_y(y, \u001B[38;5;241m*\u001B[39m\u001B[38;5;241m*\u001B[39mcheck_params)\n",
      "File \u001B[1;32m~\\Documents\\workprojects\\bci_complete\\venv_bci\\lib\\site-packages\\sklearn\\utils\\validation.py:951\u001B[0m, in \u001B[0;36mcheck_array\u001B[1;34m(array, accept_sparse, accept_large_sparse, dtype, order, copy, force_all_finite, ensure_2d, allow_nd, ensure_min_samples, ensure_min_features, estimator, input_name)\u001B[0m\n\u001B[0;32m    946\u001B[0m     \u001B[38;5;28;01mraise\u001B[39;00m \u001B[38;5;167;01mValueError\u001B[39;00m(\n\u001B[0;32m    947\u001B[0m         \u001B[38;5;124m\"\u001B[39m\u001B[38;5;124mdtype=\u001B[39m\u001B[38;5;124m'\u001B[39m\u001B[38;5;124mnumeric\u001B[39m\u001B[38;5;124m'\u001B[39m\u001B[38;5;124m is not compatible with arrays of bytes/strings.\u001B[39m\u001B[38;5;124m\"\u001B[39m\n\u001B[0;32m    948\u001B[0m         \u001B[38;5;124m\"\u001B[39m\u001B[38;5;124mConvert your data to numeric values explicitly instead.\u001B[39m\u001B[38;5;124m\"\u001B[39m\n\u001B[0;32m    949\u001B[0m     )\n\u001B[0;32m    950\u001B[0m \u001B[38;5;28;01mif\u001B[39;00m \u001B[38;5;129;01mnot\u001B[39;00m allow_nd \u001B[38;5;129;01mand\u001B[39;00m array\u001B[38;5;241m.\u001B[39mndim \u001B[38;5;241m>\u001B[39m\u001B[38;5;241m=\u001B[39m \u001B[38;5;241m3\u001B[39m:\n\u001B[1;32m--> 951\u001B[0m     \u001B[38;5;28;01mraise\u001B[39;00m \u001B[38;5;167;01mValueError\u001B[39;00m(\n\u001B[0;32m    952\u001B[0m         \u001B[38;5;124m\"\u001B[39m\u001B[38;5;124mFound array with dim \u001B[39m\u001B[38;5;132;01m%d\u001B[39;00m\u001B[38;5;124m. \u001B[39m\u001B[38;5;132;01m%s\u001B[39;00m\u001B[38;5;124m expected <= 2.\u001B[39m\u001B[38;5;124m\"\u001B[39m\n\u001B[0;32m    953\u001B[0m         \u001B[38;5;241m%\u001B[39m (array\u001B[38;5;241m.\u001B[39mndim, estimator_name)\n\u001B[0;32m    954\u001B[0m     )\n\u001B[0;32m    956\u001B[0m \u001B[38;5;28;01mif\u001B[39;00m force_all_finite:\n\u001B[0;32m    957\u001B[0m     _assert_all_finite(\n\u001B[0;32m    958\u001B[0m         array,\n\u001B[0;32m    959\u001B[0m         input_name\u001B[38;5;241m=\u001B[39minput_name,\n\u001B[0;32m    960\u001B[0m         estimator_name\u001B[38;5;241m=\u001B[39mestimator_name,\n\u001B[0;32m    961\u001B[0m         allow_nan\u001B[38;5;241m=\u001B[39mforce_all_finite \u001B[38;5;241m==\u001B[39m \u001B[38;5;124m\"\u001B[39m\u001B[38;5;124mallow-nan\u001B[39m\u001B[38;5;124m\"\u001B[39m,\n\u001B[0;32m    962\u001B[0m     )\n",
      "\u001B[1;31mValueError\u001B[0m: Found array with dim 3. MinMaxScaler expected <= 2."
     ]
    }
   ],
   "source": [
    "x_train, x_test, y_train, y_test = train_test_split(data, labels, test_size=0.2, random_state=42)\n",
    "\n",
    "\n",
    "features: dict = {\n",
    "    \"Vectorizer\": Pipeline([(\"Vectorizer\", Vectorizer())]),\n",
    "    \"ERPcova\": Pipeline([(\"ERPcova\", ERPCovariances(estimator='oas')), (\"ts\", TangentSpace())]), # Add TangentSpace, otherwise the dimensions are not 2D.\n",
    "    \"XdawnCova\": Pipeline([(\"XdawnCova\", XdawnCovariances(estimator='oas')), (\"ts\", TangentSpace())]), # Add TangentSpace, otherwise the dimensions are not 2D.\n",
    "    \"CSP\": Pipeline([(\"Vectorizer\", CSP(n_components=4, reg=None, log=True, norm_trace=False))]),\n",
    "    \"Cova\": Pipeline([(\"Cova\", Covariances()), (\"ts\", TangentSpace())]), # Add TangentSpace, otherwise the dimensions are not 2D.\n",
    "            }\n",
    "frequency_ranges: dict = {\n",
    "    \"complete\": [0, 140],\n",
    "    \"delta\": [0, 3],\n",
    "    \"theta\": [3, 7],\n",
    "    \"alpha\": [7, 13],\n",
    "    \"beta 1\": [13, 16],\n",
    "    \"beta 2\": [16, 20],\n",
    "    \"beta 3\": [20, 35],\n",
    "    \"gamma\": [35, 140],\n",
    "}\n",
    "\n",
    "\n",
    "features_df = pd.DataFrame()\n",
    "for feature_name, feature_method in features.items():\n",
    "    for frequency_bandwidth_name, frequency_bandwidth in frequency_ranges.items():\n",
    "        print(frequency_bandwidth)\n",
    "        iir_params = dict(order=8, ftype=\"butter\")\n",
    "        filt = mne.filter.create_filter(\n",
    "            x_train, dataset_info['sample_rate'], l_freq=frequency_bandwidth[0], h_freq=frequency_bandwidth[1], method=\"iir\", iir_params=iir_params, verbose=True\n",
    "        )\n",
    "        filtered = signal.sosfiltfilt(filt[\"sos\"], x_train)\n",
    "        \n",
    "        X_features = feature_method.fit_transform(filtered, y_train)\n",
    "        print(\"Combined space has\", X_features.shape[1], \"features\")\n",
    "        column_name = [f'{frequency_bandwidth_name}_{feature_name}_{num}' for num in range(0, X_features.shape[1])]\n",
    "        temp_features_df = pd.DataFrame(X_features, columns=column_name)\n",
    "        features_df = pd.concat([features_df, temp_features_df], axis=1)"
   ],
   "metadata": {
    "collapsed": false,
    "ExecuteTime": {
     "end_time": "2024-03-24T18:02:59.726134800Z",
     "start_time": "2024-03-24T18:02:59.414765800Z"
    }
   },
   "id": "bc46f9f6cb17c1ab",
   "execution_count": 54
  },
  {
   "cell_type": "markdown",
   "source": [
    "# Select characteristics"
   ],
   "metadata": {
    "collapsed": false
   },
   "id": "e0fcbded5d351982"
  },
  {
   "cell_type": "code",
   "outputs": [
    {
     "data": {
      "text/plain": "(84, 197228)"
     },
     "execution_count": 41,
     "metadata": {},
     "output_type": "execute_result"
    }
   ],
   "source": [
    "from sklearn.feature_selection import SelectKBest\n",
    "from sklearn.feature_selection import f_classif\n",
    "\n",
    "features_df.shape"
   ],
   "metadata": {
    "collapsed": false,
    "ExecuteTime": {
     "end_time": "2024-03-24T16:16:27.059531900Z",
     "start_time": "2024-03-24T16:16:27.039108100Z"
    }
   },
   "id": "2ad4a1c74ff9ea54",
   "execution_count": 41
  },
  {
   "cell_type": "code",
   "outputs": [
    {
     "data": {
      "text/plain": "(84, 10000)"
     },
     "execution_count": 42,
     "metadata": {},
     "output_type": "execute_result"
    }
   ],
   "source": [
    "X_SelectKBest = SelectKBest(f_classif, k=10000)\n",
    "X_new = X_SelectKBest.fit_transform(features_df, y_train)\n",
    "X_new.shape"
   ],
   "metadata": {
    "collapsed": false,
    "ExecuteTime": {
     "end_time": "2024-03-24T16:16:33.132812600Z",
     "start_time": "2024-03-24T16:16:31.806071600Z"
    }
   },
   "id": "5f8a1585419e9796",
   "execution_count": 42
  },
  {
   "cell_type": "code",
   "outputs": [
    {
     "data": {
      "text/plain": "array(['complete_Vectorizer_967', 'complete_Vectorizer_971',\n       'complete_Vectorizer_1008', ..., 'complete_Cova_138',\n       'complete_Cova_234', 'complete_Cova_281'], dtype=object)"
     },
     "execution_count": 43,
     "metadata": {},
     "output_type": "execute_result"
    }
   ],
   "source": [
    "columns_list = X_SelectKBest.get_feature_names_out()\n",
    "columns_list"
   ],
   "metadata": {
    "collapsed": false,
    "ExecuteTime": {
     "end_time": "2024-03-24T16:16:33.165629700Z",
     "start_time": "2024-03-24T16:16:33.120780500Z"
    }
   },
   "id": "1582b724948e1739",
   "execution_count": 43
  },
  {
   "cell_type": "code",
   "outputs": [
    {
     "data": {
      "text/plain": "    complete_Vectorizer_967  complete_Vectorizer_971  \\\n0                  0.388619                 0.174608   \n1                 -0.001111                -0.000818   \n2                  0.269030                 0.053549   \n3                 -0.000034                -0.000015   \n4                 -0.007818                -0.005944   \n..                      ...                      ...   \n79                -0.021693                 0.000086   \n80                 0.000774                -0.006757   \n81                -0.007383                 0.003680   \n82                -0.007086                 0.009441   \n83                 0.464782                 0.431095   \n\n    complete_Vectorizer_1008  complete_Vectorizer_1009  \\\n0                   0.238878              1.252703e-01   \n1                  -0.000094              6.198250e-06   \n2                   0.325844              4.076216e-01   \n3                   0.000001              9.012330e-07   \n4                  -0.000493              1.117791e-03   \n..                       ...                       ...   \n79                  0.226316              2.829980e-01   \n80                  0.083303              6.410674e-02   \n81                 -0.004548              3.846708e-03   \n82                  0.107235              1.160800e-01   \n83                 -0.052220              8.078583e-02   \n\n    complete_Vectorizer_1028  complete_Vectorizer_1093  \\\n0                   0.015921                  0.000014   \n1                  -0.000725                 -0.010537   \n2                   0.335259                  0.251690   \n3                  -0.000083                 -0.000154   \n4                   0.032792                  0.017865   \n..                       ...                       ...   \n79                  0.233483                  0.328561   \n80                 -0.000113                  0.006393   \n81                 -0.000468                  0.000082   \n82                 -0.019969                  0.056075   \n83                  0.246543                  0.151857   \n\n    complete_Vectorizer_1414  complete_Vectorizer_1462  \\\n0               3.063442e+00              1.533769e+00   \n1               1.298304e-02              4.996582e-03   \n2               7.627464e-01              1.709923e-03   \n3               9.999999e-09              1.000974e-08   \n4               2.078882e-06             -1.559640e-02   \n..                       ...                       ...   \n79              5.478628e-01              3.826861e-01   \n80              8.979927e-02              1.121637e-02   \n81              1.652811e+00              1.391509e+00   \n82              1.000000e-08              1.000006e-08   \n83             -1.607279e-07              1.628305e-03   \n\n    complete_Vectorizer_1463  complete_Vectorizer_1464  ...  beta 3_CSP_0  \\\n0               1.332792e+00              1.085726e+00  ...     -1.969238   \n1               1.146699e-03             -4.204899e-03  ...     -2.153030   \n2              -5.759997e-02              1.640157e-01  ...     -0.564486   \n3               1.000112e-08              9.985120e-09  ...     -1.652073   \n4              -5.037876e-02              4.972813e-02  ...     -2.203559   \n..                       ...                       ...  ...           ...   \n79              4.731290e-01              9.772583e-01  ...     -2.104256   \n80             -2.587531e-02             -1.160922e-02  ...     -1.244687   \n81              1.328599e+00              8.247640e-01  ...     -0.781909   \n82              1.000037e-08              9.999736e-09  ...     -1.580850   \n83              3.834039e-03             -5.227556e-03  ...     -1.289254   \n\n    beta 3_CSP_2  beta 3_CSP_3  complete_Cova_12  complete_Cova_14  \\\n0      -0.554704     -0.080776          0.085728         -0.229480   \n1      -0.485715     -1.003320         -0.203215          0.071245   \n2       3.312458     -0.272012         -0.076677          0.310052   \n3      -1.380654      0.404118          0.248350          0.070930   \n4       0.008424     -0.509605          0.443731         -0.051345   \n..           ...           ...               ...               ...   \n79     -1.165099      0.352150          0.107375          0.012635   \n80     -0.733689      1.059212          0.288433          0.029791   \n81     -0.378260      0.032145          0.493051          0.176135   \n82     -0.301780      0.375330         -0.247301         -0.109771   \n83      0.080844      0.595978          0.045810          0.005343   \n\n    complete_Cova_18  complete_Cova_35  complete_Cova_138  complete_Cova_234  \\\n0          -0.105350         -0.204235          -0.256018           0.935951   \n1           0.019106          0.001073          -0.081053          -0.123643   \n2           0.038013          0.042998          -0.082986           2.906098   \n3          -0.059967          0.259227          -0.138710           0.136986   \n4          -0.033492         -0.365832          -0.148214           0.578689   \n..               ...               ...                ...                ...   \n79          0.063652         -0.149026          -0.086537          -0.564139   \n80         -0.028178          0.055336           0.071149          -0.196173   \n81         -0.025063          0.736571          -0.051002          -0.011910   \n82          0.027605          0.013604          -0.182694           0.798616   \n83          0.074339         -0.075040          -0.316714           0.479419   \n\n    complete_Cova_281  \n0            0.030557  \n1            0.460803  \n2           -0.153944  \n3            0.030523  \n4           -0.148915  \n..                ...  \n79           0.164412  \n80           0.070820  \n81          -0.032785  \n82          -0.189218  \n83          -0.067215  \n\n[84 rows x 10000 columns]",
      "text/html": "<div>\n<style scoped>\n    .dataframe tbody tr th:only-of-type {\n        vertical-align: middle;\n    }\n\n    .dataframe tbody tr th {\n        vertical-align: top;\n    }\n\n    .dataframe thead th {\n        text-align: right;\n    }\n</style>\n<table border=\"1\" class=\"dataframe\">\n  <thead>\n    <tr style=\"text-align: right;\">\n      <th></th>\n      <th>complete_Vectorizer_967</th>\n      <th>complete_Vectorizer_971</th>\n      <th>complete_Vectorizer_1008</th>\n      <th>complete_Vectorizer_1009</th>\n      <th>complete_Vectorizer_1028</th>\n      <th>complete_Vectorizer_1093</th>\n      <th>complete_Vectorizer_1414</th>\n      <th>complete_Vectorizer_1462</th>\n      <th>complete_Vectorizer_1463</th>\n      <th>complete_Vectorizer_1464</th>\n      <th>...</th>\n      <th>beta 3_CSP_0</th>\n      <th>beta 3_CSP_2</th>\n      <th>beta 3_CSP_3</th>\n      <th>complete_Cova_12</th>\n      <th>complete_Cova_14</th>\n      <th>complete_Cova_18</th>\n      <th>complete_Cova_35</th>\n      <th>complete_Cova_138</th>\n      <th>complete_Cova_234</th>\n      <th>complete_Cova_281</th>\n    </tr>\n  </thead>\n  <tbody>\n    <tr>\n      <th>0</th>\n      <td>0.388619</td>\n      <td>0.174608</td>\n      <td>0.238878</td>\n      <td>1.252703e-01</td>\n      <td>0.015921</td>\n      <td>0.000014</td>\n      <td>3.063442e+00</td>\n      <td>1.533769e+00</td>\n      <td>1.332792e+00</td>\n      <td>1.085726e+00</td>\n      <td>...</td>\n      <td>-1.969238</td>\n      <td>-0.554704</td>\n      <td>-0.080776</td>\n      <td>0.085728</td>\n      <td>-0.229480</td>\n      <td>-0.105350</td>\n      <td>-0.204235</td>\n      <td>-0.256018</td>\n      <td>0.935951</td>\n      <td>0.030557</td>\n    </tr>\n    <tr>\n      <th>1</th>\n      <td>-0.001111</td>\n      <td>-0.000818</td>\n      <td>-0.000094</td>\n      <td>6.198250e-06</td>\n      <td>-0.000725</td>\n      <td>-0.010537</td>\n      <td>1.298304e-02</td>\n      <td>4.996582e-03</td>\n      <td>1.146699e-03</td>\n      <td>-4.204899e-03</td>\n      <td>...</td>\n      <td>-2.153030</td>\n      <td>-0.485715</td>\n      <td>-1.003320</td>\n      <td>-0.203215</td>\n      <td>0.071245</td>\n      <td>0.019106</td>\n      <td>0.001073</td>\n      <td>-0.081053</td>\n      <td>-0.123643</td>\n      <td>0.460803</td>\n    </tr>\n    <tr>\n      <th>2</th>\n      <td>0.269030</td>\n      <td>0.053549</td>\n      <td>0.325844</td>\n      <td>4.076216e-01</td>\n      <td>0.335259</td>\n      <td>0.251690</td>\n      <td>7.627464e-01</td>\n      <td>1.709923e-03</td>\n      <td>-5.759997e-02</td>\n      <td>1.640157e-01</td>\n      <td>...</td>\n      <td>-0.564486</td>\n      <td>3.312458</td>\n      <td>-0.272012</td>\n      <td>-0.076677</td>\n      <td>0.310052</td>\n      <td>0.038013</td>\n      <td>0.042998</td>\n      <td>-0.082986</td>\n      <td>2.906098</td>\n      <td>-0.153944</td>\n    </tr>\n    <tr>\n      <th>3</th>\n      <td>-0.000034</td>\n      <td>-0.000015</td>\n      <td>0.000001</td>\n      <td>9.012330e-07</td>\n      <td>-0.000083</td>\n      <td>-0.000154</td>\n      <td>9.999999e-09</td>\n      <td>1.000974e-08</td>\n      <td>1.000112e-08</td>\n      <td>9.985120e-09</td>\n      <td>...</td>\n      <td>-1.652073</td>\n      <td>-1.380654</td>\n      <td>0.404118</td>\n      <td>0.248350</td>\n      <td>0.070930</td>\n      <td>-0.059967</td>\n      <td>0.259227</td>\n      <td>-0.138710</td>\n      <td>0.136986</td>\n      <td>0.030523</td>\n    </tr>\n    <tr>\n      <th>4</th>\n      <td>-0.007818</td>\n      <td>-0.005944</td>\n      <td>-0.000493</td>\n      <td>1.117791e-03</td>\n      <td>0.032792</td>\n      <td>0.017865</td>\n      <td>2.078882e-06</td>\n      <td>-1.559640e-02</td>\n      <td>-5.037876e-02</td>\n      <td>4.972813e-02</td>\n      <td>...</td>\n      <td>-2.203559</td>\n      <td>0.008424</td>\n      <td>-0.509605</td>\n      <td>0.443731</td>\n      <td>-0.051345</td>\n      <td>-0.033492</td>\n      <td>-0.365832</td>\n      <td>-0.148214</td>\n      <td>0.578689</td>\n      <td>-0.148915</td>\n    </tr>\n    <tr>\n      <th>...</th>\n      <td>...</td>\n      <td>...</td>\n      <td>...</td>\n      <td>...</td>\n      <td>...</td>\n      <td>...</td>\n      <td>...</td>\n      <td>...</td>\n      <td>...</td>\n      <td>...</td>\n      <td>...</td>\n      <td>...</td>\n      <td>...</td>\n      <td>...</td>\n      <td>...</td>\n      <td>...</td>\n      <td>...</td>\n      <td>...</td>\n      <td>...</td>\n      <td>...</td>\n      <td>...</td>\n    </tr>\n    <tr>\n      <th>79</th>\n      <td>-0.021693</td>\n      <td>0.000086</td>\n      <td>0.226316</td>\n      <td>2.829980e-01</td>\n      <td>0.233483</td>\n      <td>0.328561</td>\n      <td>5.478628e-01</td>\n      <td>3.826861e-01</td>\n      <td>4.731290e-01</td>\n      <td>9.772583e-01</td>\n      <td>...</td>\n      <td>-2.104256</td>\n      <td>-1.165099</td>\n      <td>0.352150</td>\n      <td>0.107375</td>\n      <td>0.012635</td>\n      <td>0.063652</td>\n      <td>-0.149026</td>\n      <td>-0.086537</td>\n      <td>-0.564139</td>\n      <td>0.164412</td>\n    </tr>\n    <tr>\n      <th>80</th>\n      <td>0.000774</td>\n      <td>-0.006757</td>\n      <td>0.083303</td>\n      <td>6.410674e-02</td>\n      <td>-0.000113</td>\n      <td>0.006393</td>\n      <td>8.979927e-02</td>\n      <td>1.121637e-02</td>\n      <td>-2.587531e-02</td>\n      <td>-1.160922e-02</td>\n      <td>...</td>\n      <td>-1.244687</td>\n      <td>-0.733689</td>\n      <td>1.059212</td>\n      <td>0.288433</td>\n      <td>0.029791</td>\n      <td>-0.028178</td>\n      <td>0.055336</td>\n      <td>0.071149</td>\n      <td>-0.196173</td>\n      <td>0.070820</td>\n    </tr>\n    <tr>\n      <th>81</th>\n      <td>-0.007383</td>\n      <td>0.003680</td>\n      <td>-0.004548</td>\n      <td>3.846708e-03</td>\n      <td>-0.000468</td>\n      <td>0.000082</td>\n      <td>1.652811e+00</td>\n      <td>1.391509e+00</td>\n      <td>1.328599e+00</td>\n      <td>8.247640e-01</td>\n      <td>...</td>\n      <td>-0.781909</td>\n      <td>-0.378260</td>\n      <td>0.032145</td>\n      <td>0.493051</td>\n      <td>0.176135</td>\n      <td>-0.025063</td>\n      <td>0.736571</td>\n      <td>-0.051002</td>\n      <td>-0.011910</td>\n      <td>-0.032785</td>\n    </tr>\n    <tr>\n      <th>82</th>\n      <td>-0.007086</td>\n      <td>0.009441</td>\n      <td>0.107235</td>\n      <td>1.160800e-01</td>\n      <td>-0.019969</td>\n      <td>0.056075</td>\n      <td>1.000000e-08</td>\n      <td>1.000006e-08</td>\n      <td>1.000037e-08</td>\n      <td>9.999736e-09</td>\n      <td>...</td>\n      <td>-1.580850</td>\n      <td>-0.301780</td>\n      <td>0.375330</td>\n      <td>-0.247301</td>\n      <td>-0.109771</td>\n      <td>0.027605</td>\n      <td>0.013604</td>\n      <td>-0.182694</td>\n      <td>0.798616</td>\n      <td>-0.189218</td>\n    </tr>\n    <tr>\n      <th>83</th>\n      <td>0.464782</td>\n      <td>0.431095</td>\n      <td>-0.052220</td>\n      <td>8.078583e-02</td>\n      <td>0.246543</td>\n      <td>0.151857</td>\n      <td>-1.607279e-07</td>\n      <td>1.628305e-03</td>\n      <td>3.834039e-03</td>\n      <td>-5.227556e-03</td>\n      <td>...</td>\n      <td>-1.289254</td>\n      <td>0.080844</td>\n      <td>0.595978</td>\n      <td>0.045810</td>\n      <td>0.005343</td>\n      <td>0.074339</td>\n      <td>-0.075040</td>\n      <td>-0.316714</td>\n      <td>0.479419</td>\n      <td>-0.067215</td>\n    </tr>\n  </tbody>\n</table>\n<p>84 rows × 10000 columns</p>\n</div>"
     },
     "execution_count": 45,
     "metadata": {},
     "output_type": "execute_result"
    }
   ],
   "source": [
    "X_new_df = pd.DataFrame(X_new, columns=columns_list)\n",
    "#X_new_df.to_csv(ROOT_VOTING_SYSTEM_PATH + f\"/Results/features_Vectorizer_and_CSP_{dataset_name}.csv\", index=False)\n",
    "X_new_df"
   ],
   "metadata": {
    "collapsed": false,
    "ExecuteTime": {
     "end_time": "2024-03-24T16:16:52.365571900Z",
     "start_time": "2024-03-24T16:16:52.347390Z"
    }
   },
   "id": "d69989a15e624f80",
   "execution_count": 45
  },
  {
   "cell_type": "markdown",
   "source": [
    "# Classification of train"
   ],
   "metadata": {
    "collapsed": false
   },
   "id": "3f4e622ca1772f1f"
  },
  {
   "cell_type": "code",
   "outputs": [
    {
     "name": "stderr",
     "output_type": "stream",
     "text": [
      "C:\\Users\\rosit\\Documents\\workprojects\\bci_complete\\venv_bci\\lib\\site-packages\\sklearn\\discriminant_analysis.py:935: UserWarning: Variables are collinear\n",
      "  warnings.warn(\"Variables are collinear\")\n",
      "C:\\Users\\rosit\\Documents\\workprojects\\bci_complete\\venv_bci\\lib\\site-packages\\sklearn\\discriminant_analysis.py:935: UserWarning: Variables are collinear\n",
      "  warnings.warn(\"Variables are collinear\")\n",
      "C:\\Users\\rosit\\Documents\\workprojects\\bci_complete\\venv_bci\\lib\\site-packages\\sklearn\\discriminant_analysis.py:935: UserWarning: Variables are collinear\n",
      "  warnings.warn(\"Variables are collinear\")\n",
      "C:\\Users\\rosit\\Documents\\workprojects\\bci_complete\\venv_bci\\lib\\site-packages\\sklearn\\discriminant_analysis.py:935: UserWarning: Variables are collinear\n",
      "  warnings.warn(\"Variables are collinear\")\n"
     ]
    },
    {
     "name": "stdout",
     "output_type": "stream",
     "text": [
      "Best Test Score: \n",
      "0.9880952380952381\n"
     ]
    }
   ],
   "source": [
    "from data_utils import get_best_classificator_and_test_accuracy, ClfSwitcher\n",
    "classifier, acc = get_best_classificator_and_test_accuracy(X_new_df, y_train, Pipeline([('clf', ClfSwitcher())]))"
   ],
   "metadata": {
    "collapsed": false,
    "ExecuteTime": {
     "end_time": "2024-03-24T16:18:18.091212800Z",
     "start_time": "2024-03-24T16:17:09.369698700Z"
    }
   },
   "id": "a8cb5bddbabf80cb",
   "execution_count": 46
  },
  {
   "cell_type": "code",
   "outputs": [
    {
     "name": "stdout",
     "output_type": "stream",
     "text": [
      "0.9880952380952381\n"
     ]
    }
   ],
   "source": [
    "print(acc)"
   ],
   "metadata": {
    "collapsed": false,
    "ExecuteTime": {
     "end_time": "2024-03-24T16:18:18.102483800Z",
     "start_time": "2024-03-24T16:18:18.082401300Z"
    }
   },
   "id": "87044c0ad85833a8",
   "execution_count": 47
  },
  {
   "cell_type": "markdown",
   "source": [
    "# Repeat for test"
   ],
   "metadata": {
    "collapsed": false
   },
   "id": "506276ca99e4acc2"
  },
  {
   "cell_type": "code",
   "outputs": [
    {
     "name": "stdout",
     "output_type": "stream",
     "text": [
      "[0, 140]\n",
      "Setting up low-pass filter at 1.4e+02 Hz\n",
      "\n",
      "IIR filter parameters\n",
      "---------------------\n",
      "Butterworth lowpass zero-phase (two-pass forward and reverse) non-causal filter:\n",
      "- Filter order 16 (effective, after forward-backward)\n",
      "- Cutoff at 140.00 Hz: -6.02 dB\n",
      "\n",
      "Combined space has 16824 features\n",
      "[0, 3]\n",
      "Setting up low-pass filter at 3 Hz\n",
      "\n",
      "IIR filter parameters\n",
      "---------------------\n",
      "Butterworth lowpass zero-phase (two-pass forward and reverse) non-causal filter:\n",
      "- Filter order 16 (effective, after forward-backward)\n",
      "- Cutoff at 3.00 Hz: -6.02 dB\n",
      "\n",
      "Combined space has 16824 features\n",
      "[3, 7]\n",
      "Setting up band-pass filter from 3 - 7 Hz\n",
      "\n",
      "IIR filter parameters\n",
      "---------------------\n",
      "Butterworth bandpass zero-phase (two-pass forward and reverse) non-causal filter:\n",
      "- Filter order 32 (effective, after forward-backward)\n",
      "- Cutoffs at 3.00, 7.00 Hz: -6.02, -6.02 dB\n",
      "\n",
      "Combined space has 16824 features\n",
      "[7, 13]\n",
      "Setting up band-pass filter from 7 - 13 Hz\n",
      "\n",
      "IIR filter parameters\n",
      "---------------------\n",
      "Butterworth bandpass zero-phase (two-pass forward and reverse) non-causal filter:\n",
      "- Filter order 32 (effective, after forward-backward)\n",
      "- Cutoffs at 7.00, 13.00 Hz: -6.02, -6.02 dB\n",
      "\n",
      "Combined space has 16824 features\n",
      "[13, 16]\n",
      "Setting up band-pass filter from 13 - 16 Hz\n",
      "\n",
      "IIR filter parameters\n",
      "---------------------\n",
      "Butterworth bandpass zero-phase (two-pass forward and reverse) non-causal filter:\n",
      "- Filter order 32 (effective, after forward-backward)\n",
      "- Cutoffs at 13.00, 16.00 Hz: -6.02, -6.02 dB\n",
      "\n",
      "Combined space has 16824 features\n",
      "[16, 20]\n",
      "Setting up band-pass filter from 16 - 20 Hz\n",
      "\n",
      "IIR filter parameters\n",
      "---------------------\n",
      "Butterworth bandpass zero-phase (two-pass forward and reverse) non-causal filter:\n",
      "- Filter order 32 (effective, after forward-backward)\n",
      "- Cutoffs at 16.00, 20.00 Hz: -6.02, -6.02 dB\n",
      "\n",
      "Combined space has 16824 features\n",
      "[20, 35]\n",
      "Setting up band-pass filter from 20 - 35 Hz\n",
      "\n",
      "IIR filter parameters\n",
      "---------------------\n",
      "Butterworth bandpass zero-phase (two-pass forward and reverse) non-causal filter:\n",
      "- Filter order 32 (effective, after forward-backward)\n",
      "- Cutoffs at 20.00, 35.00 Hz: -6.02, -6.02 dB\n",
      "\n",
      "Combined space has 16824 features\n",
      "[35, 140]\n",
      "Setting up band-pass filter from 35 - 1.4e+02 Hz\n",
      "\n",
      "IIR filter parameters\n",
      "---------------------\n",
      "Butterworth bandpass zero-phase (two-pass forward and reverse) non-causal filter:\n",
      "- Filter order 32 (effective, after forward-backward)\n",
      "- Cutoffs at 35.00, 140.00 Hz: -6.02, -6.02 dB\n",
      "\n",
      "Combined space has 16824 features\n",
      "[0, 140]\n",
      "Setting up low-pass filter at 1.4e+02 Hz\n",
      "\n",
      "IIR filter parameters\n",
      "---------------------\n",
      "Butterworth lowpass zero-phase (two-pass forward and reverse) non-causal filter:\n",
      "- Filter order 16 (effective, after forward-backward)\n",
      "- Cutoff at 140.00 Hz: -6.02 dB\n",
      "\n",
      "Combined space has 7260 features\n",
      "[0, 3]\n",
      "Setting up low-pass filter at 3 Hz\n",
      "\n",
      "IIR filter parameters\n",
      "---------------------\n",
      "Butterworth lowpass zero-phase (two-pass forward and reverse) non-causal filter:\n",
      "- Filter order 16 (effective, after forward-backward)\n",
      "- Cutoff at 3.00 Hz: -6.02 dB\n",
      "\n",
      "Combined space has 7260 features\n",
      "[3, 7]\n",
      "Setting up band-pass filter from 3 - 7 Hz\n",
      "\n",
      "IIR filter parameters\n",
      "---------------------\n",
      "Butterworth bandpass zero-phase (two-pass forward and reverse) non-causal filter:\n",
      "- Filter order 32 (effective, after forward-backward)\n",
      "- Cutoffs at 3.00, 7.00 Hz: -6.02, -6.02 dB\n",
      "\n",
      "Combined space has 7260 features\n",
      "[7, 13]\n",
      "Setting up band-pass filter from 7 - 13 Hz\n",
      "\n",
      "IIR filter parameters\n",
      "---------------------\n",
      "Butterworth bandpass zero-phase (two-pass forward and reverse) non-causal filter:\n",
      "- Filter order 32 (effective, after forward-backward)\n",
      "- Cutoffs at 7.00, 13.00 Hz: -6.02, -6.02 dB\n",
      "\n",
      "Combined space has 7260 features\n",
      "[13, 16]\n",
      "Setting up band-pass filter from 13 - 16 Hz\n",
      "\n",
      "IIR filter parameters\n",
      "---------------------\n",
      "Butterworth bandpass zero-phase (two-pass forward and reverse) non-causal filter:\n",
      "- Filter order 32 (effective, after forward-backward)\n",
      "- Cutoffs at 13.00, 16.00 Hz: -6.02, -6.02 dB\n",
      "\n",
      "Combined space has 7260 features\n",
      "[16, 20]\n",
      "Setting up band-pass filter from 16 - 20 Hz\n",
      "\n",
      "IIR filter parameters\n",
      "---------------------\n",
      "Butterworth bandpass zero-phase (two-pass forward and reverse) non-causal filter:\n",
      "- Filter order 32 (effective, after forward-backward)\n",
      "- Cutoffs at 16.00, 20.00 Hz: -6.02, -6.02 dB\n",
      "\n",
      "Combined space has 7260 features\n",
      "[20, 35]\n",
      "Setting up band-pass filter from 20 - 35 Hz\n",
      "\n",
      "IIR filter parameters\n",
      "---------------------\n",
      "Butterworth bandpass zero-phase (two-pass forward and reverse) non-causal filter:\n",
      "- Filter order 32 (effective, after forward-backward)\n",
      "- Cutoffs at 20.00, 35.00 Hz: -6.02, -6.02 dB\n",
      "\n",
      "Combined space has 7260 features\n",
      "[35, 140]\n",
      "Setting up band-pass filter from 35 - 1.4e+02 Hz\n",
      "\n",
      "IIR filter parameters\n",
      "---------------------\n",
      "Butterworth bandpass zero-phase (two-pass forward and reverse) non-causal filter:\n",
      "- Filter order 32 (effective, after forward-backward)\n",
      "- Cutoffs at 35.00, 140.00 Hz: -6.02, -6.02 dB\n",
      "\n",
      "Combined space has 7260 features\n",
      "[0, 140]\n",
      "Setting up low-pass filter at 1.4e+02 Hz\n",
      "\n",
      "IIR filter parameters\n",
      "---------------------\n",
      "Butterworth lowpass zero-phase (two-pass forward and reverse) non-causal filter:\n",
      "- Filter order 16 (effective, after forward-backward)\n",
      "- Cutoff at 140.00 Hz: -6.02 dB\n",
      "\n",
      "Combined space has 528 features\n",
      "[0, 3]\n",
      "Setting up low-pass filter at 3 Hz\n",
      "\n",
      "IIR filter parameters\n",
      "---------------------\n",
      "Butterworth lowpass zero-phase (two-pass forward and reverse) non-causal filter:\n",
      "- Filter order 16 (effective, after forward-backward)\n",
      "- Cutoff at 3.00 Hz: -6.02 dB\n",
      "\n",
      "Combined space has 528 features\n",
      "[3, 7]\n",
      "Setting up band-pass filter from 3 - 7 Hz\n",
      "\n",
      "IIR filter parameters\n",
      "---------------------\n",
      "Butterworth bandpass zero-phase (two-pass forward and reverse) non-causal filter:\n",
      "- Filter order 32 (effective, after forward-backward)\n",
      "- Cutoffs at 3.00, 7.00 Hz: -6.02, -6.02 dB\n",
      "\n",
      "Combined space has 528 features\n",
      "[7, 13]\n",
      "Setting up band-pass filter from 7 - 13 Hz\n",
      "\n",
      "IIR filter parameters\n",
      "---------------------\n",
      "Butterworth bandpass zero-phase (two-pass forward and reverse) non-causal filter:\n",
      "- Filter order 32 (effective, after forward-backward)\n",
      "- Cutoffs at 7.00, 13.00 Hz: -6.02, -6.02 dB\n",
      "\n",
      "Combined space has 528 features\n",
      "[13, 16]\n",
      "Setting up band-pass filter from 13 - 16 Hz\n",
      "\n",
      "IIR filter parameters\n",
      "---------------------\n",
      "Butterworth bandpass zero-phase (two-pass forward and reverse) non-causal filter:\n",
      "- Filter order 32 (effective, after forward-backward)\n",
      "- Cutoffs at 13.00, 16.00 Hz: -6.02, -6.02 dB\n",
      "\n",
      "Combined space has 528 features\n",
      "[16, 20]\n",
      "Setting up band-pass filter from 16 - 20 Hz\n",
      "\n",
      "IIR filter parameters\n",
      "---------------------\n",
      "Butterworth bandpass zero-phase (two-pass forward and reverse) non-causal filter:\n",
      "- Filter order 32 (effective, after forward-backward)\n",
      "- Cutoffs at 16.00, 20.00 Hz: -6.02, -6.02 dB\n",
      "\n",
      "Combined space has 528 features\n",
      "[20, 35]\n",
      "Setting up band-pass filter from 20 - 35 Hz\n",
      "\n",
      "IIR filter parameters\n",
      "---------------------\n",
      "Butterworth bandpass zero-phase (two-pass forward and reverse) non-causal filter:\n",
      "- Filter order 32 (effective, after forward-backward)\n",
      "- Cutoffs at 20.00, 35.00 Hz: -6.02, -6.02 dB\n",
      "\n",
      "Combined space has 528 features\n",
      "[35, 140]\n",
      "Setting up band-pass filter from 35 - 1.4e+02 Hz\n",
      "\n",
      "IIR filter parameters\n",
      "---------------------\n",
      "Butterworth bandpass zero-phase (two-pass forward and reverse) non-causal filter:\n",
      "- Filter order 32 (effective, after forward-backward)\n",
      "- Cutoffs at 35.00, 140.00 Hz: -6.02, -6.02 dB\n",
      "\n",
      "Combined space has 528 features\n",
      "[0, 140]\n",
      "Setting up low-pass filter at 1.4e+02 Hz\n",
      "\n",
      "IIR filter parameters\n",
      "---------------------\n",
      "Butterworth lowpass zero-phase (two-pass forward and reverse) non-causal filter:\n",
      "- Filter order 16 (effective, after forward-backward)\n",
      "- Cutoff at 140.00 Hz: -6.02 dB\n",
      "\n",
      "Combined space has 4 features\n",
      "[0, 3]\n",
      "Setting up low-pass filter at 3 Hz\n",
      "\n",
      "IIR filter parameters\n",
      "---------------------\n",
      "Butterworth lowpass zero-phase (two-pass forward and reverse) non-causal filter:\n",
      "- Filter order 16 (effective, after forward-backward)\n",
      "- Cutoff at 3.00 Hz: -6.02 dB\n",
      "\n",
      "Combined space has 4 features\n",
      "[3, 7]\n",
      "Setting up band-pass filter from 3 - 7 Hz\n",
      "\n",
      "IIR filter parameters\n",
      "---------------------\n",
      "Butterworth bandpass zero-phase (two-pass forward and reverse) non-causal filter:\n",
      "- Filter order 32 (effective, after forward-backward)\n",
      "- Cutoffs at 3.00, 7.00 Hz: -6.02, -6.02 dB\n",
      "\n",
      "Combined space has 4 features\n",
      "[7, 13]\n",
      "Setting up band-pass filter from 7 - 13 Hz\n",
      "\n",
      "IIR filter parameters\n",
      "---------------------\n",
      "Butterworth bandpass zero-phase (two-pass forward and reverse) non-causal filter:\n",
      "- Filter order 32 (effective, after forward-backward)\n",
      "- Cutoffs at 7.00, 13.00 Hz: -6.02, -6.02 dB\n",
      "\n",
      "Combined space has 4 features\n",
      "[13, 16]\n",
      "Setting up band-pass filter from 13 - 16 Hz\n",
      "\n",
      "IIR filter parameters\n",
      "---------------------\n",
      "Butterworth bandpass zero-phase (two-pass forward and reverse) non-causal filter:\n",
      "- Filter order 32 (effective, after forward-backward)\n",
      "- Cutoffs at 13.00, 16.00 Hz: -6.02, -6.02 dB\n",
      "\n",
      "Combined space has 4 features\n",
      "[16, 20]\n",
      "Setting up band-pass filter from 16 - 20 Hz\n",
      "\n",
      "IIR filter parameters\n",
      "---------------------\n",
      "Butterworth bandpass zero-phase (two-pass forward and reverse) non-causal filter:\n",
      "- Filter order 32 (effective, after forward-backward)\n",
      "- Cutoffs at 16.00, 20.00 Hz: -6.02, -6.02 dB\n",
      "\n",
      "Combined space has 4 features\n",
      "[20, 35]\n",
      "Setting up band-pass filter from 20 - 35 Hz\n",
      "\n",
      "IIR filter parameters\n",
      "---------------------\n",
      "Butterworth bandpass zero-phase (two-pass forward and reverse) non-causal filter:\n",
      "- Filter order 32 (effective, after forward-backward)\n",
      "- Cutoffs at 20.00, 35.00 Hz: -6.02, -6.02 dB\n",
      "\n",
      "Combined space has 4 features\n",
      "[35, 140]\n",
      "Setting up band-pass filter from 35 - 1.4e+02 Hz\n",
      "\n",
      "IIR filter parameters\n",
      "---------------------\n",
      "Butterworth bandpass zero-phase (two-pass forward and reverse) non-causal filter:\n",
      "- Filter order 32 (effective, after forward-backward)\n",
      "- Cutoffs at 35.00, 140.00 Hz: -6.02, -6.02 dB\n",
      "\n",
      "Combined space has 4 features\n",
      "[0, 140]\n",
      "Setting up low-pass filter at 1.4e+02 Hz\n",
      "\n",
      "IIR filter parameters\n",
      "---------------------\n",
      "Butterworth lowpass zero-phase (two-pass forward and reverse) non-causal filter:\n",
      "- Filter order 16 (effective, after forward-backward)\n",
      "- Cutoff at 140.00 Hz: -6.02 dB\n",
      "\n",
      "Combined space has 300 features\n",
      "[0, 3]\n",
      "Setting up low-pass filter at 3 Hz\n",
      "\n",
      "IIR filter parameters\n",
      "---------------------\n",
      "Butterworth lowpass zero-phase (two-pass forward and reverse) non-causal filter:\n",
      "- Filter order 16 (effective, after forward-backward)\n",
      "- Cutoff at 3.00 Hz: -6.02 dB\n",
      "\n",
      "Combined space has 300 features\n",
      "[3, 7]\n",
      "Setting up band-pass filter from 3 - 7 Hz\n",
      "\n",
      "IIR filter parameters\n",
      "---------------------\n",
      "Butterworth bandpass zero-phase (two-pass forward and reverse) non-causal filter:\n",
      "- Filter order 32 (effective, after forward-backward)\n",
      "- Cutoffs at 3.00, 7.00 Hz: -6.02, -6.02 dB\n",
      "\n",
      "Combined space has 300 features\n",
      "[7, 13]\n",
      "Setting up band-pass filter from 7 - 13 Hz\n",
      "\n",
      "IIR filter parameters\n",
      "---------------------\n",
      "Butterworth bandpass zero-phase (two-pass forward and reverse) non-causal filter:\n",
      "- Filter order 32 (effective, after forward-backward)\n",
      "- Cutoffs at 7.00, 13.00 Hz: -6.02, -6.02 dB\n",
      "\n",
      "Combined space has 300 features\n",
      "[13, 16]\n",
      "Setting up band-pass filter from 13 - 16 Hz\n",
      "\n",
      "IIR filter parameters\n",
      "---------------------\n",
      "Butterworth bandpass zero-phase (two-pass forward and reverse) non-causal filter:\n",
      "- Filter order 32 (effective, after forward-backward)\n",
      "- Cutoffs at 13.00, 16.00 Hz: -6.02, -6.02 dB\n",
      "\n",
      "Combined space has 300 features\n",
      "[16, 20]\n",
      "Setting up band-pass filter from 16 - 20 Hz\n",
      "\n",
      "IIR filter parameters\n",
      "---------------------\n",
      "Butterworth bandpass zero-phase (two-pass forward and reverse) non-causal filter:\n",
      "- Filter order 32 (effective, after forward-backward)\n",
      "- Cutoffs at 16.00, 20.00 Hz: -6.02, -6.02 dB\n"
     ]
    },
    {
     "name": "stderr",
     "output_type": "stream",
     "text": [
      "C:\\Users\\rosit\\Documents\\workprojects\\bci_complete\\venv_bci\\lib\\site-packages\\pyriemann\\utils\\base.py:18: RuntimeWarning: invalid value encountered in log\n",
      "  eigvals = operator(eigvals)\n",
      "C:\\Users\\rosit\\Documents\\workprojects\\bci_complete\\venv_bci\\lib\\site-packages\\pyriemann\\utils\\base.py:18: RuntimeWarning: invalid value encountered in log\n",
      "  eigvals = operator(eigvals)\n"
     ]
    },
    {
     "name": "stdout",
     "output_type": "stream",
     "text": [
      "Combined space has 300 features\n",
      "[20, 35]\n",
      "Setting up band-pass filter from 20 - 35 Hz\n",
      "\n",
      "IIR filter parameters\n",
      "---------------------\n",
      "Butterworth bandpass zero-phase (two-pass forward and reverse) non-causal filter:\n",
      "- Filter order 32 (effective, after forward-backward)\n",
      "- Cutoffs at 20.00, 35.00 Hz: -6.02, -6.02 dB\n",
      "\n",
      "Combined space has 300 features\n",
      "[35, 140]\n",
      "Setting up band-pass filter from 35 - 1.4e+02 Hz\n",
      "\n",
      "IIR filter parameters\n",
      "---------------------\n",
      "Butterworth bandpass zero-phase (two-pass forward and reverse) non-causal filter:\n",
      "- Filter order 32 (effective, after forward-backward)\n",
      "- Cutoffs at 35.00, 140.00 Hz: -6.02, -6.02 dB\n",
      "\n",
      "Combined space has 300 features\n"
     ]
    }
   ],
   "source": [
    "features_test_df = pd.DataFrame()\n",
    "\n",
    "for feature_name, feature_method in features.items():\n",
    "    #combined_features = FeatureUnion([])\n",
    "    for frequency_bandwidth_name, frequency_bandwidth in frequency_ranges.items():\n",
    "        print(frequency_bandwidth)\n",
    "        iir_params = dict(order=8, ftype=\"butter\")\n",
    "        filt = mne.filter.create_filter(\n",
    "            x_test, dataset_info['sample_rate'], l_freq=frequency_bandwidth[0], h_freq=frequency_bandwidth[1], method=\"iir\", iir_params=iir_params, verbose=True\n",
    "        )\n",
    "        filtered = signal.sosfiltfilt(filt[\"sos\"], x_test)\n",
    "        \n",
    "        X_features = feature_method.transform(filtered)\n",
    "        print(\"Combined space has\", X_features.shape[1], \"features\")\n",
    "        column_name = [f'{frequency_bandwidth_name}_{feature_name}_{num}' for num in range(0, X_features.shape[1])]\n",
    "        temp_features_df = pd.DataFrame(X_features, columns=column_name)\n",
    "        features_test_df = pd.concat([features_test_df, temp_features_df], axis=1)"
   ],
   "metadata": {
    "collapsed": false,
    "ExecuteTime": {
     "end_time": "2024-03-24T16:19:15.174230400Z",
     "start_time": "2024-03-24T16:18:27.789548400Z"
    }
   },
   "id": "7ed1dd415077df23",
   "execution_count": 48
  },
  {
   "cell_type": "code",
   "outputs": [
    {
     "name": "stdout",
     "output_type": "stream",
     "text": [
      "              precision    recall  f1-score   support\n",
      "\n",
      "           0       0.40      0.33      0.36         6\n",
      "           1       0.25      0.20      0.22         5\n",
      "           2       0.08      0.50      0.14         2\n",
      "           3       0.00      0.00      0.00         8\n",
      "\n",
      "    accuracy                           0.19        21\n",
      "   macro avg       0.18      0.26      0.18        21\n",
      "weighted avg       0.18      0.19      0.17        21\n"
     ]
    },
    {
     "name": "stderr",
     "output_type": "stream",
     "text": [
      "C:\\Users\\rosit\\Documents\\workprojects\\bci_complete\\venv_bci\\lib\\site-packages\\sklearn\\metrics\\_classification.py:1469: UndefinedMetricWarning: Precision and F-score are ill-defined and being set to 0.0 in labels with no predicted samples. Use `zero_division` parameter to control this behavior.\n",
      "  _warn_prf(average, modifier, msg_start, len(result))\n",
      "C:\\Users\\rosit\\Documents\\workprojects\\bci_complete\\venv_bci\\lib\\site-packages\\sklearn\\metrics\\_classification.py:1469: UndefinedMetricWarning: Precision and F-score are ill-defined and being set to 0.0 in labels with no predicted samples. Use `zero_division` parameter to control this behavior.\n",
      "  _warn_prf(average, modifier, msg_start, len(result))\n",
      "C:\\Users\\rosit\\Documents\\workprojects\\bci_complete\\venv_bci\\lib\\site-packages\\sklearn\\metrics\\_classification.py:1469: UndefinedMetricWarning: Precision and F-score are ill-defined and being set to 0.0 in labels with no predicted samples. Use `zero_division` parameter to control this behavior.\n",
      "  _warn_prf(average, modifier, msg_start, len(result))\n"
     ]
    }
   ],
   "source": [
    "from sklearn.metrics import classification_report\n",
    "y_pred = classifier.predict(features_test_df[columns_list])\n",
    "print(classification_report(y_test, y_pred))"
   ],
   "metadata": {
    "collapsed": false,
    "ExecuteTime": {
     "end_time": "2024-03-24T16:19:15.174230400Z",
     "start_time": "2024-03-24T16:18:34.122485200Z"
    }
   },
   "id": "fcef3e323abd43e4",
   "execution_count": 49
  },
  {
   "cell_type": "code",
   "outputs": [],
   "source": [],
   "metadata": {
    "collapsed": false
   },
   "id": "b1f2492e58a7ee10"
  }
 ],
 "metadata": {
  "kernelspec": {
   "display_name": "Python 3",
   "language": "python",
   "name": "python3"
  },
  "language_info": {
   "codemirror_mode": {
    "name": "ipython",
    "version": 2
   },
   "file_extension": ".py",
   "mimetype": "text/x-python",
   "name": "python",
   "nbconvert_exporter": "python",
   "pygments_lexer": "ipython2",
   "version": "2.7.6"
  }
 },
 "nbformat": 4,
 "nbformat_minor": 5
}
