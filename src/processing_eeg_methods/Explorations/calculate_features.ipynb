{
 "cells": [
  {
   "cell_type": "code",
   "execution_count": null,
   "id": "initial_id",
   "metadata": {
    "collapsed": true
   },
   "outputs": [],
   "source": [
    "from processing_eeg_methods.data_utils import get_dataset_basic_info\n",
    "from processing_eeg_methods.share import datasets_basic_infos\n",
    "\n",
    "dataset_name = \"braincommand\"\n",
    "\n",
    "dataset_info =get_dataset_basic_info(datasets_basic_infos, dataset_name)"
   ]
  },
  {
   "cell_type": "code",
   "outputs": [],
   "source": [
    "from processing_eeg_methods.time_features.time_features_probs import by_frequency_band\n",
    "from processing_eeg_methods.data_loaders import braincommand_dataset_loader_eeglab_set"
   ],
   "metadata": {
    "collapsed": false
   },
   "id": "4cbc17876033458c"
  },
  {
   "cell_type": "code",
   "outputs": [],
   "source": [
    "subject_id = 1\n",
    "game_mode = \"calibration3\"\n",
    "data, labels, ch_names = braincommand_dataset_loader_eeglab_set(\n",
    "    \"\", subject_id, game_mode\n",
    ")\n",
    "dataset_info[\"channels_names\"] = ch_names"
   ],
   "metadata": {
    "collapsed": false
   },
   "id": "9db4a0e63d1fa63c"
  },
  {
   "cell_type": "code",
   "outputs": [],
   "source": [
    "features_df = by_frequency_band(data, dataset_info)\n",
    "features_df"
   ],
   "metadata": {
    "collapsed": false
   },
   "id": "c6484a90c5974730"
  }
 ],
 "metadata": {
  "kernelspec": {
   "display_name": "Python 3",
   "language": "python",
   "name": "python3"
  },
  "language_info": {
   "codemirror_mode": {
    "name": "ipython",
    "version": 2
   },
   "file_extension": ".py",
   "mimetype": "text/x-python",
   "name": "python",
   "nbconvert_exporter": "python",
   "pygments_lexer": "ipython2",
   "version": "2.7.6"
  }
 },
 "nbformat": 4,
 "nbformat_minor": 5
}
