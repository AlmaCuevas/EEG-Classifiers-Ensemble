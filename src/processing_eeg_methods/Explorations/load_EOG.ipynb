{
 "cells": [
  {
   "cell_type": "code",
   "execution_count": 1,
   "id": "initial_id",
   "metadata": {
    "collapsed": true,
    "ExecuteTime": {
     "end_time": "2025-03-19T18:29:41.829237800Z",
     "start_time": "2025-03-19T18:29:37.920176900Z"
    }
   },
   "outputs": [],
   "source": [
    "from processing_eeg_methods.data_utils import (\n",
    "    get_dataset_basic_info,\n",
    ")\n",
    "from processing_eeg_methods.data_loaders import load_data_labels_based_on_dataset\n",
    "from processing_eeg_methods.share import datasets_basic_infos\n",
    "\n",
    "subject_id = 1  # Only two things I should be able to change\n",
    "dataset_name = \"braincommand\"  # Only two things I should be able to change\n",
    "\n",
    "dataset_info =get_dataset_basic_info(datasets_basic_infos, dataset_name)\n",
    "\n",
    "data_path = r\"C:\\Users\\rosit\\Documents\\workprojects\\bci_complete\\EEG-Classifiers-Ensemble\\Datasets\\braincommand_dataset\\raw\""
   ]
  },
  {
   "cell_type": "code",
   "outputs": [
    {
     "name": "stdout",
     "output_type": "stream",
     "text": [
      "label 0 is 57\n",
      "label 1 is 57\n",
      "label 2 is 57\n",
      "label 3 is 57\n",
      "Not setting metadata\n",
      "228 matching events found\n",
      "Setting baseline interval to [0.0, 1.296] s\n",
      "Applying baseline correction (mode: mean)\n",
      "0 projection items activated\n"
     ]
    }
   ],
   "source": [
    "import numpy as np\n",
    "from scipy.io import savemat\n",
    "\n",
    "game_mode=\"calibration3\" # calibration3\n",
    "subject_id_list = [1]#,8,10,11,12,15,16,17,18,19,20,21,22,23,25,26,27,30,31,33,34,35,36,37,38,39,40,41]\n",
    "for subject_id in subject_id_list:\n",
    "    _, X_calibration, y_calibration_original = load_data_labels_based_on_dataset(\n",
    "        dataset_info,\n",
    "        subject_id,\n",
    "        data_path,\n",
    "        game_mode=game_mode,\n",
    "    )\n",
    "    X_calibration = np.transpose(X_calibration, (1, 2, 0))\n",
    "    data_dict = {\"array\": X_calibration}\n",
    "    labels_dict = {\"tags\": y_calibration_original}\n",
    "    data_output_path = r\"C:\\Users\\rosit\\Documents\\MCC - Materias\\Thesis\\Mendeley EOG\"\n",
    "    savemat(fr\"{data_output_path}\\{subject_id}_{game_mode}_original_delete.mat\", data_dict)\n",
    "    savemat(fr\"{data_output_path}\\y_{subject_id}_{game_mode}_original_delete.mat\", labels_dict)"
   ],
   "metadata": {
    "collapsed": false,
    "ExecuteTime": {
     "end_time": "2025-03-19T18:29:45.215855200Z",
     "start_time": "2025-03-19T18:29:41.831678800Z"
    }
   },
   "id": "5a08c180483a2c1a",
   "execution_count": 2
  },
  {
   "cell_type": "code",
   "outputs": [],
   "source": [],
   "metadata": {
    "collapsed": false
   },
   "id": "98c07f61d8f0af41"
  }
 ],
 "metadata": {
  "kernelspec": {
   "display_name": "Python 3",
   "language": "python",
   "name": "python3"
  },
  "language_info": {
   "codemirror_mode": {
    "name": "ipython",
    "version": 2
   },
   "file_extension": ".py",
   "mimetype": "text/x-python",
   "name": "python",
   "nbconvert_exporter": "python",
   "pygments_lexer": "ipython2",
   "version": "2.7.6"
  }
 },
 "nbformat": 4,
 "nbformat_minor": 5
}
