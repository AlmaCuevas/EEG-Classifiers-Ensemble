{
 "cells": [
  {
   "cell_type": "code",
   "execution_count": 1,
   "id": "initial_id",
   "metadata": {
    "collapsed": true,
    "ExecuteTime": {
     "end_time": "2025-03-19T18:29:41.829237800Z",
     "start_time": "2025-03-19T18:29:37.920176900Z"
    }
   },
   "outputs": [],
   "source": [
    "from processing_eeg_methods.data_utils import (\n",
    "    get_dataset_basic_info,\n",
    ")\n",
    "from processing_eeg_methods.data_loaders import load_data_labels_based_on_dataset\n",
    "from processing_eeg_methods.share import datasets_basic_infos\n",
    "\n",
    "subject_id = 1  # Only two things I should be able to change\n",
    "dataset_name = \"braincommand\"  # Only two things I should be able to change\n",
    "\n",
    "dataset_info =get_dataset_basic_info(datasets_basic_infos, dataset_name)\n",
    "\n",
    "data_path = r\"C:\\Users\\rosit\\Documents\\workprojects\\bci_complete\\EEG-Classifiers-Ensemble\\Datasets\\braincommand_dataset\\raw\""
   ]
  },
  {
   "cell_type": "code",
   "outputs": [],
   "source": [
    "import numpy as np\n",
    "from scipy.io import savemat\n",
    "\n",
    "game_mode=\"singleplayer\" # calibration3\n",
    "subject_count = 0\n",
    "subject_id_list = [1, 2, 4, 5, 6, 7, 8, 9, 11, 12, 13, 14, 15, 16, 17, 18,19,20,21,22,23,24,25,27,28,29]\n",
    "for subject_id in subject_id_list:\n",
    "    subject_count += 1\n",
    "    _, X_calibration, y_calibration_original = load_data_labels_based_on_dataset(\n",
    "        dataset_info,\n",
    "        subject_id,\n",
    "        data_path,\n",
    "        game_mode=game_mode,\n",
    "    )\n",
    "    X_calibration = np.transpose(X_calibration, (1, 2, 0))\n",
    "    data_dict = {\"array\": X_calibration, \"tags\": y_calibration_original}\n",
    "    data_output_path = r\"C:\\Users\\rosit\\Documents\\MCC - Materias\\Thesis\\Mendeley EOG\"\n",
    "    savemat(fr\"{data_output_path}\\{subject_count}_singleplayer.mat\", data_dict)"
   ],
   "metadata": {
    "collapsed": false,
    "is_executing": true,
    "ExecuteTime": {
     "start_time": "2025-03-19T19:34:07.793532400Z"
    }
   },
   "id": "5a08c180483a2c1a",
   "execution_count": null
  },
  {
   "cell_type": "code",
   "outputs": [],
   "source": [],
   "metadata": {
    "collapsed": false
   },
   "id": "98c07f61d8f0af41"
  }
 ],
 "metadata": {
  "kernelspec": {
   "display_name": "Python 3",
   "language": "python",
   "name": "python3"
  },
  "language_info": {
   "codemirror_mode": {
    "name": "ipython",
    "version": 2
   },
   "file_extension": ".py",
   "mimetype": "text/x-python",
   "name": "python",
   "nbconvert_exporter": "python",
   "pygments_lexer": "ipython2",
   "version": "2.7.6"
  }
 },
 "nbformat": 4,
 "nbformat_minor": 5
}
