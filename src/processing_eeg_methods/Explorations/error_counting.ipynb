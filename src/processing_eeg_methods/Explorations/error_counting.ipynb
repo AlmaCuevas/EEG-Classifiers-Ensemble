{
 "cells": [
  {
   "cell_type": "code",
   "execution_count": 1,
   "id": "initial_id",
   "metadata": {
    "collapsed": true,
    "ExecuteTime": {
     "end_time": "2025-01-22T20:39:04.756768100Z",
     "start_time": "2025-01-22T20:39:03.676509100Z"
    }
   },
   "outputs": [],
   "source": [
    "from processing_eeg_methods.data_utils import (\n",
    "    get_dataset_basic_info,\n",
    ")\n",
    "from processing_eeg_methods.share import datasets_basic_infos\n",
    "import os\n",
    "\n",
    "\n",
    "dataset_name = \"braincommand\"\n",
    "\n",
    "dataset_info =get_dataset_basic_info(datasets_basic_infos, dataset_name)\n",
    "data_path = r\"C:\\Users\\rosit\\Documents\\workprojects\\bci_complete\\EEG-Classifiers-Ensemble\\Datasets\\braincommand_dataset\""
   ]
  },
  {
   "cell_type": "code",
   "outputs": [
    {
     "name": "stdout",
     "output_type": "stream",
     "text": [
      "    Subject_ID  Number  Count\n",
      "0            1       2     11\n",
      "1            1       0      1\n",
      "2            2       2     13\n",
      "3            3       3     10\n",
      "4            4       3     22\n",
      "5            4       1      9\n",
      "6            4       2      9\n",
      "7            5       3      7\n",
      "8            5       1      1\n",
      "9            6       2      2\n",
      "10           7       3     22\n",
      "11           7       0     10\n",
      "12           7       1      9\n",
      "13           8       2      3\n",
      "14           8       3      1\n",
      "15           9       0     17\n",
      "16           9       2      7\n",
      "17          10       3      9\n",
      "18          10       0      7\n",
      "19          11       2      3\n",
      "20          11       3      2\n",
      "21          12       1     11\n",
      "22          12       0      4\n",
      "23          13       3      8\n",
      "24          13       2      5\n",
      "25          14       2      6\n",
      "26          14       0      8\n",
      "27          14       1      7\n",
      "28          15       3     22\n",
      "29          15       2      9\n",
      "30          16       0     15\n",
      "31          16       2      9\n",
      "32          17       3     11\n",
      "33          17       2     14\n",
      "34          18       2      7\n",
      "35          18       3      4\n",
      "36          18       0      3\n",
      "37          19       3      8\n",
      "38          19       0      4\n",
      "39          20       3     11\n",
      "40          20       2     11\n",
      "41          21       3     18\n",
      "42          21       2     16\n",
      "43          22       3      6\n",
      "44          23       3     13\n",
      "45          24       3     12\n",
      "46          24       2      6\n",
      "47          25       0      3\n",
      "48          25       2      5\n",
      "49          25       3     16\n",
      "50          26       0     20\n",
      "51          26       1      5\n"
     ]
    }
   ],
   "source": [
    "import os\n",
    "import pandas as pd\n",
    "\n",
    "def count_ten_consecutive_repetitions(lst):\n",
    "    repetition_counts = {}\n",
    "    count = 0\n",
    "    last_val = None\n",
    "    \n",
    "    for num in lst:\n",
    "        if num == last_val:\n",
    "            count += 1\n",
    "        else:\n",
    "            if count >= 10:\n",
    "                if last_val not in repetition_counts:\n",
    "                    repetition_counts[last_val] = 0\n",
    "                repetition_counts[last_val] += count // 10\n",
    "            count = 1\n",
    "        last_val = num\n",
    "    \n",
    "    if count >= 10:\n",
    "        if last_val not in repetition_counts:\n",
    "            repetition_counts[last_val] = 0\n",
    "        repetition_counts[last_val] += count // 10\n",
    "    \n",
    "    return repetition_counts\n",
    "\n",
    "def get_player1_turns(file_path):\n",
    "    player1_turns = []\n",
    "    \n",
    "    # Open the file and read the lines\n",
    "    with open(file_path, 'r') as file:\n",
    "        lines = file.readlines()\n",
    "        for line in lines:\n",
    "            if line.startswith(\"player1_turns\"):\n",
    "                # Extract and parse the player1_turns list portion\n",
    "                raw_data = line.split(\"player1_turns,\")[1].strip()\n",
    "                player1_turns = eval(raw_data)  # Unsafe but simple for controlled input\n",
    "    \n",
    "    return player1_turns\n",
    "\n",
    "game_mode = \"singleplayer\"  # calibration3\n",
    "subject_id_list = list(range(1, 27))\n",
    "\n",
    "base_path = r\"C:\\Users\\rosit\\Documents\\workprojects\\bci_complete\\BrainCommand\\assets\\game_saved_files\\time_and_movement (re-numbered)\"\n",
    "file_pattern = \"time_and_movement_singleplayer_sub{:02d}.txt\"\n",
    "data_output_path = r\"C:\\Users\\rosit\\Documents\\MATLAB\\2025 clean EEG BrainCommand\"\n",
    "\n",
    "results = []\n",
    "\n",
    "for subject_id in subject_id_list:\n",
    "    file_name = file_pattern.format(subject_id)\n",
    "    file_path = os.path.join(base_path, file_name)\n",
    "    player1_turns = get_player1_turns(file_path)\n",
    "    \n",
    "    subject_repetition_counts = {}\n",
    "    \n",
    "    for sublist in player1_turns:\n",
    "        repetition_counts = count_ten_consecutive_repetitions(sublist)\n",
    "        for num, count in repetition_counts.items():\n",
    "            if num not in subject_repetition_counts:\n",
    "                subject_repetition_counts[num] = 0\n",
    "            subject_repetition_counts[num] += count\n",
    "    \n",
    "    for num, count in subject_repetition_counts.items():\n",
    "        if count > 0:\n",
    "            results.append({'Subject_ID': subject_id, 'Number': num, 'Count': count})\n",
    "\n",
    "# Create a DataFrame from the results\n",
    "df = pd.DataFrame(results)\n",
    "\n",
    "# Save to CSV or print the DataFrame\n",
    "output_path = os.path.join(data_output_path, \"consecutive_repetitions_summary.csv\")\n",
    "df.to_csv(output_path, index=False)\n",
    "df\n"
   ],
   "metadata": {
    "collapsed": false,
    "ExecuteTime": {
     "end_time": "2025-01-22T20:42:16.219951300Z",
     "start_time": "2025-01-22T20:42:16.194952900Z"
    }
   },
   "id": "a9bbf8c5f3c52f07",
   "execution_count": 3
  },
  {
   "cell_type": "code",
   "outputs": [
    {
     "name": "stderr",
     "output_type": "stream",
     "text": [
      "C:\\Users\\rosit\\AppData\\Local\\Programs\\Python\\Python310\\lib\\site-packages\\seaborn\\_oldcore.py:1498: FutureWarning: is_categorical_dtype is deprecated and will be removed in a future version. Use isinstance(dtype, CategoricalDtype) instead\n",
      "  if pd.api.types.is_categorical_dtype(vector):\n",
      "C:\\Users\\rosit\\AppData\\Local\\Programs\\Python\\Python310\\lib\\site-packages\\seaborn\\_oldcore.py:1498: FutureWarning: is_categorical_dtype is deprecated and will be removed in a future version. Use isinstance(dtype, CategoricalDtype) instead\n",
      "  if pd.api.types.is_categorical_dtype(vector):\n"
     ]
    },
    {
     "data": {
      "text/plain": "<Figure size 1200x600 with 1 Axes>",
      "image/png": "[encoded data removed]"
     },
     "metadata": {},
     "output_type": "display_data"
    }
   ],
   "source": [
    "import seaborn as sns\n",
    "import matplotlib.pyplot as plt\n",
    "import pandas as pd\n",
    "\n",
    "# Apply the new mapping to the DataFrame with proper capitalization\n",
    "df['Direction'] = df['Number'].map({2: 'Up', 3: 'Down', 1: 'Left', 0: 'Right'})\n",
    "\n",
    "# Set the order of the directions\n",
    "order = ['Left', 'Right', 'Up', 'Down']\n",
    "\n",
    "# Generate a boxplot with palette Set2 and the specified order\n",
    "plt.figure(figsize=(12, 6))\n",
    "sns.boxplot(x='Direction', y='Count', data=df, palette='Set2', order=order)\n",
    "\n",
    "# Add title and labels\n",
    "plt.title('Occurrences of Classifier Needing Assistance After 10 Consecutive Errors')\n",
    "plt.xlabel('Direction')\n",
    "plt.ylabel('Count')\n",
    "\n",
    "# Display the plot\n",
    "plt.show()\n"
   ],
   "metadata": {
    "collapsed": false,
    "ExecuteTime": {
     "end_time": "2025-01-22T21:06:43.604846800Z",
     "start_time": "2025-01-22T21:06:43.512254400Z"
    }
   },
   "id": "a55133b8d71afaad",
   "execution_count": 15
  },
  {
   "cell_type": "code",
   "outputs": [],
   "source": [
    "import os\n",
    "from collections import Counter\n",
    "import matplotlib.pyplot as plt\n",
    "import seaborn as sns\n",
    "\n",
    "game_mode = \"singleplayer\"  # calibration3\n",
    "subject_id_list = list(range(1, 27))\n",
    "\n",
    "base_path = r\"C:\\Users\\rosit\\Documents\\workprojects\\bci_complete\\BrainCommand\\assets\\game_saved_files\\time_and_movement (re-numbered)\"\n",
    "file_pattern = \"time_and_movement_singleplayer_sub{:02d}.txt\"\n",
    "data_output_path = r\"C:\\Users\\rosit\\Documents\\MATLAB\\2025 clean EEG BrainCommand\"\n",
    "\n",
    "results = []\n",
    "\n",
    "def get_player1_turns(file_path):\n",
    "    player1_turns = []\n",
    "    \n",
    "    # Open the file and read the lines\n",
    "    with open(file_path, 'r') as file:\n",
    "        lines = file.readlines()\n",
    "        for line in lines:\n",
    "            if line.startswith(\"player1_turns\"):\n",
    "                raw_data = line.split(\"player1_turns,\")[1].strip()\n",
    "                player1_turns = eval(raw_data)  # Unsafe but simple for controlled input\n",
    "    \n",
    "    # Flatten the list\n",
    "    flat_list = [item for sublist in player1_turns for item in sublist]\n",
    "    return flat_list\n",
    "\n",
    "for subject_id in subject_id_list:\n",
    "    file_name = file_pattern.format(subject_id)\n",
    "    file_path = os.path.join(base_path, file_name)\n",
    "    player1_turns = get_player1_turns(file_path)\n",
    "    count = Counter(player1_turns)  # Count the occurrences\n",
    "    results.append(count)\n",
    "\n",
    "# Creating a boxplot\n",
    "count_data = {num: [] for num in range(4)}\n",
    "for count in results:\n",
    "    for num in range(4):\n",
    "        count_data[num].append(count[num])\n"
   ],
   "metadata": {
    "collapsed": false,
    "ExecuteTime": {
     "end_time": "2025-01-22T20:56:36.123483400Z",
     "start_time": "2025-01-22T20:56:36.101686700Z"
    }
   },
   "id": "ce2b80b966d76cf7",
   "execution_count": 12
  },
  {
   "cell_type": "code",
   "outputs": [
    {
     "data": {
      "text/plain": "<Figure size 640x480 with 1 Axes>",
      "image/png": "[encoded data removed]"
     },
     "metadata": {},
     "output_type": "display_data"
    }
   ],
   "source": [
    "count_data = {num: [] for num in range(4)}\n",
    "for count in results:\n",
    "    for num in range(4):\n",
    "        count_data[num].append(count[num])\n",
    "       \n",
    "# Define the mapping\n",
    "direction_map = {2: 'Up', 3: 'Down', 1: 'Left', 0: 'Right'}\n",
    "\n",
    "# Creating a boxplot with mapped directions\n",
    "sns.boxplot(data=[count_data[num] for num in range(4)], palette=\"Set2\")\n",
    "plt.xticks(range(4), [direction_map[num] for num in range(4)])  # Map the numbers to directions\n",
    "plt.xlabel('Direction')\n",
    "plt.ylabel('Repetition Count')\n",
    "plt.title('Repetition of Player 1’s Moves')\n",
    "plt.show()\n"
   ],
   "metadata": {
    "collapsed": false,
    "ExecuteTime": {
     "end_time": "2025-01-22T20:55:25.370681200Z",
     "start_time": "2025-01-22T20:55:25.283035300Z"
    }
   },
   "id": "4f351ee605743bde",
   "execution_count": 11
  },
  {
   "cell_type": "code",
   "outputs": [],
   "source": [],
   "metadata": {
    "collapsed": false
   },
   "id": "a341f83eb4ffe22c"
  }
 ],
 "metadata": {
  "kernelspec": {
   "display_name": "Python 3",
   "language": "python",
   "name": "python3"
  },
  "language_info": {
   "codemirror_mode": {
    "name": "ipython",
    "version": 2
   },
   "file_extension": ".py",
   "mimetype": "text/x-python",
   "name": "python",
   "nbconvert_exporter": "python",
   "pygments_lexer": "ipython2",
   "version": "2.7.6"
  }
 },
 "nbformat": 4,
 "nbformat_minor": 5
}
