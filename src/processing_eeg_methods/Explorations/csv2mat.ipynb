{
 "cells": [
  {
   "cell_type": "code",
   "outputs": [],
   "source": [
    "from processing_eeg_methods.data_utils import (\n",
    "    get_dataset_basic_info,\n",
    ")\n",
    "from processing_eeg_methods.data_loaders import load_data_labels_based_on_dataset\n",
    "from processing_eeg_methods.share import datasets_basic_infos\n",
    "\n",
    "subject_id = 8  # Only two things I should be able to change\n",
    "dataset_name = \"braincommand\"  # Only two things I should be able to change\n",
    "\n",
    "dataset_info =get_dataset_basic_info(datasets_basic_infos, dataset_name)\n",
    "\n",
    "data_path = r\"C:\\Users\\rosit\\Documents\\workprojects\\bci_complete\\EEG-Classifiers-Ensemble\\Datasets\\braincommand_dataset\""
   ],
   "metadata": {
    "collapsed": false,
    "ExecuteTime": {
     "end_time": "2024-09-22T17:13:34.443450200Z",
     "start_time": "2024-09-22T17:13:33.052877700Z"
    }
   },
   "id": "6bb12d25d4bce27d",
   "execution_count": 1
  },
  {
   "cell_type": "markdown",
   "source": [
    "Loop to convert the .csv to .mat file to upload it to EEGLAB"
   ],
   "metadata": {
    "collapsed": false
   },
   "id": "ecdab6cfff775106"
  },
  {
   "cell_type": "code",
   "outputs": [
    {
     "name": "stdout",
     "output_type": "stream",
     "text": [
      "label 0 is 100\n",
      "label 1 is 103\n",
      "label 2 is 51\n",
      "label 3 is 22\n",
      "Not setting metadata\n",
      "276 matching events found\n",
      "Setting baseline interval to [0.0, 1.296] s\n",
      "Applying baseline correction (mode: mean)\n",
      "0 projection items activated\n",
      "label 0 is 85\n",
      "label 1 is 102\n",
      "label 2 is 65\n",
      "label 3 is 23\n",
      "Not setting metadata\n",
      "275 matching events found\n",
      "Setting baseline interval to [0.0, 1.296] s\n",
      "Applying baseline correction (mode: mean)\n",
      "0 projection items activated\n",
      "label 0 is 81\n",
      "label 1 is 102\n",
      "label 2 is 24\n",
      "label 3 is 48\n",
      "Not setting metadata\n",
      "255 matching events found\n",
      "Setting baseline interval to [0.0, 1.296] s\n",
      "Applying baseline correction (mode: mean)\n",
      "0 projection items activated\n",
      "label 0 is 121\n",
      "label 1 is 202\n",
      "label 2 is 22\n",
      "label 3 is 103\n",
      "Not setting metadata\n",
      "448 matching events found\n",
      "Setting baseline interval to [0.0, 1.296] s\n",
      "Applying baseline correction (mode: mean)\n",
      "0 projection items activated\n",
      "label 0 is 55\n",
      "label 1 is 109\n",
      "label 2 is 28\n",
      "label 3 is 61\n",
      "Not setting metadata\n",
      "253 matching events found\n",
      "Setting baseline interval to [0.0, 1.296] s\n",
      "Applying baseline correction (mode: mean)\n",
      "0 projection items activated\n",
      "label 0 is 70\n",
      "label 1 is 57\n",
      "label 2 is 42\n",
      "label 3 is 31\n",
      "Not setting metadata\n",
      "200 matching events found\n",
      "Setting baseline interval to [0.0, 1.296] s\n",
      "Applying baseline correction (mode: mean)\n",
      "0 projection items activated\n"
     ]
    }
   ],
   "source": [
    "import numpy as np\n",
    "from scipy.io import savemat\n",
    "\n",
    "game_mode=\"singleplayer\" # calibration3\n",
    "subject_id_list = [1,8,10,11,12,15,16,17,18,19,20,21,22,23,25,26,27,30,31,33,34,35,36,37,38,39,40,41]\n",
    "for subject_id in subject_id_list:\n",
    "    _, X_calibration, y_calibration_original = load_data_labels_based_on_dataset(\n",
    "        dataset_info,\n",
    "        subject_id,\n",
    "        data_path,\n",
    "        game_mode=game_mode,\n",
    "    )\n",
    "    X_calibration = np.transpose(X_calibration, (1, 2, 0))\n",
    "    data_dict = {\"array\": X_calibration}\n",
    "    labels_dict = {\"tags\": y_calibration_original}\n",
    "    data_output_path = r\"C:\\Users\\rosit\\Documents\\MATLAB\\clean EEG BrainCommand\"\n",
    "    savemat(fr\"{data_output_path}\\{subject_id}_{game_mode}_original.mat\", data_dict)\n",
    "    savemat(fr\"{data_output_path}\\y_{subject_id}_{game_mode}_original.mat\", labels_dict)"
   ],
   "metadata": {
    "collapsed": false,
    "is_executing": true,
    "ExecuteTime": {
     "start_time": "2024-09-22T17:13:34.442073900Z"
    }
   },
   "id": "6a580ec04b082006",
   "execution_count": null
  },
  {
   "cell_type": "code",
   "outputs": [],
   "source": [],
   "metadata": {
    "collapsed": false
   },
   "id": "15888fd25f66bf8d"
  }
 ],
 "metadata": {
  "kernelspec": {
   "display_name": "Python 3",
   "language": "python",
   "name": "python3"
  },
  "language_info": {
   "codemirror_mode": {
    "name": "ipython",
    "version": 2
   },
   "file_extension": ".py",
   "mimetype": "text/x-python",
   "name": "python",
   "nbconvert_exporter": "python",
   "pygments_lexer": "ipython2",
   "version": "2.7.6"
  }
 },
 "nbformat": 4,
 "nbformat_minor": 5
}
