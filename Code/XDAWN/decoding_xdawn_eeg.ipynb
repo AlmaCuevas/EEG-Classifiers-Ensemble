{
 "cells": [
  {
   "cell_type": "markdown",
   "metadata": {},
   "source": [
    "\n",
    "\n",
    "# XDAWN Decoding From EEG data\n",
    "\n",
    "ERP decoding with Xdawn :footcite:`RivetEtAl2009,RivetEtAl2011`. For each event\n",
    "type, a set of spatial Xdawn filters are trained and applied on the signal.\n",
    "Channels are concatenated and rescaled to create features vectors that will be\n",
    "fed into a logistic regression.\n"
   ]
  },
  {
   "cell_type": "code",
   "execution_count": null,
   "metadata": {
    "collapsed": false
   },
   "outputs": [],
   "source": [
    "# Authors: Alexandre Barachant <alexandre.barachant@gmail.com>\n",
    "#\n",
    "# License: BSD-3-Clause"
   ]
  },
  {
   "cell_type": "code",
   "execution_count": 1,
   "metadata": {
    "collapsed": false
   },
   "outputs": [
    {
     "name": "stdout",
     "output_type": "stream",
     "text": [
      "Automatically created module for IPython interactive environment\n",
      "Using default location ~/mne_data for sample...\n",
      "Creating ~/mne_data\n"
     ]
    },
    {
     "name": "stderr",
     "output_type": "stream",
     "text": [
      "Downloading file 'MNE-sample-data-processed.tar.gz' from 'https://osf.io/86qa2/download?version=6' to '/Users/almacuevas/mne_data'.\n",
      "100%|█████████████████████████████████████| 1.65G/1.65G [00:00<00:00, 1.61TB/s]\n",
      "Untarring contents of '/Users/almacuevas/mne_data/MNE-sample-data-processed.tar.gz' to '/Users/almacuevas/mne_data'\n"
     ]
    },
    {
     "name": "stdout",
     "output_type": "stream",
     "text": [
      "Attempting to create new mne-python configuration file:\n",
      "/Users/almacuevas/.mne/mne-python.json\n",
      "Download complete in 05m14s (1576.2 MB)\n"
     ]
    }
   ],
   "source": [
    "import numpy as np\n",
    "import matplotlib.pyplot as plt\n",
    "\n",
    "from sklearn.model_selection import StratifiedKFold\n",
    "from sklearn.pipeline import make_pipeline\n",
    "from sklearn.linear_model import LogisticRegression\n",
    "from sklearn.metrics import classification_report, confusion_matrix\n",
    "from sklearn.preprocessing import MinMaxScaler\n",
    "\n",
    "from mne import io, pick_types, read_events, Epochs, EvokedArray, create_info\n",
    "from mne.datasets import sample\n",
    "from mne.preprocessing import Xdawn\n",
    "from mne.decoding import Vectorizer\n",
    "\n",
    "\n",
    "print(__doc__)\n",
    "\n",
    "data_path = sample.data_path()"
   ]
  },
  {
   "cell_type": "markdown",
   "metadata": {},
   "source": [
    "Set parameters and read data\n",
    "\n"
   ]
  },
  {
   "cell_type": "code",
   "execution_count": 5,
   "metadata": {
    "collapsed": false
   },
   "outputs": [
    {
     "name": "stdout",
     "output_type": "stream",
     "text": [
      "Opening raw data file /Users/almacuevas/mne_data/MNE-sample-data/MEG/sample/sample_audvis_filt-0-40_raw.fif...\n",
      "    Read a total of 4 projection items:\n",
      "        PCA-v1 (1 x 102)  idle\n",
      "        PCA-v2 (1 x 102)  idle\n",
      "        PCA-v3 (1 x 102)  idle\n",
      "        Average EEG reference (1 x 60)  idle\n",
      "    Range : 6450 ... 48149 =     42.956 ...   320.665 secs\n",
      "Ready.\n",
      "Reading 0 ... 41699  =      0.000 ...   277.709 secs...\n",
      "Filtering raw data in 1 contiguous segment\n",
      "Setting up band-pass filter from 1 - 20 Hz\n",
      "\n",
      "FIR filter parameters\n",
      "---------------------\n",
      "Designing a one-pass, zero-phase, non-causal bandpass filter:\n",
      "- Windowed time-domain design (firwin) method\n",
      "- Hamming window with 0.0194 passband ripple and 53 dB stopband attenuation\n",
      "- Lower passband edge: 1.00\n",
      "- Lower transition bandwidth: 1.00 Hz (-6 dB cutoff frequency: 0.50 Hz)\n",
      "- Upper passband edge: 20.00 Hz\n",
      "- Upper transition bandwidth: 5.00 Hz (-6 dB cutoff frequency: 22.50 Hz)\n",
      "- Filter length: 497 samples (3.310 s)\n",
      "\n"
     ]
    },
    {
     "name": "stderr",
     "output_type": "stream",
     "text": [
      "[Parallel(n_jobs=1)]: Done  17 tasks      | elapsed:    0.0s\n",
      "[Parallel(n_jobs=1)]: Done  71 tasks      | elapsed:    0.1s\n",
      "[Parallel(n_jobs=1)]: Done 161 tasks      | elapsed:    0.1s\n",
      "[Parallel(n_jobs=1)]: Done 287 tasks      | elapsed:    0.2s\n"
     ]
    },
    {
     "ename": "KeyboardInterrupt",
     "evalue": "",
     "output_type": "error",
     "traceback": [
      "\u001B[0;31m---------------------------------------------------------------------------\u001B[0m",
      "\u001B[0;31mKeyboardInterrupt\u001B[0m                         Traceback (most recent call last)",
      "Cell \u001B[0;32mIn[5], line 51\u001B[0m\n\u001B[1;32m     49\u001B[0m \u001B[38;5;28;01mfor\u001B[39;00m train, test \u001B[38;5;129;01min\u001B[39;00m cv\u001B[38;5;241m.\u001B[39msplit(epochs, labels):\n\u001B[1;32m     50\u001B[0m     aver \u001B[38;5;241m=\u001B[39m epochs[train]\n\u001B[0;32m---> 51\u001B[0m     \u001B[43mclf\u001B[49m\u001B[38;5;241m.\u001B[39mfit(epochs[train], labels[train])\n\u001B[1;32m     52\u001B[0m     preds[test] \u001B[38;5;241m=\u001B[39m clf\u001B[38;5;241m.\u001B[39mpredict(epochs[test])\n\u001B[1;32m     54\u001B[0m \u001B[38;5;66;03m# Classification report\u001B[39;00m\n",
      "Cell \u001B[0;32mIn[5], line 51\u001B[0m\n\u001B[1;32m     49\u001B[0m \u001B[38;5;28;01mfor\u001B[39;00m train, test \u001B[38;5;129;01min\u001B[39;00m cv\u001B[38;5;241m.\u001B[39msplit(epochs, labels):\n\u001B[1;32m     50\u001B[0m     aver \u001B[38;5;241m=\u001B[39m epochs[train]\n\u001B[0;32m---> 51\u001B[0m     \u001B[43mclf\u001B[49m\u001B[38;5;241m.\u001B[39mfit(epochs[train], labels[train])\n\u001B[1;32m     52\u001B[0m     preds[test] \u001B[38;5;241m=\u001B[39m clf\u001B[38;5;241m.\u001B[39mpredict(epochs[test])\n\u001B[1;32m     54\u001B[0m \u001B[38;5;66;03m# Classification report\u001B[39;00m\n",
      "File \u001B[0;32m_pydevd_bundle/pydevd_cython_darwin_310_64.pyx:1179\u001B[0m, in \u001B[0;36m_pydevd_bundle.pydevd_cython_darwin_310_64.SafeCallWrapper.__call__\u001B[0;34m()\u001B[0m\n",
      "File \u001B[0;32m_pydevd_bundle/pydevd_cython_darwin_310_64.pyx:620\u001B[0m, in \u001B[0;36m_pydevd_bundle.pydevd_cython_darwin_310_64.PyDBFrame.trace_dispatch\u001B[0;34m()\u001B[0m\n",
      "File \u001B[0;32m_pydevd_bundle/pydevd_cython_darwin_310_64.pyx:929\u001B[0m, in \u001B[0;36m_pydevd_bundle.pydevd_cython_darwin_310_64.PyDBFrame.trace_dispatch\u001B[0;34m()\u001B[0m\n",
      "File \u001B[0;32m_pydevd_bundle/pydevd_cython_darwin_310_64.pyx:920\u001B[0m, in \u001B[0;36m_pydevd_bundle.pydevd_cython_darwin_310_64.PyDBFrame.trace_dispatch\u001B[0;34m()\u001B[0m\n",
      "File \u001B[0;32m_pydevd_bundle/pydevd_cython_darwin_310_64.pyx:317\u001B[0m, in \u001B[0;36m_pydevd_bundle.pydevd_cython_darwin_310_64.PyDBFrame.do_wait_suspend\u001B[0;34m()\u001B[0m\n",
      "File \u001B[0;32m/Applications/PyCharm.app/Contents/plugins/python/helpers/pydev/pydevd.py:1160\u001B[0m, in \u001B[0;36mPyDB.do_wait_suspend\u001B[0;34m(self, thread, frame, event, arg, send_suspend_message, is_unhandled_exception)\u001B[0m\n\u001B[1;32m   1157\u001B[0m         from_this_thread\u001B[38;5;241m.\u001B[39mappend(frame_id)\n\u001B[1;32m   1159\u001B[0m \u001B[38;5;28;01mwith\u001B[39;00m \u001B[38;5;28mself\u001B[39m\u001B[38;5;241m.\u001B[39m_threads_suspended_single_notification\u001B[38;5;241m.\u001B[39mnotify_thread_suspended(thread_id, stop_reason):\n\u001B[0;32m-> 1160\u001B[0m     \u001B[38;5;28;43mself\u001B[39;49m\u001B[38;5;241;43m.\u001B[39;49m\u001B[43m_do_wait_suspend\u001B[49m\u001B[43m(\u001B[49m\u001B[43mthread\u001B[49m\u001B[43m,\u001B[49m\u001B[43m \u001B[49m\u001B[43mframe\u001B[49m\u001B[43m,\u001B[49m\u001B[43m \u001B[49m\u001B[43mevent\u001B[49m\u001B[43m,\u001B[49m\u001B[43m \u001B[49m\u001B[43marg\u001B[49m\u001B[43m,\u001B[49m\u001B[43m \u001B[49m\u001B[43msuspend_type\u001B[49m\u001B[43m,\u001B[49m\u001B[43m \u001B[49m\u001B[43mfrom_this_thread\u001B[49m\u001B[43m)\u001B[49m\n",
      "File \u001B[0;32m/Applications/PyCharm.app/Contents/plugins/python/helpers/pydev/pydevd.py:1175\u001B[0m, in \u001B[0;36mPyDB._do_wait_suspend\u001B[0;34m(self, thread, frame, event, arg, suspend_type, from_this_thread)\u001B[0m\n\u001B[1;32m   1172\u001B[0m             \u001B[38;5;28mself\u001B[39m\u001B[38;5;241m.\u001B[39m_call_mpl_hook()\n\u001B[1;32m   1174\u001B[0m         \u001B[38;5;28mself\u001B[39m\u001B[38;5;241m.\u001B[39mprocess_internal_commands()\n\u001B[0;32m-> 1175\u001B[0m         \u001B[43mtime\u001B[49m\u001B[38;5;241;43m.\u001B[39;49m\u001B[43msleep\u001B[49m\u001B[43m(\u001B[49m\u001B[38;5;241;43m0.01\u001B[39;49m\u001B[43m)\u001B[49m\n\u001B[1;32m   1177\u001B[0m \u001B[38;5;28mself\u001B[39m\u001B[38;5;241m.\u001B[39mcancel_async_evaluation(get_current_thread_id(thread), \u001B[38;5;28mstr\u001B[39m(\u001B[38;5;28mid\u001B[39m(frame)))\n\u001B[1;32m   1179\u001B[0m \u001B[38;5;66;03m# process any stepping instructions\u001B[39;00m\n",
      "\u001B[0;31mKeyboardInterrupt\u001B[0m: "
     ]
    }
   ],
   "source": [
    "# This one needs the data to be load in epochs, not in dimensions\n",
    "    # Check\n",
    "meg_path = data_path / \"MEG\" / \"sample\"\n",
    "raw_fname = meg_path / \"sample_audvis_filt-0-40_raw.fif\"\n",
    "event_fname = meg_path / \"sample_audvis_filt-0-40_raw-eve.fif\"\n",
    "tmin, tmax = -0.1, 0.3\n",
    "event_id = {\n",
    "    \"Auditory/Left\": 1,\n",
    "    \"Auditory/Right\": 2,\n",
    "    \"Visual/Left\": 3,\n",
    "    \"Visual/Right\": 4,\n",
    "}\n",
    "n_filter = 3\n",
    "\n",
    "# Setup for reading the raw data\n",
    "raw = io.read_raw_fif(raw_fname, preload=True)\n",
    "raw.filter(1, 20, fir_design=\"firwin\")\n",
    "events = read_events(event_fname)\n",
    "\n",
    "picks = pick_types(raw.info, meg=False, eeg=True, stim=False, eog=False, exclude=\"bads\")\n",
    "\n",
    "epochs = Epochs(\n",
    "    raw,\n",
    "    events,\n",
    "    event_id,\n",
    "    tmin,\n",
    "    tmax,\n",
    "    proj=False,\n",
    "    picks=picks,\n",
    "    baseline=None,\n",
    "    preload=True,\n",
    "    verbose=False,\n",
    ")\n",
    "\n",
    "# Create classification pipeline\n",
    "clf = make_pipeline(\n",
    "    Xdawn(n_components=n_filter),\n",
    "    Vectorizer(),\n",
    "    MinMaxScaler(),\n",
    "    LogisticRegression(penalty=\"l1\", solver=\"liblinear\", multi_class=\"auto\"),\n",
    ")\n",
    "\n",
    "# Get the labels\n",
    "labels = epochs.events[:, -1]\n",
    "\n",
    "# Cross validator\n",
    "cv = StratifiedKFold(n_splits=10, shuffle=True, random_state=42)\n",
    "\n",
    "# Do cross-validation\n",
    "preds = np.empty(len(labels))\n",
    "for train, test in cv.split(epochs, labels):\n",
    "    clf.fit(epochs[train], labels[train])\n",
    "    preds[test] = clf.predict(epochs[test])\n",
    "\n",
    "# Classification report\n",
    "target_names = [\"aud_l\", \"aud_r\", \"vis_l\", \"vis_r\"]\n",
    "report = classification_report(labels, preds, target_names=target_names)\n",
    "print(report)\n",
    "\n",
    "# Normalized confusion matrix\n",
    "cm = confusion_matrix(labels, preds)\n",
    "cm_normalized = cm.astype(float) / cm.sum(axis=1)[:, np.newaxis]\n",
    "\n",
    "# Plot confusion matrix\n",
    "fig, ax = plt.subplots(1)\n",
    "im = ax.imshow(cm_normalized, interpolation=\"nearest\", cmap=plt.cm.Blues)\n",
    "ax.set(title=\"Normalized Confusion matrix\")\n",
    "fig.colorbar(im)\n",
    "tick_marks = np.arange(len(target_names))\n",
    "plt.xticks(tick_marks, target_names, rotation=45)\n",
    "plt.yticks(tick_marks, target_names)\n",
    "fig.tight_layout()\n",
    "ax.set(ylabel=\"True label\", xlabel=\"Predicted label\")"
   ]
  },
  {
   "cell_type": "markdown",
   "metadata": {},
   "source": [
    "The ``patterns_`` attribute of a fitted Xdawn instance (here from the last\n",
    "cross-validation fold) can be used for visualization.\n",
    "\n"
   ]
  },
  {
   "cell_type": "code",
   "execution_count": null,
   "metadata": {
    "collapsed": false
   },
   "outputs": [],
   "source": [
    "fig, axes = plt.subplots(\n",
    "    nrows=len(event_id), ncols=n_filter, figsize=(n_filter, len(event_id) * 2)\n",
    ")\n",
    "fitted_xdawn = clf.steps[0][1]\n",
    "info = create_info(epochs.ch_names, 1, epochs.get_channel_types())\n",
    "info.set_montage(epochs.get_montage())\n",
    "for ii, cur_class in enumerate(sorted(event_id)):\n",
    "    cur_patterns = fitted_xdawn.patterns_[cur_class]\n",
    "    pattern_evoked = EvokedArray(cur_patterns[:n_filter].T, info, tmin=0)\n",
    "    pattern_evoked.plot_topomap(\n",
    "        times=np.arange(n_filter),\n",
    "        time_format=\"Component %d\" if ii == 0 else \"\",\n",
    "        colorbar=False,\n",
    "        show_names=False,\n",
    "        axes=axes[ii],\n",
    "        show=False,\n",
    "    )\n",
    "    axes[ii, 0].set(ylabel=cur_class)\n",
    "fig.tight_layout(h_pad=1.0, w_pad=1.0, pad=0.1)"
   ]
  },
  {
   "cell_type": "markdown",
   "metadata": {},
   "source": [
    "## References\n",
    ".. footbibliography::\n",
    "\n"
   ]
  }
 ],
 "metadata": {
  "kernelspec": {
   "display_name": "Python 3",
   "language": "python",
   "name": "python3"
  },
  "language_info": {
   "codemirror_mode": {
    "name": "ipython",
    "version": 3
   },
   "file_extension": ".py",
   "mimetype": "text/x-python",
   "name": "python",
   "nbconvert_exporter": "python",
   "pygments_lexer": "ipython3",
   "version": "3.10.12"
  }
 },
 "nbformat": 4,
 "nbformat_minor": 0
}
