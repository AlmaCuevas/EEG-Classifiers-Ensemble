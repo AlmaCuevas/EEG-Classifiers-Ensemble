{
 "cells": [
  {
   "cell_type": "markdown",
   "metadata": {},
   "source": [
    "\n",
    "\n",
    "# XDAWN Decoding From EEG data\n",
    "\n",
    "ERP decoding with Xdawn :footcite:`RivetEtAl2009,RivetEtAl2011`. For each event\n",
    "type, a set of spatial Xdawn filters are trained and applied on the signal.\n",
    "Channels are concatenated and rescaled to create features vectors that will be\n",
    "fed into a logistic regression.\n"
   ]
  },
  {
   "cell_type": "code",
   "execution_count": 1,
   "metadata": {
    "collapsed": false
   },
   "outputs": [],
   "source": [
    "# Authors: Alexandre Barachant <alexandre.barachant@gmail.com>\n",
    "#\n",
    "# License: BSD-3-Clause"
   ]
  },
  {
   "cell_type": "code",
   "execution_count": 1,
   "metadata": {
    "collapsed": false
   },
   "outputs": [
    {
     "name": "stdout",
     "output_type": "stream",
     "text": [
      "Automatically created module for IPython interactive environment\n"
     ]
    }
   ],
   "source": [
    "import numpy as np\n",
    "import matplotlib.pyplot as plt\n",
    "\n",
    "from sklearn.model_selection import StratifiedKFold\n",
    "from sklearn.pipeline import make_pipeline\n",
    "from sklearn.linear_model import (LogisticRegression, ARDRegression,\n",
    "    BayesianRidge,\n",
    "    ElasticNet,\n",
    "    ElasticNetCV,\n",
    "    Hinge,\n",
    "    Huber,\n",
    "    HuberRegressor,\n",
    "    Lars,\n",
    "    LarsCV,\n",
    "    Lasso,\n",
    "    LassoCV,\n",
    "    LassoLars,\n",
    "    LassoLarsCV,\n",
    "    LassoLarsIC,\n",
    "    LinearRegression,\n",
    "    Log,\n",
    "    LogisticRegression,\n",
    "    LogisticRegressionCV,\n",
    "    ModifiedHuber,\n",
    "    MultiTaskElasticNet,\n",
    "    MultiTaskElasticNetCV,\n",
    "    MultiTaskLasso,\n",
    "    MultiTaskLassoCV,\n",
    "    OrthogonalMatchingPursuit,\n",
    "    OrthogonalMatchingPursuitCV,\n",
    "    PassiveAggressiveClassifier,\n",
    "    PassiveAggressiveRegressor,\n",
    "    Perceptron,\n",
    "    QuantileRegressor,\n",
    "    Ridge,\n",
    "    RidgeCV,\n",
    "    RidgeClassifier,\n",
    "    RidgeClassifierCV,\n",
    "    SGDClassifier,\n",
    "    SGDRegressor,\n",
    "    SGDOneClassSVM,\n",
    "    SquaredLoss,\n",
    "    TheilSenRegressor,\n",
    "    enet_path,\n",
    "    lars_path,\n",
    "    lars_path_gram,\n",
    "    lasso_path,\n",
    "    orthogonal_mp,\n",
    "    orthogonal_mp_gram,\n",
    "    ridge_regression,\n",
    "    RANSACRegressor,\n",
    "    PoissonRegressor,\n",
    "    GammaRegressor)\n",
    "from sklearn.metrics import classification_report, confusion_matrix\n",
    "from sklearn.preprocessing import MinMaxScaler\n",
    "\n",
    "from mne import io, pick_types, read_events, Epochs, EvokedArray, create_info, events_from_annotations\n",
    "from mne.datasets import sample\n",
    "from mne.preprocessing import Xdawn\n",
    "from mne.decoding import Vectorizer\n",
    "\n",
    "print(__doc__)\n",
    "\n",
    "data_path = sample.data_path()"
   ]
  },
  {
   "cell_type": "markdown",
   "metadata": {},
   "source": [
    "Set parameters and read data\n",
    "\n"
   ]
  },
  {
   "cell_type": "code",
   "execution_count": 35,
   "metadata": {
    "collapsed": false
   },
   "outputs": [
    {
     "name": "stdout",
     "output_type": "stream",
     "text": [
      "NOTE: pick_channels() is a legacy function. New code should use inst.pick(...).\n",
      "Used Annotations descriptions: ['OVTK_StimulationId_Label_01', 'OVTK_StimulationId_Label_02', 'OVTK_StimulationId_Label_03', 'OVTK_StimulationId_Label_04', 'OVTK_StimulationId_Label_05']\n"
     ]
    },
    {
     "name": "stderr",
     "output_type": "stream",
     "text": [
      "/var/folders/v0/vyb8z9hs3b166f_7lmxwvfbr0000gn/T/ipykernel_54256/3034644830.py:13: RuntimeWarning: Omitted 1 annotation(s) that were outside data range.\n",
      "  raw = io.read_raw_edf(data_path, preload=True, verbose=False);\n"
     ]
    },
    {
     "ename": "KeyboardInterrupt",
     "evalue": "",
     "output_type": "error",
     "traceback": [
      "\u001B[0;31m---------------------------------------------------------------------------\u001B[0m",
      "\u001B[0;31mKeyboardInterrupt\u001B[0m                         Traceback (most recent call last)",
      "Cell \u001B[0;32mIn[35], line 18\u001B[0m\n\u001B[1;32m     14\u001B[0m raw\u001B[38;5;241m.\u001B[39mpick_channels([\u001B[38;5;124m'\u001B[39m\u001B[38;5;124mChannel 3\u001B[39m\u001B[38;5;124m'\u001B[39m,\n\u001B[1;32m     15\u001B[0m \u001B[38;5;124m'\u001B[39m\u001B[38;5;124mChannel 4\u001B[39m\u001B[38;5;124m'\u001B[39m, \u001B[38;5;124m'\u001B[39m\u001B[38;5;124mChannel 5\u001B[39m\u001B[38;5;124m'\u001B[39m, \u001B[38;5;124m'\u001B[39m\u001B[38;5;124mChannel 6\u001B[39m\u001B[38;5;124m'\u001B[39m, \u001B[38;5;124m'\u001B[39m\u001B[38;5;124mChannel 7\u001B[39m\u001B[38;5;124m'\u001B[39m, \u001B[38;5;124m'\u001B[39m\u001B[38;5;124mChannel 8\u001B[39m\u001B[38;5;124m'\u001B[39m]);\n\u001B[1;32m     16\u001B[0m events, event_id \u001B[38;5;241m=\u001B[39m events_from_annotations(raw);\n\u001B[0;32m---> 18\u001B[0m \u001B[38;5;28;43mprint\u001B[39;49m(events)\n\u001B[1;32m     20\u001B[0m \u001B[38;5;28;01mdel\u001B[39;00m event_id[\u001B[38;5;124m'\u001B[39m\u001B[38;5;124m32770\u001B[39m\u001B[38;5;124m'\u001B[39m];\n\u001B[1;32m     21\u001B[0m \u001B[38;5;28;01mdel\u001B[39;00m event_id[\u001B[38;5;124m'\u001B[39m\u001B[38;5;124m33029\u001B[39m\u001B[38;5;124m'\u001B[39m];\n",
      "Cell \u001B[0;32mIn[35], line 18\u001B[0m\n\u001B[1;32m     14\u001B[0m raw\u001B[38;5;241m.\u001B[39mpick_channels([\u001B[38;5;124m'\u001B[39m\u001B[38;5;124mChannel 3\u001B[39m\u001B[38;5;124m'\u001B[39m,\n\u001B[1;32m     15\u001B[0m \u001B[38;5;124m'\u001B[39m\u001B[38;5;124mChannel 4\u001B[39m\u001B[38;5;124m'\u001B[39m, \u001B[38;5;124m'\u001B[39m\u001B[38;5;124mChannel 5\u001B[39m\u001B[38;5;124m'\u001B[39m, \u001B[38;5;124m'\u001B[39m\u001B[38;5;124mChannel 6\u001B[39m\u001B[38;5;124m'\u001B[39m, \u001B[38;5;124m'\u001B[39m\u001B[38;5;124mChannel 7\u001B[39m\u001B[38;5;124m'\u001B[39m, \u001B[38;5;124m'\u001B[39m\u001B[38;5;124mChannel 8\u001B[39m\u001B[38;5;124m'\u001B[39m]);\n\u001B[1;32m     16\u001B[0m events, event_id \u001B[38;5;241m=\u001B[39m events_from_annotations(raw);\n\u001B[0;32m---> 18\u001B[0m \u001B[38;5;28;43mprint\u001B[39;49m(events)\n\u001B[1;32m     20\u001B[0m \u001B[38;5;28;01mdel\u001B[39;00m event_id[\u001B[38;5;124m'\u001B[39m\u001B[38;5;124m32770\u001B[39m\u001B[38;5;124m'\u001B[39m];\n\u001B[1;32m     21\u001B[0m \u001B[38;5;28;01mdel\u001B[39;00m event_id[\u001B[38;5;124m'\u001B[39m\u001B[38;5;124m33029\u001B[39m\u001B[38;5;124m'\u001B[39m];\n",
      "File \u001B[0;32m_pydevd_bundle/pydevd_cython_darwin_310_64.pyx:1179\u001B[0m, in \u001B[0;36m_pydevd_bundle.pydevd_cython_darwin_310_64.SafeCallWrapper.__call__\u001B[0;34m()\u001B[0m\n",
      "File \u001B[0;32m_pydevd_bundle/pydevd_cython_darwin_310_64.pyx:620\u001B[0m, in \u001B[0;36m_pydevd_bundle.pydevd_cython_darwin_310_64.PyDBFrame.trace_dispatch\u001B[0;34m()\u001B[0m\n",
      "File \u001B[0;32m_pydevd_bundle/pydevd_cython_darwin_310_64.pyx:929\u001B[0m, in \u001B[0;36m_pydevd_bundle.pydevd_cython_darwin_310_64.PyDBFrame.trace_dispatch\u001B[0;34m()\u001B[0m\n",
      "File \u001B[0;32m_pydevd_bundle/pydevd_cython_darwin_310_64.pyx:920\u001B[0m, in \u001B[0;36m_pydevd_bundle.pydevd_cython_darwin_310_64.PyDBFrame.trace_dispatch\u001B[0;34m()\u001B[0m\n",
      "File \u001B[0;32m_pydevd_bundle/pydevd_cython_darwin_310_64.pyx:317\u001B[0m, in \u001B[0;36m_pydevd_bundle.pydevd_cython_darwin_310_64.PyDBFrame.do_wait_suspend\u001B[0;34m()\u001B[0m\n",
      "File \u001B[0;32m/Applications/PyCharm.app/Contents/plugins/python/helpers/pydev/pydevd.py:1160\u001B[0m, in \u001B[0;36mPyDB.do_wait_suspend\u001B[0;34m(self, thread, frame, event, arg, send_suspend_message, is_unhandled_exception)\u001B[0m\n\u001B[1;32m   1157\u001B[0m         from_this_thread\u001B[38;5;241m.\u001B[39mappend(frame_id)\n\u001B[1;32m   1159\u001B[0m \u001B[38;5;28;01mwith\u001B[39;00m \u001B[38;5;28mself\u001B[39m\u001B[38;5;241m.\u001B[39m_threads_suspended_single_notification\u001B[38;5;241m.\u001B[39mnotify_thread_suspended(thread_id, stop_reason):\n\u001B[0;32m-> 1160\u001B[0m     \u001B[38;5;28;43mself\u001B[39;49m\u001B[38;5;241;43m.\u001B[39;49m\u001B[43m_do_wait_suspend\u001B[49m\u001B[43m(\u001B[49m\u001B[43mthread\u001B[49m\u001B[43m,\u001B[49m\u001B[43m \u001B[49m\u001B[43mframe\u001B[49m\u001B[43m,\u001B[49m\u001B[43m \u001B[49m\u001B[43mevent\u001B[49m\u001B[43m,\u001B[49m\u001B[43m \u001B[49m\u001B[43marg\u001B[49m\u001B[43m,\u001B[49m\u001B[43m \u001B[49m\u001B[43msuspend_type\u001B[49m\u001B[43m,\u001B[49m\u001B[43m \u001B[49m\u001B[43mfrom_this_thread\u001B[49m\u001B[43m)\u001B[49m\n",
      "File \u001B[0;32m/Applications/PyCharm.app/Contents/plugins/python/helpers/pydev/pydevd.py:1175\u001B[0m, in \u001B[0;36mPyDB._do_wait_suspend\u001B[0;34m(self, thread, frame, event, arg, suspend_type, from_this_thread)\u001B[0m\n\u001B[1;32m   1172\u001B[0m             \u001B[38;5;28mself\u001B[39m\u001B[38;5;241m.\u001B[39m_call_mpl_hook()\n\u001B[1;32m   1174\u001B[0m         \u001B[38;5;28mself\u001B[39m\u001B[38;5;241m.\u001B[39mprocess_internal_commands()\n\u001B[0;32m-> 1175\u001B[0m         \u001B[43mtime\u001B[49m\u001B[38;5;241;43m.\u001B[39;49m\u001B[43msleep\u001B[49m\u001B[43m(\u001B[49m\u001B[38;5;241;43m0.01\u001B[39;49m\u001B[43m)\u001B[49m\n\u001B[1;32m   1177\u001B[0m \u001B[38;5;28mself\u001B[39m\u001B[38;5;241m.\u001B[39mcancel_async_evaluation(get_current_thread_id(thread), \u001B[38;5;28mstr\u001B[39m(\u001B[38;5;28mid\u001B[39m(frame)))\n\u001B[1;32m   1179\u001B[0m \u001B[38;5;66;03m# process any stepping instructions\u001B[39;00m\n",
      "\u001B[0;31mKeyboardInterrupt\u001B[0m: "
     ]
    }
   ],
   "source": [
    "# This one needs the data to be load in epochs, not in dimensions\n",
    "subject_id = 15\n",
    "dataset_name = 'aguilera'\n",
    "\n",
    "\n",
    "dataset_foldername = dataset_name + '_dataset'\n",
    "computer_root_path = \"/Users/almacuevas/work_projects/voting_system_platform/Datasets/\" # MAC\n",
    "#computer_root_path = \"/Users/rosit/Documents/MCC/voting_system_platform/Datasets/\"  # OMEN\n",
    "\n",
    "\n",
    "filename = F\"/S{subject_id}.edf\"\n",
    "data_path = computer_root_path + dataset_foldername + filename\n",
    "raw = io.read_raw_edf(data_path, preload=True, verbose=False)\n",
    "raw.pick_channels(['Channel 3',\n",
    "'Channel 4', 'Channel 5', 'Channel 6', 'Channel 7', 'Channel 8'])\n",
    "events, event_id = events_from_annotations(raw)\n",
    "\n",
    "del event_id['32770'];\n",
    "del event_id['33029'];\n",
    "\n",
    "# Read epochs\n",
    "epochs = Epochs(raw, events, event_id, preload=True, tmin=0, tmax=1.4, baseline=None);\n",
    "labels = epochs.events[:,-1];"
   ]
  },
  {
   "cell_type": "code",
   "execution_count": 31,
   "outputs": [
    {
     "name": "stdout",
     "output_type": "stream",
     "text": [
      "Computing rank from data with rank='full'\n",
      "    EEG: rank 6 from info\n",
      "Reducing data rank from 6 -> 6\n",
      "Estimating covariance using EMPIRICAL\n",
      "Done.\n",
      "Computing rank from data with rank='full'\n",
      "    EEG: rank 6 from info\n",
      "Reducing data rank from 6 -> 6\n",
      "Estimating covariance using EMPIRICAL\n",
      "Done.\n",
      "Computing rank from data with rank='full'\n",
      "    EEG: rank 6 from info\n",
      "Reducing data rank from 6 -> 6\n",
      "Estimating covariance using EMPIRICAL\n",
      "Done.\n",
      "Computing rank from data with rank='full'\n",
      "    EEG: rank 6 from info\n",
      "Reducing data rank from 6 -> 6\n",
      "Estimating covariance using EMPIRICAL\n",
      "Done.\n",
      "Computing rank from data with rank='full'\n",
      "    EEG: rank 6 from info\n",
      "Reducing data rank from 6 -> 6\n",
      "Estimating covariance using EMPIRICAL\n",
      "Done.\n",
      "Computing rank from data with rank='full'\n",
      "    EEG: rank 6 from info\n",
      "Reducing data rank from 6 -> 6\n",
      "Estimating covariance using EMPIRICAL\n",
      "Done.\n",
      "Computing rank from data with rank='full'\n",
      "    EEG: rank 6 from info\n",
      "Reducing data rank from 6 -> 6\n",
      "Estimating covariance using EMPIRICAL\n",
      "Done.\n",
      "Computing rank from data with rank='full'\n",
      "    EEG: rank 6 from info\n",
      "Reducing data rank from 6 -> 6\n",
      "Estimating covariance using EMPIRICAL\n",
      "Done.\n",
      "Computing rank from data with rank='full'\n",
      "    EEG: rank 6 from info\n",
      "Reducing data rank from 6 -> 6\n",
      "Estimating covariance using EMPIRICAL\n",
      "Done.\n",
      "Computing rank from data with rank='full'\n",
      "    EEG: rank 6 from info\n",
      "Reducing data rank from 6 -> 6\n",
      "Estimating covariance using EMPIRICAL\n",
      "Done.\n"
     ]
    },
    {
     "name": "stderr",
     "output_type": "stream",
     "text": [
      "/Users/almacuevas/work_projects/voting_system_platform/env_voting_system_platform/lib/python3.10/site-packages/sklearn/linear_model/_logistic.py:460: ConvergenceWarning: lbfgs failed to converge (status=1):\n",
      "STOP: TOTAL NO. of ITERATIONS REACHED LIMIT.\n",
      "\n",
      "Increase the number of iterations (max_iter) or scale the data as shown in:\n",
      "    https://scikit-learn.org/stable/modules/preprocessing.html\n",
      "Please also refer to the documentation for alternative solver options:\n",
      "    https://scikit-learn.org/stable/modules/linear_model.html#logistic-regression\n",
      "  n_iter_i = _check_optimize_result(\n"
     ]
    },
    {
     "name": "stdout",
     "output_type": "stream",
     "text": [
      "Computing rank from data with rank='full'\n",
      "    EEG: rank 6 from info\n",
      "Reducing data rank from 6 -> 6\n",
      "Estimating covariance using EMPIRICAL\n",
      "Done.\n",
      "Computing rank from data with rank='full'\n",
      "    EEG: rank 6 from info\n",
      "Reducing data rank from 6 -> 6\n",
      "Estimating covariance using EMPIRICAL\n",
      "Done.\n",
      "Computing rank from data with rank='full'\n",
      "    EEG: rank 6 from info\n",
      "Reducing data rank from 6 -> 6\n",
      "Estimating covariance using EMPIRICAL\n",
      "Done.\n",
      "Computing rank from data with rank='full'\n",
      "    EEG: rank 6 from info\n",
      "Reducing data rank from 6 -> 6\n",
      "Estimating covariance using EMPIRICAL\n",
      "Done.\n",
      "Computing rank from data with rank='full'\n",
      "    EEG: rank 6 from info\n",
      "Reducing data rank from 6 -> 6\n",
      "Estimating covariance using EMPIRICAL\n",
      "Done.\n"
     ]
    },
    {
     "name": "stderr",
     "output_type": "stream",
     "text": [
      "/Users/almacuevas/work_projects/voting_system_platform/env_voting_system_platform/lib/python3.10/site-packages/sklearn/linear_model/_logistic.py:460: ConvergenceWarning: lbfgs failed to converge (status=1):\n",
      "STOP: TOTAL NO. of ITERATIONS REACHED LIMIT.\n",
      "\n",
      "Increase the number of iterations (max_iter) or scale the data as shown in:\n",
      "    https://scikit-learn.org/stable/modules/preprocessing.html\n",
      "Please also refer to the documentation for alternative solver options:\n",
      "    https://scikit-learn.org/stable/modules/linear_model.html#logistic-regression\n",
      "  n_iter_i = _check_optimize_result(\n"
     ]
    },
    {
     "name": "stdout",
     "output_type": "stream",
     "text": [
      "Computing rank from data with rank='full'\n",
      "    EEG: rank 6 from info\n",
      "Reducing data rank from 6 -> 6\n",
      "Estimating covariance using EMPIRICAL\n",
      "Done.\n",
      "Computing rank from data with rank='full'\n",
      "    EEG: rank 6 from info\n",
      "Reducing data rank from 6 -> 6\n",
      "Estimating covariance using EMPIRICAL\n",
      "Done.\n",
      "Computing rank from data with rank='full'\n",
      "    EEG: rank 6 from info\n",
      "Reducing data rank from 6 -> 6\n",
      "Estimating covariance using EMPIRICAL\n",
      "Done.\n",
      "Computing rank from data with rank='full'\n",
      "    EEG: rank 6 from info\n",
      "Reducing data rank from 6 -> 6\n",
      "Estimating covariance using EMPIRICAL\n",
      "Done.\n",
      "Computing rank from data with rank='full'\n",
      "    EEG: rank 6 from info\n",
      "Reducing data rank from 6 -> 6\n",
      "Estimating covariance using EMPIRICAL\n",
      "Done.\n"
     ]
    },
    {
     "name": "stderr",
     "output_type": "stream",
     "text": [
      "/Users/almacuevas/work_projects/voting_system_platform/env_voting_system_platform/lib/python3.10/site-packages/sklearn/linear_model/_logistic.py:460: ConvergenceWarning: lbfgs failed to converge (status=1):\n",
      "STOP: TOTAL NO. of ITERATIONS REACHED LIMIT.\n",
      "\n",
      "Increase the number of iterations (max_iter) or scale the data as shown in:\n",
      "    https://scikit-learn.org/stable/modules/preprocessing.html\n",
      "Please also refer to the documentation for alternative solver options:\n",
      "    https://scikit-learn.org/stable/modules/linear_model.html#logistic-regression\n",
      "  n_iter_i = _check_optimize_result(\n"
     ]
    },
    {
     "name": "stdout",
     "output_type": "stream",
     "text": [
      "Computing rank from data with rank='full'\n",
      "    EEG: rank 6 from info\n",
      "Reducing data rank from 6 -> 6\n",
      "Estimating covariance using EMPIRICAL\n",
      "Done.\n",
      "Computing rank from data with rank='full'\n",
      "    EEG: rank 6 from info\n",
      "Reducing data rank from 6 -> 6\n",
      "Estimating covariance using EMPIRICAL\n",
      "Done.\n",
      "Computing rank from data with rank='full'\n",
      "    EEG: rank 6 from info\n",
      "Reducing data rank from 6 -> 6\n",
      "Estimating covariance using EMPIRICAL\n",
      "Done.\n",
      "Computing rank from data with rank='full'\n",
      "    EEG: rank 6 from info\n",
      "Reducing data rank from 6 -> 6\n",
      "Estimating covariance using EMPIRICAL\n",
      "Done.\n",
      "Computing rank from data with rank='full'\n",
      "    EEG: rank 6 from info\n",
      "Reducing data rank from 6 -> 6\n",
      "Estimating covariance using EMPIRICAL\n",
      "Done.\n"
     ]
    },
    {
     "name": "stderr",
     "output_type": "stream",
     "text": [
      "/Users/almacuevas/work_projects/voting_system_platform/env_voting_system_platform/lib/python3.10/site-packages/sklearn/linear_model/_logistic.py:460: ConvergenceWarning: lbfgs failed to converge (status=1):\n",
      "STOP: TOTAL NO. of ITERATIONS REACHED LIMIT.\n",
      "\n",
      "Increase the number of iterations (max_iter) or scale the data as shown in:\n",
      "    https://scikit-learn.org/stable/modules/preprocessing.html\n",
      "Please also refer to the documentation for alternative solver options:\n",
      "    https://scikit-learn.org/stable/modules/linear_model.html#logistic-regression\n",
      "  n_iter_i = _check_optimize_result(\n"
     ]
    },
    {
     "name": "stdout",
     "output_type": "stream",
     "text": [
      "Computing rank from data with rank='full'\n",
      "    EEG: rank 6 from info\n",
      "Reducing data rank from 6 -> 6\n",
      "Estimating covariance using EMPIRICAL\n",
      "Done.\n",
      "Computing rank from data with rank='full'\n",
      "    EEG: rank 6 from info\n",
      "Reducing data rank from 6 -> 6\n",
      "Estimating covariance using EMPIRICAL\n",
      "Done.\n",
      "Computing rank from data with rank='full'\n",
      "    EEG: rank 6 from info\n",
      "Reducing data rank from 6 -> 6\n",
      "Estimating covariance using EMPIRICAL\n",
      "Done.\n",
      "Computing rank from data with rank='full'\n",
      "    EEG: rank 6 from info\n",
      "Reducing data rank from 6 -> 6\n",
      "Estimating covariance using EMPIRICAL\n",
      "Done.\n",
      "Computing rank from data with rank='full'\n",
      "    EEG: rank 6 from info\n",
      "Reducing data rank from 6 -> 6\n",
      "Estimating covariance using EMPIRICAL\n",
      "Done.\n"
     ]
    },
    {
     "name": "stderr",
     "output_type": "stream",
     "text": [
      "/Users/almacuevas/work_projects/voting_system_platform/env_voting_system_platform/lib/python3.10/site-packages/sklearn/linear_model/_logistic.py:460: ConvergenceWarning: lbfgs failed to converge (status=1):\n",
      "STOP: TOTAL NO. of ITERATIONS REACHED LIMIT.\n",
      "\n",
      "Increase the number of iterations (max_iter) or scale the data as shown in:\n",
      "    https://scikit-learn.org/stable/modules/preprocessing.html\n",
      "Please also refer to the documentation for alternative solver options:\n",
      "    https://scikit-learn.org/stable/modules/linear_model.html#logistic-regression\n",
      "  n_iter_i = _check_optimize_result(\n"
     ]
    },
    {
     "name": "stdout",
     "output_type": "stream",
     "text": [
      "Computing rank from data with rank='full'\n",
      "    EEG: rank 6 from info\n",
      "Reducing data rank from 6 -> 6\n",
      "Estimating covariance using EMPIRICAL\n",
      "Done.\n",
      "Computing rank from data with rank='full'\n",
      "    EEG: rank 6 from info\n",
      "Reducing data rank from 6 -> 6\n",
      "Estimating covariance using EMPIRICAL\n",
      "Done.\n",
      "Computing rank from data with rank='full'\n",
      "    EEG: rank 6 from info\n",
      "Reducing data rank from 6 -> 6\n",
      "Estimating covariance using EMPIRICAL\n",
      "Done.\n",
      "Computing rank from data with rank='full'\n",
      "    EEG: rank 6 from info\n",
      "Reducing data rank from 6 -> 6\n",
      "Estimating covariance using EMPIRICAL\n",
      "Done.\n",
      "Computing rank from data with rank='full'\n",
      "    EEG: rank 6 from info\n",
      "Reducing data rank from 6 -> 6\n",
      "Estimating covariance using EMPIRICAL\n",
      "Done.\n"
     ]
    },
    {
     "name": "stderr",
     "output_type": "stream",
     "text": [
      "/Users/almacuevas/work_projects/voting_system_platform/env_voting_system_platform/lib/python3.10/site-packages/sklearn/linear_model/_logistic.py:460: ConvergenceWarning: lbfgs failed to converge (status=1):\n",
      "STOP: TOTAL NO. of ITERATIONS REACHED LIMIT.\n",
      "\n",
      "Increase the number of iterations (max_iter) or scale the data as shown in:\n",
      "    https://scikit-learn.org/stable/modules/preprocessing.html\n",
      "Please also refer to the documentation for alternative solver options:\n",
      "    https://scikit-learn.org/stable/modules/linear_model.html#logistic-regression\n",
      "  n_iter_i = _check_optimize_result(\n"
     ]
    },
    {
     "name": "stdout",
     "output_type": "stream",
     "text": [
      "Computing rank from data with rank='full'\n",
      "    EEG: rank 6 from info\n",
      "Reducing data rank from 6 -> 6\n",
      "Estimating covariance using EMPIRICAL\n",
      "Done.\n",
      "Computing rank from data with rank='full'\n",
      "    EEG: rank 6 from info\n",
      "Reducing data rank from 6 -> 6\n",
      "Estimating covariance using EMPIRICAL\n",
      "Done.\n",
      "Computing rank from data with rank='full'\n",
      "    EEG: rank 6 from info\n",
      "Reducing data rank from 6 -> 6\n",
      "Estimating covariance using EMPIRICAL\n",
      "Done.\n",
      "Computing rank from data with rank='full'\n",
      "    EEG: rank 6 from info\n",
      "Reducing data rank from 6 -> 6\n",
      "Estimating covariance using EMPIRICAL\n",
      "Done.\n",
      "Computing rank from data with rank='full'\n",
      "    EEG: rank 6 from info\n",
      "Reducing data rank from 6 -> 6\n",
      "Estimating covariance using EMPIRICAL\n",
      "Done.\n"
     ]
    },
    {
     "name": "stderr",
     "output_type": "stream",
     "text": [
      "/Users/almacuevas/work_projects/voting_system_platform/env_voting_system_platform/lib/python3.10/site-packages/sklearn/linear_model/_logistic.py:460: ConvergenceWarning: lbfgs failed to converge (status=1):\n",
      "STOP: TOTAL NO. of ITERATIONS REACHED LIMIT.\n",
      "\n",
      "Increase the number of iterations (max_iter) or scale the data as shown in:\n",
      "    https://scikit-learn.org/stable/modules/preprocessing.html\n",
      "Please also refer to the documentation for alternative solver options:\n",
      "    https://scikit-learn.org/stable/modules/linear_model.html#logistic-regression\n",
      "  n_iter_i = _check_optimize_result(\n"
     ]
    },
    {
     "name": "stdout",
     "output_type": "stream",
     "text": [
      "Computing rank from data with rank='full'\n",
      "    EEG: rank 6 from info\n",
      "Reducing data rank from 6 -> 6\n",
      "Estimating covariance using EMPIRICAL\n",
      "Done.\n",
      "Computing rank from data with rank='full'\n",
      "    EEG: rank 6 from info\n",
      "Reducing data rank from 6 -> 6\n",
      "Estimating covariance using EMPIRICAL\n",
      "Done.\n",
      "Computing rank from data with rank='full'\n",
      "    EEG: rank 6 from info\n",
      "Reducing data rank from 6 -> 6\n",
      "Estimating covariance using EMPIRICAL\n",
      "Done.\n",
      "Computing rank from data with rank='full'\n",
      "    EEG: rank 6 from info\n",
      "Reducing data rank from 6 -> 6\n",
      "Estimating covariance using EMPIRICAL\n",
      "Done.\n",
      "Computing rank from data with rank='full'\n",
      "    EEG: rank 6 from info\n",
      "Reducing data rank from 6 -> 6\n",
      "Estimating covariance using EMPIRICAL\n",
      "Done.\n"
     ]
    },
    {
     "name": "stderr",
     "output_type": "stream",
     "text": [
      "/Users/almacuevas/work_projects/voting_system_platform/env_voting_system_platform/lib/python3.10/site-packages/sklearn/linear_model/_logistic.py:460: ConvergenceWarning: lbfgs failed to converge (status=1):\n",
      "STOP: TOTAL NO. of ITERATIONS REACHED LIMIT.\n",
      "\n",
      "Increase the number of iterations (max_iter) or scale the data as shown in:\n",
      "    https://scikit-learn.org/stable/modules/preprocessing.html\n",
      "Please also refer to the documentation for alternative solver options:\n",
      "    https://scikit-learn.org/stable/modules/linear_model.html#logistic-regression\n",
      "  n_iter_i = _check_optimize_result(\n"
     ]
    },
    {
     "name": "stdout",
     "output_type": "stream",
     "text": [
      "Computing rank from data with rank='full'\n",
      "    EEG: rank 6 from info\n",
      "Reducing data rank from 6 -> 6\n",
      "Estimating covariance using EMPIRICAL\n",
      "Done.\n",
      "Computing rank from data with rank='full'\n",
      "    EEG: rank 6 from info\n",
      "Reducing data rank from 6 -> 6\n",
      "Estimating covariance using EMPIRICAL\n",
      "Done.\n",
      "Computing rank from data with rank='full'\n",
      "    EEG: rank 6 from info\n",
      "Reducing data rank from 6 -> 6\n",
      "Estimating covariance using EMPIRICAL\n",
      "Done.\n",
      "Computing rank from data with rank='full'\n",
      "    EEG: rank 6 from info\n",
      "Reducing data rank from 6 -> 6\n",
      "Estimating covariance using EMPIRICAL\n",
      "Done.\n",
      "Computing rank from data with rank='full'\n",
      "    EEG: rank 6 from info\n",
      "Reducing data rank from 6 -> 6\n",
      "Estimating covariance using EMPIRICAL\n",
      "Done.\n"
     ]
    },
    {
     "name": "stderr",
     "output_type": "stream",
     "text": [
      "/Users/almacuevas/work_projects/voting_system_platform/env_voting_system_platform/lib/python3.10/site-packages/sklearn/linear_model/_logistic.py:460: ConvergenceWarning: lbfgs failed to converge (status=1):\n",
      "STOP: TOTAL NO. of ITERATIONS REACHED LIMIT.\n",
      "\n",
      "Increase the number of iterations (max_iter) or scale the data as shown in:\n",
      "    https://scikit-learn.org/stable/modules/preprocessing.html\n",
      "Please also refer to the documentation for alternative solver options:\n",
      "    https://scikit-learn.org/stable/modules/linear_model.html#logistic-regression\n",
      "  n_iter_i = _check_optimize_result(\n"
     ]
    },
    {
     "name": "stdout",
     "output_type": "stream",
     "text": [
      "              precision    recall  f1-score   support\n",
      "\n",
      "           0       0.30      0.27      0.28        30\n",
      "           1       0.25      0.20      0.22        30\n",
      "           2       0.34      0.40      0.37        30\n",
      "           3       0.15      0.17      0.16        30\n",
      "\n",
      "    accuracy                           0.26       120\n",
      "   macro avg       0.26      0.26      0.26       120\n",
      "weighted avg       0.26      0.26      0.26       120\n",
      "\n"
     ]
    },
    {
     "name": "stderr",
     "output_type": "stream",
     "text": [
      "/Users/almacuevas/work_projects/voting_system_platform/env_voting_system_platform/lib/python3.10/site-packages/sklearn/linear_model/_logistic.py:460: ConvergenceWarning: lbfgs failed to converge (status=1):\n",
      "STOP: TOTAL NO. of ITERATIONS REACHED LIMIT.\n",
      "\n",
      "Increase the number of iterations (max_iter) or scale the data as shown in:\n",
      "    https://scikit-learn.org/stable/modules/preprocessing.html\n",
      "Please also refer to the documentation for alternative solver options:\n",
      "    https://scikit-learn.org/stable/modules/linear_model.html#logistic-regression\n",
      "  n_iter_i = _check_optimize_result(\n"
     ]
    },
    {
     "data": {
      "text/plain": "[Text(83.04722222222227, 0.5, 'True label'),\n Text(0.5, 21.34715460257995, 'Predicted label')]"
     },
     "execution_count": 31,
     "metadata": {},
     "output_type": "execute_result"
    },
    {
     "data": {
      "text/plain": "<Figure size 640x480 with 2 Axes>",
      "image/png": "[encoded data removed]"
     },
     "metadata": {},
     "output_type": "display_data"
    }
   ],
   "source": [
    "n_filter = 5\n",
    "# Create classification pipeline\n",
    "clf = make_pipeline(\n",
    "    Xdawn(n_components=n_filter),\n",
    "    Vectorizer(),\n",
    "    MinMaxScaler(),\n",
    "    LogisticRegression(penalty=\"l2\", solver=\"lbfgs\", multi_class=\"auto\"),\n",
    ")\n",
    "\n",
    "# Get the labels\n",
    "labels = epochs.events[:, -1]\n",
    "\n",
    "# Cross validator\n",
    "cv = StratifiedKFold(n_splits=10, shuffle=True, random_state=42)\n",
    "\n",
    "# Do cross-validation\n",
    "preds = np.empty(len(labels))\n",
    "for train, test in cv.split(epochs, labels):\n",
    "    clf.fit(epochs[train], labels[train])\n",
    "    preds[test] = clf.predict(epochs[test])\n",
    "\n",
    "# Classification report\n",
    "target_names = [\"0\", \"1\", \"2\", \"3\"]\n",
    "report = classification_report(labels, preds, target_names=target_names)\n",
    "print(report)\n",
    "\n",
    "# Normalized confusion matrix\n",
    "cm = confusion_matrix(labels, preds)\n",
    "cm_normalized = cm.astype(float) / cm.sum(axis=1)[:, np.newaxis]\n",
    "\n",
    "# Plot confusion matrix\n",
    "fig, ax = plt.subplots(1)\n",
    "im = ax.imshow(cm_normalized, interpolation=\"nearest\", cmap=plt.cm.Blues)\n",
    "ax.set(title=\"Normalized Confusion matrix\")\n",
    "fig.colorbar(im)\n",
    "tick_marks = np.arange(len(target_names))\n",
    "plt.xticks(tick_marks, target_names, rotation=45)\n",
    "plt.yticks(tick_marks, target_names)\n",
    "fig.tight_layout()\n",
    "ax.set(ylabel=\"True label\", xlabel=\"Predicted label\")"
   ],
   "metadata": {
    "collapsed": false
   }
  },
  {
   "cell_type": "markdown",
   "metadata": {},
   "source": [
    "The ``patterns_`` attribute of a fitted Xdawn instance (here from the last\n",
    "cross-validation fold) can be used for visualization.\n",
    "\n"
   ]
  },
  {
   "cell_type": "code",
   "execution_count": 34,
   "metadata": {
    "collapsed": false
   },
   "outputs": [
    {
     "name": "stderr",
     "output_type": "stream",
     "text": [
      "WARNING:root:Did not find any electrode locations (in the info object), will attempt to use digitization points instead. However, if digitization points do not correspond to the EEG electrodes, this will lead to bad results. Please verify that the sensor locations in the plot are accurate.\n"
     ]
    },
    {
     "ename": "RuntimeError",
     "evalue": "No digitization points found.",
     "output_type": "error",
     "traceback": [
      "\u001B[0;31m---------------------------------------------------------------------------\u001B[0m",
      "\u001B[0;31mRuntimeError\u001B[0m                              Traceback (most recent call last)",
      "Cell \u001B[0;32mIn[34], line 10\u001B[0m\n\u001B[1;32m      8\u001B[0m     cur_patterns \u001B[38;5;241m=\u001B[39m fitted_xdawn\u001B[38;5;241m.\u001B[39mpatterns_[cur_class]\n\u001B[1;32m      9\u001B[0m     pattern_evoked \u001B[38;5;241m=\u001B[39m EvokedArray(cur_patterns[:n_filter]\u001B[38;5;241m.\u001B[39mT, info, tmin\u001B[38;5;241m=\u001B[39m\u001B[38;5;241m0\u001B[39m)\n\u001B[0;32m---> 10\u001B[0m     \u001B[43mpattern_evoked\u001B[49m\u001B[38;5;241;43m.\u001B[39;49m\u001B[43mplot_topomap\u001B[49m\u001B[43m(\u001B[49m\n\u001B[1;32m     11\u001B[0m \u001B[43m        \u001B[49m\u001B[43mtimes\u001B[49m\u001B[38;5;241;43m=\u001B[39;49m\u001B[43mnp\u001B[49m\u001B[38;5;241;43m.\u001B[39;49m\u001B[43marange\u001B[49m\u001B[43m(\u001B[49m\u001B[43mn_filter\u001B[49m\u001B[43m)\u001B[49m\u001B[43m,\u001B[49m\n\u001B[1;32m     12\u001B[0m \u001B[43m        \u001B[49m\u001B[43mtime_format\u001B[49m\u001B[38;5;241;43m=\u001B[39;49m\u001B[38;5;124;43m\"\u001B[39;49m\u001B[38;5;124;43mComponent \u001B[39;49m\u001B[38;5;132;43;01m%d\u001B[39;49;00m\u001B[38;5;124;43m\"\u001B[39;49m\u001B[43m \u001B[49m\u001B[38;5;28;43;01mif\u001B[39;49;00m\u001B[43m \u001B[49m\u001B[43mii\u001B[49m\u001B[43m \u001B[49m\u001B[38;5;241;43m==\u001B[39;49m\u001B[43m \u001B[49m\u001B[38;5;241;43m0\u001B[39;49m\u001B[43m \u001B[49m\u001B[38;5;28;43;01melse\u001B[39;49;00m\u001B[43m \u001B[49m\u001B[38;5;124;43m\"\u001B[39;49m\u001B[38;5;124;43m\"\u001B[39;49m\u001B[43m,\u001B[49m\n\u001B[1;32m     13\u001B[0m \u001B[43m        \u001B[49m\u001B[43mcolorbar\u001B[49m\u001B[38;5;241;43m=\u001B[39;49m\u001B[38;5;28;43;01mFalse\u001B[39;49;00m\u001B[43m,\u001B[49m\n\u001B[1;32m     14\u001B[0m \u001B[43m        \u001B[49m\u001B[43mshow_names\u001B[49m\u001B[38;5;241;43m=\u001B[39;49m\u001B[38;5;28;43;01mFalse\u001B[39;49;00m\u001B[43m,\u001B[49m\n\u001B[1;32m     15\u001B[0m \u001B[43m        \u001B[49m\u001B[43maxes\u001B[49m\u001B[38;5;241;43m=\u001B[39;49m\u001B[43maxes\u001B[49m\u001B[43m[\u001B[49m\u001B[43mii\u001B[49m\u001B[43m]\u001B[49m\u001B[43m,\u001B[49m\n\u001B[1;32m     16\u001B[0m \u001B[43m        \u001B[49m\u001B[43mshow\u001B[49m\u001B[38;5;241;43m=\u001B[39;49m\u001B[38;5;28;43;01mFalse\u001B[39;49;00m\u001B[43m,\u001B[49m\n\u001B[1;32m     17\u001B[0m \u001B[43m    \u001B[49m\u001B[43m)\u001B[49m\n\u001B[1;32m     18\u001B[0m     axes[ii, \u001B[38;5;241m0\u001B[39m]\u001B[38;5;241m.\u001B[39mset(ylabel\u001B[38;5;241m=\u001B[39mcur_class)\n\u001B[1;32m     19\u001B[0m fig\u001B[38;5;241m.\u001B[39mtight_layout(h_pad\u001B[38;5;241m=\u001B[39m\u001B[38;5;241m1.0\u001B[39m, w_pad\u001B[38;5;241m=\u001B[39m\u001B[38;5;241m1.0\u001B[39m, pad\u001B[38;5;241m=\u001B[39m\u001B[38;5;241m0.1\u001B[39m)\n",
      "File \u001B[0;32m~/work_projects/voting_system_platform/env_voting_system_platform/lib/python3.10/site-packages/mne/evoked.py:620\u001B[0m, in \u001B[0;36mEvoked.plot_topomap\u001B[0;34m(self, times, average, ch_type, scalings, proj, sensors, show_names, mask, mask_params, contours, outlines, sphere, image_interp, extrapolate, border, res, size, cmap, vlim, cnorm, colorbar, cbar_fmt, units, axes, time_unit, time_format, nrows, ncols, show)\u001B[0m\n\u001B[1;32m    586\u001B[0m \u001B[38;5;129m@copy_function_doc_to_method_doc\u001B[39m(plot_evoked_topomap)\n\u001B[1;32m    587\u001B[0m \u001B[38;5;28;01mdef\u001B[39;00m \u001B[38;5;21mplot_topomap\u001B[39m(\n\u001B[1;32m    588\u001B[0m     \u001B[38;5;28mself\u001B[39m,\n\u001B[0;32m   (...)\u001B[0m\n\u001B[1;32m    618\u001B[0m     show\u001B[38;5;241m=\u001B[39m\u001B[38;5;28;01mTrue\u001B[39;00m,\n\u001B[1;32m    619\u001B[0m ):\n\u001B[0;32m--> 620\u001B[0m     \u001B[38;5;28;01mreturn\u001B[39;00m \u001B[43mplot_evoked_topomap\u001B[49m\u001B[43m(\u001B[49m\n\u001B[1;32m    621\u001B[0m \u001B[43m        \u001B[49m\u001B[38;5;28;43mself\u001B[39;49m\u001B[43m,\u001B[49m\n\u001B[1;32m    622\u001B[0m \u001B[43m        \u001B[49m\u001B[43mtimes\u001B[49m\u001B[38;5;241;43m=\u001B[39;49m\u001B[43mtimes\u001B[49m\u001B[43m,\u001B[49m\n\u001B[1;32m    623\u001B[0m \u001B[43m        \u001B[49m\u001B[43mch_type\u001B[49m\u001B[38;5;241;43m=\u001B[39;49m\u001B[43mch_type\u001B[49m\u001B[43m,\u001B[49m\n\u001B[1;32m    624\u001B[0m \u001B[43m        \u001B[49m\u001B[43mvlim\u001B[49m\u001B[38;5;241;43m=\u001B[39;49m\u001B[43mvlim\u001B[49m\u001B[43m,\u001B[49m\n\u001B[1;32m    625\u001B[0m \u001B[43m        \u001B[49m\u001B[43mcmap\u001B[49m\u001B[38;5;241;43m=\u001B[39;49m\u001B[43mcmap\u001B[49m\u001B[43m,\u001B[49m\n\u001B[1;32m    626\u001B[0m \u001B[43m        \u001B[49m\u001B[43mcnorm\u001B[49m\u001B[38;5;241;43m=\u001B[39;49m\u001B[43mcnorm\u001B[49m\u001B[43m,\u001B[49m\n\u001B[1;32m    627\u001B[0m \u001B[43m        \u001B[49m\u001B[43msensors\u001B[49m\u001B[38;5;241;43m=\u001B[39;49m\u001B[43msensors\u001B[49m\u001B[43m,\u001B[49m\n\u001B[1;32m    628\u001B[0m \u001B[43m        \u001B[49m\u001B[43mcolorbar\u001B[49m\u001B[38;5;241;43m=\u001B[39;49m\u001B[43mcolorbar\u001B[49m\u001B[43m,\u001B[49m\n\u001B[1;32m    629\u001B[0m \u001B[43m        \u001B[49m\u001B[43mscalings\u001B[49m\u001B[38;5;241;43m=\u001B[39;49m\u001B[43mscalings\u001B[49m\u001B[43m,\u001B[49m\n\u001B[1;32m    630\u001B[0m \u001B[43m        \u001B[49m\u001B[43munits\u001B[49m\u001B[38;5;241;43m=\u001B[39;49m\u001B[43munits\u001B[49m\u001B[43m,\u001B[49m\n\u001B[1;32m    631\u001B[0m \u001B[43m        \u001B[49m\u001B[43mres\u001B[49m\u001B[38;5;241;43m=\u001B[39;49m\u001B[43mres\u001B[49m\u001B[43m,\u001B[49m\n\u001B[1;32m    632\u001B[0m \u001B[43m        \u001B[49m\u001B[43msize\u001B[49m\u001B[38;5;241;43m=\u001B[39;49m\u001B[43msize\u001B[49m\u001B[43m,\u001B[49m\n\u001B[1;32m    633\u001B[0m \u001B[43m        \u001B[49m\u001B[43mcbar_fmt\u001B[49m\u001B[38;5;241;43m=\u001B[39;49m\u001B[43mcbar_fmt\u001B[49m\u001B[43m,\u001B[49m\n\u001B[1;32m    634\u001B[0m \u001B[43m        \u001B[49m\u001B[43mtime_unit\u001B[49m\u001B[38;5;241;43m=\u001B[39;49m\u001B[43mtime_unit\u001B[49m\u001B[43m,\u001B[49m\n\u001B[1;32m    635\u001B[0m \u001B[43m        \u001B[49m\u001B[43mtime_format\u001B[49m\u001B[38;5;241;43m=\u001B[39;49m\u001B[43mtime_format\u001B[49m\u001B[43m,\u001B[49m\n\u001B[1;32m    636\u001B[0m \u001B[43m        \u001B[49m\u001B[43mproj\u001B[49m\u001B[38;5;241;43m=\u001B[39;49m\u001B[43mproj\u001B[49m\u001B[43m,\u001B[49m\n\u001B[1;32m    637\u001B[0m \u001B[43m        \u001B[49m\u001B[43mshow\u001B[49m\u001B[38;5;241;43m=\u001B[39;49m\u001B[43mshow\u001B[49m\u001B[43m,\u001B[49m\n\u001B[1;32m    638\u001B[0m \u001B[43m        \u001B[49m\u001B[43mshow_names\u001B[49m\u001B[38;5;241;43m=\u001B[39;49m\u001B[43mshow_names\u001B[49m\u001B[43m,\u001B[49m\n\u001B[1;32m    639\u001B[0m \u001B[43m        \u001B[49m\u001B[43mmask\u001B[49m\u001B[38;5;241;43m=\u001B[39;49m\u001B[43mmask\u001B[49m\u001B[43m,\u001B[49m\n\u001B[1;32m    640\u001B[0m \u001B[43m        \u001B[49m\u001B[43mmask_params\u001B[49m\u001B[38;5;241;43m=\u001B[39;49m\u001B[43mmask_params\u001B[49m\u001B[43m,\u001B[49m\n\u001B[1;32m    641\u001B[0m \u001B[43m        \u001B[49m\u001B[43moutlines\u001B[49m\u001B[38;5;241;43m=\u001B[39;49m\u001B[43moutlines\u001B[49m\u001B[43m,\u001B[49m\n\u001B[1;32m    642\u001B[0m \u001B[43m        \u001B[49m\u001B[43mcontours\u001B[49m\u001B[38;5;241;43m=\u001B[39;49m\u001B[43mcontours\u001B[49m\u001B[43m,\u001B[49m\n\u001B[1;32m    643\u001B[0m \u001B[43m        \u001B[49m\u001B[43mimage_interp\u001B[49m\u001B[38;5;241;43m=\u001B[39;49m\u001B[43mimage_interp\u001B[49m\u001B[43m,\u001B[49m\n\u001B[1;32m    644\u001B[0m \u001B[43m        \u001B[49m\u001B[43maverage\u001B[49m\u001B[38;5;241;43m=\u001B[39;49m\u001B[43maverage\u001B[49m\u001B[43m,\u001B[49m\n\u001B[1;32m    645\u001B[0m \u001B[43m        \u001B[49m\u001B[43maxes\u001B[49m\u001B[38;5;241;43m=\u001B[39;49m\u001B[43maxes\u001B[49m\u001B[43m,\u001B[49m\n\u001B[1;32m    646\u001B[0m \u001B[43m        \u001B[49m\u001B[43mextrapolate\u001B[49m\u001B[38;5;241;43m=\u001B[39;49m\u001B[43mextrapolate\u001B[49m\u001B[43m,\u001B[49m\n\u001B[1;32m    647\u001B[0m \u001B[43m        \u001B[49m\u001B[43msphere\u001B[49m\u001B[38;5;241;43m=\u001B[39;49m\u001B[43msphere\u001B[49m\u001B[43m,\u001B[49m\n\u001B[1;32m    648\u001B[0m \u001B[43m        \u001B[49m\u001B[43mborder\u001B[49m\u001B[38;5;241;43m=\u001B[39;49m\u001B[43mborder\u001B[49m\u001B[43m,\u001B[49m\n\u001B[1;32m    649\u001B[0m \u001B[43m        \u001B[49m\u001B[43mnrows\u001B[49m\u001B[38;5;241;43m=\u001B[39;49m\u001B[43mnrows\u001B[49m\u001B[43m,\u001B[49m\n\u001B[1;32m    650\u001B[0m \u001B[43m        \u001B[49m\u001B[43mncols\u001B[49m\u001B[38;5;241;43m=\u001B[39;49m\u001B[43mncols\u001B[49m\u001B[43m,\u001B[49m\n\u001B[1;32m    651\u001B[0m \u001B[43m    \u001B[49m\u001B[43m)\u001B[49m\n",
      "File \u001B[0;32m~/work_projects/voting_system_platform/env_voting_system_platform/lib/python3.10/site-packages/mne/viz/topomap.py:2090\u001B[0m, in \u001B[0;36mplot_evoked_topomap\u001B[0;34m(***failed resolving arguments***)\u001B[0m\n\u001B[1;32m   2080\u001B[0m mask_params[\u001B[38;5;124m\"\u001B[39m\u001B[38;5;124mmarkeredgewidth\u001B[39m\u001B[38;5;124m\"\u001B[39m] \u001B[38;5;241m*\u001B[39m\u001B[38;5;241m=\u001B[39m size \u001B[38;5;241m/\u001B[39m \u001B[38;5;241m2.0\u001B[39m\n\u001B[1;32m   2081\u001B[0m \u001B[38;5;66;03m# setup various parameters, and prepare outlines\u001B[39;00m\n\u001B[1;32m   2082\u001B[0m (\n\u001B[1;32m   2083\u001B[0m     picks,\n\u001B[1;32m   2084\u001B[0m     pos,\n\u001B[1;32m   2085\u001B[0m     merge_channels,\n\u001B[1;32m   2086\u001B[0m     names,\n\u001B[1;32m   2087\u001B[0m     ch_type,\n\u001B[1;32m   2088\u001B[0m     sphere,\n\u001B[1;32m   2089\u001B[0m     clip_origin,\n\u001B[0;32m-> 2090\u001B[0m ) \u001B[38;5;241m=\u001B[39m \u001B[43m_prepare_topomap_plot\u001B[49m\u001B[43m(\u001B[49m\u001B[43mevoked\u001B[49m\u001B[43m,\u001B[49m\u001B[43m \u001B[49m\u001B[43mch_type\u001B[49m\u001B[43m,\u001B[49m\u001B[43m \u001B[49m\u001B[43msphere\u001B[49m\u001B[38;5;241;43m=\u001B[39;49m\u001B[43msphere\u001B[49m\u001B[43m)\u001B[49m\n\u001B[1;32m   2091\u001B[0m outlines \u001B[38;5;241m=\u001B[39m _make_head_outlines(sphere, pos, outlines, clip_origin)\n\u001B[1;32m   2092\u001B[0m \u001B[38;5;66;03m# check interactive\u001B[39;00m\n",
      "File \u001B[0;32m~/work_projects/voting_system_platform/env_voting_system_platform/lib/python3.10/site-packages/mne/viz/topomap.py:126\u001B[0m, in \u001B[0;36m_prepare_topomap_plot\u001B[0;34m(inst, ch_type, sphere)\u001B[0m\n\u001B[1;32m    123\u001B[0m info\u001B[38;5;241m.\u001B[39m_check_consistency()\n\u001B[1;32m    125\u001B[0m \u001B[38;5;66;03m# special case for merging grad channels\u001B[39;00m\n\u001B[0;32m--> 126\u001B[0m layout \u001B[38;5;241m=\u001B[39m \u001B[43mfind_layout\u001B[49m\u001B[43m(\u001B[49m\u001B[43minfo\u001B[49m\u001B[43m)\u001B[49m\n\u001B[1;32m    127\u001B[0m \u001B[38;5;28;01mif\u001B[39;00m (\n\u001B[1;32m    128\u001B[0m     ch_type \u001B[38;5;241m==\u001B[39m \u001B[38;5;124m\"\u001B[39m\u001B[38;5;124mgrad\u001B[39m\u001B[38;5;124m\"\u001B[39m\n\u001B[1;32m    129\u001B[0m     \u001B[38;5;129;01mand\u001B[39;00m layout \u001B[38;5;129;01mis\u001B[39;00m \u001B[38;5;129;01mnot\u001B[39;00m \u001B[38;5;28;01mNone\u001B[39;00m\n\u001B[0;32m   (...)\u001B[0m\n\u001B[1;32m    133\u001B[0m     )\n\u001B[1;32m    134\u001B[0m ):\n\u001B[1;32m    135\u001B[0m     picks, _ \u001B[38;5;241m=\u001B[39m _pair_grad_sensors(info, layout)\n",
      "File \u001B[0;32m~/work_projects/voting_system_platform/env_voting_system_platform/lib/python3.10/site-packages/mne/channels/layout.py:506\u001B[0m, in \u001B[0;36mfind_layout\u001B[0;34m(info, ch_type, exclude)\u001B[0m\n\u001B[1;32m    501\u001B[0m     \u001B[38;5;28;01mif\u001B[39;00m \u001B[38;5;129;01mnot\u001B[39;00m \u001B[38;5;28misinstance\u001B[39m(info, (\u001B[38;5;28mdict\u001B[39m, Info)):\n\u001B[1;32m    502\u001B[0m         \u001B[38;5;28;01mraise\u001B[39;00m \u001B[38;5;167;01mRuntimeError\u001B[39;00m(\n\u001B[1;32m    503\u001B[0m             \u001B[38;5;124m\"\u001B[39m\u001B[38;5;124mCannot make EEG layout, no measurement info \u001B[39m\u001B[38;5;124m\"\u001B[39m\n\u001B[1;32m    504\u001B[0m             \u001B[38;5;124m\"\u001B[39m\u001B[38;5;124mwas passed to `find_layout`\u001B[39m\u001B[38;5;124m\"\u001B[39m\n\u001B[1;32m    505\u001B[0m         )\n\u001B[0;32m--> 506\u001B[0m     \u001B[38;5;28;01mreturn\u001B[39;00m \u001B[43mmake_eeg_layout\u001B[49m\u001B[43m(\u001B[49m\u001B[43minfo\u001B[49m\u001B[43m,\u001B[49m\u001B[43m \u001B[49m\u001B[43mexclude\u001B[49m\u001B[38;5;241;43m=\u001B[39;49m\u001B[43mexclude\u001B[49m\u001B[43m)\u001B[49m\n\u001B[1;32m    507\u001B[0m \u001B[38;5;28;01melif\u001B[39;00m has_csd_coils \u001B[38;5;129;01mand\u001B[39;00m ch_type \u001B[38;5;129;01min\u001B[39;00m [\u001B[38;5;28;01mNone\u001B[39;00m, \u001B[38;5;124m\"\u001B[39m\u001B[38;5;124mcsd\u001B[39m\u001B[38;5;124m\"\u001B[39m]:\n\u001B[1;32m    508\u001B[0m     \u001B[38;5;28;01mreturn\u001B[39;00m make_eeg_layout(info, exclude\u001B[38;5;241m=\u001B[39mexclude, csd\u001B[38;5;241m=\u001B[39m\u001B[38;5;28;01mTrue\u001B[39;00m)\n",
      "File \u001B[0;32m~/work_projects/voting_system_platform/env_voting_system_platform/lib/python3.10/site-packages/mne/channels/layout.py:326\u001B[0m, in \u001B[0;36mmake_eeg_layout\u001B[0;34m(info, radius, width, height, exclude, csd)\u001B[0m\n\u001B[1;32m    324\u001B[0m     pick_kwargs\u001B[38;5;241m.\u001B[39mupdate(csd\u001B[38;5;241m=\u001B[39m\u001B[38;5;28;01mTrue\u001B[39;00m, eeg\u001B[38;5;241m=\u001B[39m\u001B[38;5;28;01mFalse\u001B[39;00m)\n\u001B[1;32m    325\u001B[0m picks \u001B[38;5;241m=\u001B[39m pick_types(info, \u001B[38;5;241m*\u001B[39m\u001B[38;5;241m*\u001B[39mpick_kwargs)\n\u001B[0;32m--> 326\u001B[0m loc2d \u001B[38;5;241m=\u001B[39m \u001B[43m_find_topomap_coords\u001B[49m\u001B[43m(\u001B[49m\u001B[43minfo\u001B[49m\u001B[43m,\u001B[49m\u001B[43m \u001B[49m\u001B[43mpicks\u001B[49m\u001B[43m)\u001B[49m\n\u001B[1;32m    327\u001B[0m names \u001B[38;5;241m=\u001B[39m [info[\u001B[38;5;124m\"\u001B[39m\u001B[38;5;124mchs\u001B[39m\u001B[38;5;124m\"\u001B[39m][i][\u001B[38;5;124m\"\u001B[39m\u001B[38;5;124mch_name\u001B[39m\u001B[38;5;124m\"\u001B[39m] \u001B[38;5;28;01mfor\u001B[39;00m i \u001B[38;5;129;01min\u001B[39;00m picks]\n\u001B[1;32m    329\u001B[0m \u001B[38;5;66;03m# Scale [x, y] to be in the range [-0.5, 0.5]\u001B[39;00m\n\u001B[1;32m    330\u001B[0m \u001B[38;5;66;03m# Don't mess with the origin or aspect ratio\u001B[39;00m\n",
      "File \u001B[0;32m~/work_projects/voting_system_platform/env_voting_system_platform/lib/python3.10/site-packages/mne/channels/layout.py:738\u001B[0m, in \u001B[0;36m_find_topomap_coords\u001B[0;34m(info, picks, layout, ignore_overlap, to_sphere, sphere)\u001B[0m\n\u001B[1;32m    736\u001B[0m     pos \u001B[38;5;241m=\u001B[39m np\u001B[38;5;241m.\u001B[39masarray(pos)\n\u001B[1;32m    737\u001B[0m \u001B[38;5;28;01melse\u001B[39;00m:\n\u001B[0;32m--> 738\u001B[0m     pos \u001B[38;5;241m=\u001B[39m \u001B[43m_auto_topomap_coords\u001B[49m\u001B[43m(\u001B[49m\n\u001B[1;32m    739\u001B[0m \u001B[43m        \u001B[49m\u001B[43minfo\u001B[49m\u001B[43m,\u001B[49m\n\u001B[1;32m    740\u001B[0m \u001B[43m        \u001B[49m\u001B[43mpicks\u001B[49m\u001B[43m,\u001B[49m\n\u001B[1;32m    741\u001B[0m \u001B[43m        \u001B[49m\u001B[43mignore_overlap\u001B[49m\u001B[38;5;241;43m=\u001B[39;49m\u001B[43mignore_overlap\u001B[49m\u001B[43m,\u001B[49m\n\u001B[1;32m    742\u001B[0m \u001B[43m        \u001B[49m\u001B[43mto_sphere\u001B[49m\u001B[38;5;241;43m=\u001B[39;49m\u001B[43mto_sphere\u001B[49m\u001B[43m,\u001B[49m\n\u001B[1;32m    743\u001B[0m \u001B[43m        \u001B[49m\u001B[43msphere\u001B[49m\u001B[38;5;241;43m=\u001B[39;49m\u001B[43msphere\u001B[49m\u001B[43m,\u001B[49m\n\u001B[1;32m    744\u001B[0m \u001B[43m    \u001B[49m\u001B[43m)\u001B[49m\n\u001B[1;32m    746\u001B[0m \u001B[38;5;28;01mreturn\u001B[39;00m pos\n",
      "File \u001B[0;32m~/work_projects/voting_system_platform/env_voting_system_platform/lib/python3.10/site-packages/mne/channels/layout.py:813\u001B[0m, in \u001B[0;36m_auto_topomap_coords\u001B[0;34m(info, picks, ignore_overlap, to_sphere, sphere)\u001B[0m\n\u001B[1;32m    811\u001B[0m \u001B[38;5;66;03m# Get EEG digitization points\u001B[39;00m\n\u001B[1;32m    812\u001B[0m \u001B[38;5;28;01mif\u001B[39;00m info[\u001B[38;5;124m\"\u001B[39m\u001B[38;5;124mdig\u001B[39m\u001B[38;5;124m\"\u001B[39m] \u001B[38;5;129;01mis\u001B[39;00m \u001B[38;5;28;01mNone\u001B[39;00m \u001B[38;5;129;01mor\u001B[39;00m \u001B[38;5;28mlen\u001B[39m(info[\u001B[38;5;124m\"\u001B[39m\u001B[38;5;124mdig\u001B[39m\u001B[38;5;124m\"\u001B[39m]) \u001B[38;5;241m==\u001B[39m \u001B[38;5;241m0\u001B[39m:\n\u001B[0;32m--> 813\u001B[0m     \u001B[38;5;28;01mraise\u001B[39;00m \u001B[38;5;167;01mRuntimeError\u001B[39;00m(\u001B[38;5;124m\"\u001B[39m\u001B[38;5;124mNo digitization points found.\u001B[39m\u001B[38;5;124m\"\u001B[39m)\n\u001B[1;32m    815\u001B[0m locs3d \u001B[38;5;241m=\u001B[39m np\u001B[38;5;241m.\u001B[39marray(\n\u001B[1;32m    816\u001B[0m     [\n\u001B[1;32m    817\u001B[0m         point[\u001B[38;5;124m\"\u001B[39m\u001B[38;5;124mr\u001B[39m\u001B[38;5;124m\"\u001B[39m]\n\u001B[0;32m   (...)\u001B[0m\n\u001B[1;32m    820\u001B[0m     ]\n\u001B[1;32m    821\u001B[0m )\n\u001B[1;32m    823\u001B[0m \u001B[38;5;28;01mif\u001B[39;00m \u001B[38;5;28mlen\u001B[39m(locs3d) \u001B[38;5;241m==\u001B[39m \u001B[38;5;241m0\u001B[39m:\n",
      "\u001B[0;31mRuntimeError\u001B[0m: No digitization points found."
     ]
    },
    {
     "data": {
      "text/plain": "<Figure size 300x800 with 12 Axes>",
      "image/png": "[encoded data removed]"
     },
     "metadata": {},
     "output_type": "display_data"
    }
   ],
   "source": [
    "fig, axes = plt.subplots(\n",
    "    nrows=len(event_id), ncols=n_filter, figsize=(n_filter, len(event_id) * 2)\n",
    ")\n",
    "fitted_xdawn = clf.steps[0][1]\n",
    "info = create_info(epochs.ch_names, 1, epochs.get_channel_types())\n",
    "info.set_montage(epochs.get_montage())\n",
    "for ii, cur_class in enumerate(sorted(event_id)):\n",
    "    cur_patterns = fitted_xdawn.patterns_[cur_class]\n",
    "    pattern_evoked = EvokedArray(cur_patterns[:n_filter].T, info, tmin=0)\n",
    "    pattern_evoked.plot_topomap(\n",
    "        times=np.arange(n_filter),\n",
    "        time_format=\"Component %d\" if ii == 0 else \"\",\n",
    "        colorbar=False,\n",
    "        show_names=False,\n",
    "        axes=axes[ii],\n",
    "        show=False,\n",
    "    )\n",
    "    axes[ii, 0].set(ylabel=cur_class)\n",
    "fig.tight_layout(h_pad=1.0, w_pad=1.0, pad=0.1)"
   ]
  },
  {
   "cell_type": "markdown",
   "metadata": {},
   "source": [
    "## References\n",
    ".. footbibliography::\n",
    "\n"
   ]
  }
 ],
 "metadata": {
  "kernelspec": {
   "display_name": "Python 3",
   "language": "python",
   "name": "python3"
  },
  "language_info": {
   "codemirror_mode": {
    "name": "ipython",
    "version": 3
   },
   "file_extension": ".py",
   "mimetype": "text/x-python",
   "name": "python",
   "nbconvert_exporter": "python",
   "pygments_lexer": "ipython3",
   "version": "3.10.12"
  }
 },
 "nbformat": 4,
 "nbformat_minor": 0
}
